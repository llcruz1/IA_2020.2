{
  "nbformat": 4,
  "nbformat_minor": 0,
  "metadata": {
    "colab": {
      "name": "T4.ipynb",
      "provenance": [],
      "collapsed_sections": [],
      "toc_visible": true
    },
    "kernelspec": {
      "name": "python3",
      "display_name": "Python 3"
    },
    "language_info": {
      "name": "python"
    }
  },
  "cells": [
    {
      "cell_type": "markdown",
      "metadata": {
        "id": "2DZJNlJQo6c3"
      },
      "source": [
        "# Instalação"
      ]
    },
    {
      "cell_type": "code",
      "metadata": {
        "id": "u3tefBGWMeGC",
        "colab": {
          "base_uri": "https://localhost:8080/"
        },
        "outputId": "5390e7d9-054a-455e-9b42-5e188380f26e"
      },
      "source": [
        "!pip install pgmpy"
      ],
      "execution_count": 41,
      "outputs": [
        {
          "output_type": "stream",
          "text": [
            "Requirement already satisfied: pgmpy in /usr/local/lib/python3.7/dist-packages (0.1.14)\n",
            "Requirement already satisfied: torch in /usr/local/lib/python3.7/dist-packages (from pgmpy) (1.8.1+cu101)\n",
            "Requirement already satisfied: pyparsing in /usr/local/lib/python3.7/dist-packages (from pgmpy) (2.4.7)\n",
            "Requirement already satisfied: scipy in /usr/local/lib/python3.7/dist-packages (from pgmpy) (1.4.1)\n",
            "Requirement already satisfied: numpy in /usr/local/lib/python3.7/dist-packages (from pgmpy) (1.19.5)\n",
            "Requirement already satisfied: pandas in /usr/local/lib/python3.7/dist-packages (from pgmpy) (1.1.5)\n",
            "Requirement already satisfied: tqdm in /usr/local/lib/python3.7/dist-packages (from pgmpy) (4.41.1)\n",
            "Requirement already satisfied: scikit-learn in /usr/local/lib/python3.7/dist-packages (from pgmpy) (0.22.2.post1)\n",
            "Requirement already satisfied: statsmodels in /usr/local/lib/python3.7/dist-packages (from pgmpy) (0.10.2)\n",
            "Requirement already satisfied: joblib in /usr/local/lib/python3.7/dist-packages (from pgmpy) (1.0.1)\n",
            "Requirement already satisfied: networkx in /usr/local/lib/python3.7/dist-packages (from pgmpy) (2.5.1)\n",
            "Requirement already satisfied: typing-extensions in /usr/local/lib/python3.7/dist-packages (from torch->pgmpy) (3.7.4.3)\n",
            "Requirement already satisfied: python-dateutil>=2.7.3 in /usr/local/lib/python3.7/dist-packages (from pandas->pgmpy) (2.8.1)\n",
            "Requirement already satisfied: pytz>=2017.2 in /usr/local/lib/python3.7/dist-packages (from pandas->pgmpy) (2018.9)\n",
            "Requirement already satisfied: patsy>=0.4.0 in /usr/local/lib/python3.7/dist-packages (from statsmodels->pgmpy) (0.5.1)\n",
            "Requirement already satisfied: decorator<5,>=4.3 in /usr/local/lib/python3.7/dist-packages (from networkx->pgmpy) (4.4.2)\n",
            "Requirement already satisfied: six>=1.5 in /usr/local/lib/python3.7/dist-packages (from python-dateutil>=2.7.3->pandas->pgmpy) (1.15.0)\n"
          ],
          "name": "stdout"
        }
      ]
    },
    {
      "cell_type": "code",
      "metadata": {
        "id": "93H4UJcRZmR5",
        "colab": {
          "base_uri": "https://localhost:8080/"
        },
        "outputId": "630c9df0-76aa-4203-d9d2-7d47fa417973"
      },
      "source": [
        "!pip install networkx"
      ],
      "execution_count": 42,
      "outputs": [
        {
          "output_type": "stream",
          "text": [
            "Requirement already satisfied: networkx in /usr/local/lib/python3.7/dist-packages (2.5.1)\n",
            "Requirement already satisfied: decorator<5,>=4.3 in /usr/local/lib/python3.7/dist-packages (from networkx) (4.4.2)\n"
          ],
          "name": "stdout"
        }
      ]
    },
    {
      "cell_type": "markdown",
      "metadata": {
        "id": "bF2jTCJux3YF"
      },
      "source": [
        "# Inferência Exata"
      ]
    },
    {
      "cell_type": "markdown",
      "metadata": {
        "id": "L6reop9U9CN_"
      },
      "source": [
        "## Estudo de caso: Rede Bayesiana para Sintomas\n",
        "\n",
        "Seguindo o enunciado, as variáveis definidas para o caso a ser estudado são da forma:\n",
        "\n",
        "Variável | Tipo | Valores\n",
        "---      | ---  | ---\n",
        "G | Binária | {+g, g}\n",
        "A   | Binária | {+a, -a}\n",
        "B    | Binária | {+b, -b}\n",
        "S  | Binária | {+s, -s}\n",
        "\n",
        "\n"
      ]
    },
    {
      "cell_type": "markdown",
      "metadata": {
        "id": "ISLsIPUa0gpY"
      },
      "source": [
        "### Construção da Rede Bayesiana\n",
        "Construindo uma Rede Bayesiana com as variáveis fornecidas no enunciado, com os nós definidos em ordem topológica:\n",
        "\n",
        "\n"
      ]
    },
    {
      "cell_type": "code",
      "metadata": {
        "id": "aV6cXHN402P0"
      },
      "source": [
        "from pgmpy.models import BayesianModel\n",
        "\n",
        "symptom_model = BayesianModel([('G', 'A'), \n",
        "                               ('A', 'S'),\n",
        "                               ('B', 'S')])"
      ],
      "execution_count": 43,
      "outputs": []
    },
    {
      "cell_type": "markdown",
      "metadata": {
        "id": "NP5k2Bx43u1H"
      },
      "source": [
        "## Grafo Acíclico Dirigido (DAG)\n",
        "Agora criando um Grafo Acíclico Dirigido para visualização da rede bayesiana:"
      ]
    },
    {
      "cell_type": "code",
      "metadata": {
        "colab": {
          "base_uri": "https://localhost:8080/",
          "height": 319
        },
        "id": "WY4fM49x32n6",
        "outputId": "612e84ea-fb84-4227-f0f6-cf2adc4b7b4f"
      },
      "source": [
        "import networkx as nx\n",
        "import matplotlib.pyplot as plt\n",
        "\n",
        "nx.draw(symptom_model, with_labels = True); \n",
        "plt.show()"
      ],
      "execution_count": 44,
      "outputs": [
        {
          "output_type": "display_data",
          "data": {
            "image/png": "[encoded data removed]",
            "text/plain": [
              "<Figure size 432x288 with 1 Axes>"
            ]
          },
          "metadata": {
            "tags": []
          }
        }
      ]
    },
    {
      "cell_type": "markdown",
      "metadata": {
        "id": "KTJ7H6p15eAG"
      },
      "source": [
        "## Distribuições de Probabilidade Condicional\n",
        "\n",
        "Agora, vamos especificar as Distribuições de Probabilidade Condicional para as variáveis da rede, de acordo com os valores fornecidos no enunciado:"
      ]
    },
    {
      "cell_type": "code",
      "metadata": {
        "id": "TViKvifF6qD3"
      },
      "source": [
        "from pgmpy.factors.discrete import TabularCPD\n",
        "\n",
        "cpd_G = TabularCPD( variable='G', \n",
        "                    variable_card=2,\n",
        "                    values=[[0.1], [0.9]],\n",
        "                    state_names={'G': ['+g', '-g']}\n",
        "                  )\n",
        "\n",
        "cpd_A = TabularCPD( variable='A', \n",
        "                    variable_card=2,\n",
        "                    values=[[1.0, 0.1],\n",
        "                            [0.0, 0.9]\n",
        "                           ],\n",
        "                    state_names={ 'A': ['+a', '-a'],\n",
        "                                  'G': ['+g', '-g']                                          \n",
        "                                },\n",
        "                    evidence=['G'], \n",
        "                    evidence_card=[2]\n",
        "                  )\n",
        "\n",
        "cpd_B = TabularCPD( variable='B', \n",
        "                    variable_card=2,\n",
        "                    values=[[0.4], [0.6]],\n",
        "                    state_names={'B': ['+b', '-b']}\n",
        "                  )\n",
        "\n",
        "cpd_S = TabularCPD( variable='S', \n",
        "                    variable_card=2,\n",
        "                    values=[[1.0, 0.9, 0.8, 0.1],\n",
        "                            [0.0, 0.1, 0.2, 0.9]\n",
        "                           ],\n",
        "                    state_names={ 'S': ['+s', '-s'],\n",
        "                                  'A': ['+a', '-a'],\n",
        "                                  'B': ['+b', '-b'],\n",
        "                                },\n",
        "                    evidence=['A', 'B'], \n",
        "                    evidence_card=[2,2]\n",
        "                   )"
      ],
      "execution_count": 45,
      "outputs": []
    },
    {
      "cell_type": "markdown",
      "metadata": {
        "id": "Xdwp_4f3aUAc"
      },
      "source": [
        "Adicionando cada CPD a sua variável correspondente no grafo da Rede Bayesiana:"
      ]
    },
    {
      "cell_type": "code",
      "metadata": {
        "id": "FFTFSdl6azSS"
      },
      "source": [
        "symptom_model.add_cpds(cpd_G, cpd_A, cpd_B, cpd_S)"
      ],
      "execution_count": 46,
      "outputs": []
    },
    {
      "cell_type": "markdown",
      "metadata": {
        "id": "IBifTLwCa9Rr"
      },
      "source": [
        "Verificando sintáticamente a rede bayesiana:"
      ]
    },
    {
      "cell_type": "code",
      "metadata": {
        "colab": {
          "base_uri": "https://localhost:8080/"
        },
        "id": "ew6XivCia8VD",
        "outputId": "9f2ec685-bfb1-4a3e-d0db-d764671788e4"
      },
      "source": [
        "symptom_model.check_model()"
      ],
      "execution_count": 47,
      "outputs": [
        {
          "output_type": "execute_result",
          "data": {
            "text/plain": [
              "True"
            ]
          },
          "metadata": {
            "tags": []
          },
          "execution_count": 47
        }
      ]
    },
    {
      "cell_type": "markdown",
      "metadata": {
        "id": "YsHMxlUObMA0"
      },
      "source": [
        "## Realizando Inferências\n",
        "\n",
        "Agora podemos realizar inferências sobre o modelo construído."
      ]
    },
    {
      "cell_type": "code",
      "metadata": {
        "id": "dsNj4RcfgTWb"
      },
      "source": [
        "from pgmpy.inference import VariableElimination"
      ],
      "execution_count": 48,
      "outputs": []
    },
    {
      "cell_type": "code",
      "metadata": {
        "id": "UmTYNPXIgVBT"
      },
      "source": [
        "symptom_infer = VariableElimination(symptom_model)"
      ],
      "execution_count": 49,
      "outputs": []
    },
    {
      "cell_type": "markdown",
      "metadata": {
        "id": "S-qUmyloet6_"
      },
      "source": [
        "$\\ i. Pr(+g, +a, +b, +s) = 0.04$\n",
        "\n",
        "\n",
        "\n"
      ]
    },
    {
      "cell_type": "code",
      "metadata": {
        "colab": {
          "base_uri": "https://localhost:8080/"
        },
        "id": "nTSCKcL9AIgF",
        "outputId": "065d7b3f-eef6-448d-9f7f-0646581f1107"
      },
      "source": [
        "joint = symptom_infer.query(variables=['G', 'A', 'B', 'S'])\n",
        "print(joint)"
      ],
      "execution_count": 50,
      "outputs": [
        {
          "output_type": "stream",
          "text": [
            "Finding Elimination Order: : : 0it [00:00, ?it/s]\n",
            "0it [00:00, ?it/s]"
          ],
          "name": "stderr"
        },
        {
          "output_type": "stream",
          "text": [
            "+-------+-------+-------+-------+----------------+\n",
            "| B     | G     | A     | S     |   phi(B,G,A,S) |\n",
            "+=======+=======+=======+=======+================+\n",
            "| B(+b) | G(+g) | A(+a) | S(+s) |         0.0400 |\n",
            "+-------+-------+-------+-------+----------------+\n",
            "| B(+b) | G(+g) | A(+a) | S(-s) |         0.0000 |\n",
            "+-------+-------+-------+-------+----------------+\n",
            "| B(+b) | G(+g) | A(-a) | S(+s) |         0.0000 |\n",
            "+-------+-------+-------+-------+----------------+\n",
            "| B(+b) | G(+g) | A(-a) | S(-s) |         0.0000 |\n",
            "+-------+-------+-------+-------+----------------+\n",
            "| B(+b) | G(-g) | A(+a) | S(+s) |         0.0360 |\n",
            "+-------+-------+-------+-------+----------------+\n",
            "| B(+b) | G(-g) | A(+a) | S(-s) |         0.0000 |\n",
            "+-------+-------+-------+-------+----------------+\n",
            "| B(+b) | G(-g) | A(-a) | S(+s) |         0.2592 |\n",
            "+-------+-------+-------+-------+----------------+\n",
            "| B(+b) | G(-g) | A(-a) | S(-s) |         0.0648 |\n",
            "+-------+-------+-------+-------+----------------+\n",
            "| B(-b) | G(+g) | A(+a) | S(+s) |         0.0540 |\n",
            "+-------+-------+-------+-------+----------------+\n",
            "| B(-b) | G(+g) | A(+a) | S(-s) |         0.0060 |\n",
            "+-------+-------+-------+-------+----------------+\n",
            "| B(-b) | G(+g) | A(-a) | S(+s) |         0.0000 |\n",
            "+-------+-------+-------+-------+----------------+\n",
            "| B(-b) | G(+g) | A(-a) | S(-s) |         0.0000 |\n",
            "+-------+-------+-------+-------+----------------+\n",
            "| B(-b) | G(-g) | A(+a) | S(+s) |         0.0486 |\n",
            "+-------+-------+-------+-------+----------------+\n",
            "| B(-b) | G(-g) | A(+a) | S(-s) |         0.0054 |\n",
            "+-------+-------+-------+-------+----------------+\n",
            "| B(-b) | G(-g) | A(-a) | S(+s) |         0.0486 |\n",
            "+-------+-------+-------+-------+----------------+\n",
            "| B(-b) | G(-g) | A(-a) | S(-s) |         0.4374 |\n",
            "+-------+-------+-------+-------+----------------+\n"
          ],
          "name": "stdout"
        },
        {
          "output_type": "stream",
          "text": [
            "\n"
          ],
          "name": "stderr"
        }
      ]
    },
    {
      "cell_type": "markdown",
      "metadata": {
        "id": "T1EcyfLLl498"
      },
      "source": [
        " $\\ ii. Pr(+a) = 0.19$"
      ]
    },
    {
      "cell_type": "code",
      "metadata": {
        "colab": {
          "base_uri": "https://localhost:8080/"
        },
        "id": "kiazH6JOot4s",
        "outputId": "ee856b4a-fb35-4b2f-b81d-49e264097eba"
      },
      "source": [
        "prob = symptom_infer.query(variables=['A'])\n",
        "print(prob)"
      ],
      "execution_count": 51,
      "outputs": [
        {
          "output_type": "stream",
          "text": [
            "Finding Elimination Order: : 100%|██████████| 3/3 [00:00<00:00, 1375.18it/s]\n",
            "Eliminating: B: 100%|██████████| 3/3 [00:00<00:00, 349.46it/s]"
          ],
          "name": "stderr"
        },
        {
          "output_type": "stream",
          "text": [
            "+-------+----------+\n",
            "| A     |   phi(A) |\n",
            "+=======+==========+\n",
            "| A(+a) |   0.1900 |\n",
            "+-------+----------+\n",
            "| A(-a) |   0.8100 |\n",
            "+-------+----------+\n"
          ],
          "name": "stdout"
        },
        {
          "output_type": "stream",
          "text": [
            "\n"
          ],
          "name": "stderr"
        }
      ]
    },
    {
      "cell_type": "markdown",
      "metadata": {
        "id": "TvkUd6GbrFkd"
      },
      "source": [
        "$\\ iii. Pr(+a \\mid +b) = 0.19 $\n",
        "\n",
        "\n",
        "As variáveis A e B são independentes, logo o valor da probabilidade é $P(A=+a)$"
      ]
    },
    {
      "cell_type": "code",
      "metadata": {
        "colab": {
          "base_uri": "https://localhost:8080/"
        },
        "id": "mfQfKC2frbiU",
        "outputId": "aaa5e7c6-6292-4473-9f5d-7a07ea3ee9c3"
      },
      "source": [
        "prob = symptom_infer.query(variables=['A'], evidence = {'B' : '+b'})\n",
        "print(prob)"
      ],
      "execution_count": 52,
      "outputs": [
        {
          "output_type": "stream",
          "text": [
            "Finding Elimination Order: : 100%|██████████| 2/2 [00:00<00:00, 803.89it/s]\n",
            "Eliminating: G: 100%|██████████| 2/2 [00:00<00:00, 338.15it/s]"
          ],
          "name": "stderr"
        },
        {
          "output_type": "stream",
          "text": [
            "+-------+----------+\n",
            "| A     |   phi(A) |\n",
            "+=======+==========+\n",
            "| A(+a) |   0.1900 |\n",
            "+-------+----------+\n",
            "| A(-a) |   0.8100 |\n",
            "+-------+----------+\n"
          ],
          "name": "stdout"
        },
        {
          "output_type": "stream",
          "text": [
            "\n"
          ],
          "name": "stderr"
        }
      ]
    },
    {
      "cell_type": "markdown",
      "metadata": {
        "id": "qkEFE66zsfdM"
      },
      "source": [
        "$\\ iv. Pr(+a \\mid +s, +b) = 0.2267$\n"
      ]
    },
    {
      "cell_type": "code",
      "metadata": {
        "colab": {
          "base_uri": "https://localhost:8080/"
        },
        "id": "H5gme8Xbswac",
        "outputId": "3172bbd8-8634-4785-b365-347fbc632036"
      },
      "source": [
        "prob = symptom_infer.query(variables=['A'], evidence = {'S': '+s','B' : '+b'})\n",
        "print(prob)"
      ],
      "execution_count": 53,
      "outputs": [
        {
          "output_type": "stream",
          "text": [
            "Finding Elimination Order: : 100%|██████████| 1/1 [00:00<00:00, 376.98it/s]\n",
            "Eliminating: G: 100%|██████████| 1/1 [00:00<00:00, 93.49it/s]"
          ],
          "name": "stderr"
        },
        {
          "output_type": "stream",
          "text": [
            "+-------+----------+\n",
            "| A     |   phi(A) |\n",
            "+=======+==========+\n",
            "| A(+a) |   0.2267 |\n",
            "+-------+----------+\n",
            "| A(-a) |   0.7733 |\n",
            "+-------+----------+\n"
          ],
          "name": "stdout"
        },
        {
          "output_type": "stream",
          "text": [
            "\n"
          ],
          "name": "stderr"
        }
      ]
    },
    {
      "cell_type": "markdown",
      "metadata": {
        "id": "IZhVqoOZs9cC"
      },
      "source": [
        "$\\ v. Pr(+g \\mid +a) = 0.5263$\n"
      ]
    },
    {
      "cell_type": "code",
      "metadata": {
        "colab": {
          "base_uri": "https://localhost:8080/"
        },
        "id": "4SRaLHnRtLEW",
        "outputId": "46145d7b-d7b7-45aa-c9be-dd68359c5379"
      },
      "source": [
        "prob = symptom_infer.query(variables=['G'], evidence = {'A': '+a'})\n",
        "print(prob)"
      ],
      "execution_count": 54,
      "outputs": [
        {
          "output_type": "stream",
          "text": [
            "Finding Elimination Order: : 100%|██████████| 2/2 [00:00<00:00, 800.44it/s]\n",
            "Eliminating: B: 100%|██████████| 2/2 [00:00<00:00, 639.23it/s]"
          ],
          "name": "stderr"
        },
        {
          "output_type": "stream",
          "text": [
            "+-------+----------+\n",
            "| G     |   phi(G) |\n",
            "+=======+==========+\n",
            "| G(+g) |   0.5263 |\n",
            "+-------+----------+\n",
            "| G(-g) |   0.4737 |\n",
            "+-------+----------+\n"
          ],
          "name": "stdout"
        },
        {
          "output_type": "stream",
          "text": [
            "\n"
          ],
          "name": "stderr"
        }
      ]
    },
    {
      "cell_type": "markdown",
      "metadata": {
        "id": "oGhIeXf1tXyT"
      },
      "source": [
        "$\\ vi.Pr(+g \\mid +b) = 0.1 $\n"
      ]
    },
    {
      "cell_type": "code",
      "metadata": {
        "id": "StG1z1jGteOZ",
        "colab": {
          "base_uri": "https://localhost:8080/"
        },
        "outputId": "4309b67a-43e0-430a-cffc-4913ca79a9bb"
      },
      "source": [
        "prob = symptom_infer.query(variables=['G'], evidence = {'B': '+b'})\n",
        "print(prob)"
      ],
      "execution_count": 55,
      "outputs": [
        {
          "output_type": "stream",
          "text": [
            "Finding Elimination Order: : 100%|██████████| 2/2 [00:00<00:00, 535.94it/s]\n",
            "Eliminating: A: 100%|██████████| 2/2 [00:00<00:00, 406.33it/s]"
          ],
          "name": "stderr"
        },
        {
          "output_type": "stream",
          "text": [
            "+-------+----------+\n",
            "| G     |   phi(G) |\n",
            "+=======+==========+\n",
            "| G(+g) |   0.1000 |\n",
            "+-------+----------+\n",
            "| G(-g) |   0.9000 |\n",
            "+-------+----------+\n"
          ],
          "name": "stdout"
        },
        {
          "output_type": "stream",
          "text": [
            "\n"
          ],
          "name": "stderr"
        }
      ]
    },
    {
      "cell_type": "markdown",
      "metadata": {
        "id": "VMwRSDpwohp7"
      },
      "source": [
        "# Inferência Aproximada"
      ]
    },
    {
      "cell_type": "markdown",
      "metadata": {
        "id": "tV41v_oE96pI"
      },
      "source": [
        "## Estudo de caso: Rede Bayesiana para Grass Wet\n",
        "\n",
        "Seguindo o enunciado, as variáveis definidas para o caso a ser estudado são da forma:\n",
        "\n",
        "Variável | Tipo | Valores\n",
        "---      | ---  | ---\n",
        "Rain (R) | Booleana | {T, F}\n",
        "Sprinler (S)| Booleana | {T, F}\n",
        "Grass wet (G) | Booleana | {T, F}\n",
        "\n",
        "\n",
        "\n"
      ]
    },
    {
      "cell_type": "markdown",
      "metadata": {
        "id": "Dus2V66ysTGL"
      },
      "source": [
        "## Construção da Rede Bayesiana\n",
        "Construindo a rede bayesiana pedida no enunciado, com os nós definidos em ordem topológica:"
      ]
    },
    {
      "cell_type": "code",
      "metadata": {
        "id": "SWfaHSHDsWqq"
      },
      "source": [
        "grass_model = BayesianModel([ ('R', 'S'), \n",
        "                              ('R', 'G'),\n",
        "                              ('S', 'G')])"
      ],
      "execution_count": 56,
      "outputs": []
    },
    {
      "cell_type": "markdown",
      "metadata": {
        "id": "Lf3kEQmstT_W"
      },
      "source": [
        "## Grafo Acíclico Direcionado\n",
        "Criando um Grafo Acíclico Direcionado para visualização:"
      ]
    },
    {
      "cell_type": "code",
      "metadata": {
        "colab": {
          "base_uri": "https://localhost:8080/",
          "height": 319
        },
        "id": "-t9fPpIytatd",
        "outputId": "a2aa28a8-e962-45aa-e618-07affc80ab10"
      },
      "source": [
        "nx.draw(grass_model, with_labels = True); \n",
        "plt.show()"
      ],
      "execution_count": 57,
      "outputs": [
        {
          "output_type": "display_data",
          "data": {
            "image/png": "[encoded data removed]",
            "text/plain": [
              "<Figure size 432x288 with 1 Axes>"
            ]
          },
          "metadata": {
            "tags": []
          }
        }
      ]
    },
    {
      "cell_type": "markdown",
      "metadata": {
        "id": "KrlJ_dFzt_S8"
      },
      "source": [
        "## Distribuições de Probabilidade Condicional\n",
        "Especificando as Distribuições de Probabilidade Condicional para as variáveis da rede, de acordo com os valores fornecidos no enunciado:"
      ]
    },
    {
      "cell_type": "code",
      "metadata": {
        "id": "Zd7slHehugHG"
      },
      "source": [
        "cpd_R = TabularCPD( variable='R', \n",
        "                    variable_card=2,\n",
        "                    values=[[0.2], [0.8]],\n",
        "                    state_names={'R': ['T', 'F']}\n",
        "                  )\n",
        "\n",
        "cpd_S = TabularCPD( variable='S', \n",
        "                    variable_card=2,\n",
        "                    values=[[0.01, 0.4],\n",
        "                            [0.99, 0.6]\n",
        "                           ],\n",
        "                    state_names={'S': ['T', 'F'],\n",
        "                                 'R': ['T', 'F']\n",
        "                                },\n",
        "                    evidence=['R'],\n",
        "                    evidence_card=[2]\n",
        "                  )\n",
        "\n",
        "cpd_G = TabularCPD( variable='G', \n",
        "                    variable_card=2,\n",
        "                    values=[[0.01, 0.01, 0.01, 0.4],\n",
        "                            [0.99, 0.99, 0.99, 0.6]\n",
        "                           ],\n",
        "                    state_names={ 'G': ['T', 'F'],\n",
        "                                  'S': ['T', 'F'],\n",
        "                                  'R': ['T', 'F'],\n",
        "                                },\n",
        "                    evidence=['S', 'R'], \n",
        "                    evidence_card=[2,2]\n",
        "                   )"
      ],
      "execution_count": 58,
      "outputs": []
    },
    {
      "cell_type": "markdown",
      "metadata": {
        "id": "a63gfY323MMw"
      },
      "source": [
        "Adicionando cada CPD a sua variável correspondente no grafo da Rede Bayesiana:"
      ]
    },
    {
      "cell_type": "code",
      "metadata": {
        "id": "p8dkclTm3MMx"
      },
      "source": [
        "grass_model.add_cpds(cpd_R, cpd_S, cpd_G)"
      ],
      "execution_count": 59,
      "outputs": []
    },
    {
      "cell_type": "markdown",
      "metadata": {
        "id": "34fYcymJ3MMy"
      },
      "source": [
        "Verificando sintáticamente a rede bayesiana:"
      ]
    },
    {
      "cell_type": "code",
      "metadata": {
        "colab": {
          "base_uri": "https://localhost:8080/"
        },
        "id": "vrQ3Q9fB3MMz",
        "outputId": "312d260d-3c2b-4dc4-f46d-3b2473a2d26c"
      },
      "source": [
        "grass_model.check_model()"
      ],
      "execution_count": 60,
      "outputs": [
        {
          "output_type": "execute_result",
          "data": {
            "text/plain": [
              "True"
            ]
          },
          "metadata": {
            "tags": []
          },
          "execution_count": 60
        }
      ]
    },
    {
      "cell_type": "markdown",
      "metadata": {
        "id": "HprOaH43Zz4T"
      },
      "source": [
        "## Implementação de Algoritmos"
      ]
    },
    {
      "cell_type": "markdown",
      "metadata": {
        "id": "BEfteA43aC2U"
      },
      "source": [
        "Para a implementação dos métodos de amostragem na rede bayesiana, usaremos a função auxiliar abaixo, que tem como objetivo realizar uma dada variável da rede bayesiana considerando sua cpd e os valores dos nós pais para a variável, caso existam:"
      ]
    },
    {
      "cell_type": "code",
      "metadata": {
        "id": "pr6qFLhYaBHu"
      },
      "source": [
        "import numpy as np\n",
        "\n",
        "def realize_variable(bayesian_model, variable_name, parents):\n",
        "  \"\"\"\n",
        "    Gera um valor para uma variável da rede bayesiana, de acordo com sua cpd \n",
        "    e os valores dos nós pais para essa variável, caso existam.\n",
        "  \"\"\"\n",
        "  cpd_table = bayesian_model.get_cpds(variable_name)\n",
        "  variables_in_cpd = cpd_table.variables\n",
        "  cpd = cpd_table\n",
        "\n",
        "  if parents:\n",
        "    # Verifica se existem nós pais para a variável.\n",
        "    conditioners = []\n",
        "    for key, value in parents.items():\n",
        "      if key == variable_name:\n",
        "        continue\n",
        "      if key not in variables_in_cpd:\n",
        "        continue\n",
        "      conditioners.append((key, value))\n",
        "    cpd = cpd_table.reduce(conditioners, inplace  = False)\n",
        "  \n",
        "  state_names_dict = bayesian_model.get_cpds(variable_name).state_names\n",
        "\n",
        "  values = state_names_dict[variable_name]\n",
        "  probs = cpd.get_values()\n",
        "\n",
        "  # Gera um valor para a variável.\n",
        "  cum_sum = np.cumsum(probs)\n",
        "  s = np.random.uniform(0,1)\n",
        "  for j in range(cum_sum.shape[0]):\n",
        "    if s < cum_sum[j]:\n",
        "      return values[j]"
      ],
      "execution_count": 61,
      "outputs": []
    },
    {
      "cell_type": "markdown",
      "metadata": {
        "id": "hxdB3-4rIY1s"
      },
      "source": [
        "### Amostragem a Priori"
      ]
    },
    {
      "cell_type": "markdown",
      "metadata": {
        "id": "K7DECAtWamCZ"
      },
      "source": [
        "Agora implementando o algoritmo do método de Amostragem a Priori, utilizando a assinatura fornecida no enuncaido do trabalho:"
      ]
    },
    {
      "cell_type": "code",
      "metadata": {
        "id": "-sL5T_AHrKKh"
      },
      "source": [
        "def amostragem_a_priori(rede_bayesiana, q, obs, num_amostras):\n",
        "  \"\"\"\n",
        "    Faz a coleta de amostras utilizando o método de Amostragem a Priori e\n",
        "    retorna uma aproximação para os valores possíveis da variável q na consulta\n",
        "    P(q | obs)\n",
        "  \"\"\"\n",
        "\n",
        "  q_probs = dict() # Retorno da função, um dicionario com elementos (k,v) \n",
        "                   # onde k é um valor possível da variável q,\n",
        "                   # e v é a probabilidade aproximada desse valor ocorrer \n",
        "                   # computada pela função.\n",
        "\n",
        "  samples = dict() # Dicionário para armazenar as amostras colhidas.\n",
        "                   # Seus elementos são da forma (k,v), em que k é o indíce\n",
        "                   # da amostra colhida, e v é a própria amostra.\n",
        "                   # Ex: {1: {Rain: 'T', Sprinkler: 'F, Wet: 'T' }}\n",
        "\n",
        "  n_samples_evidence_true = 0 # Variável auxiliar para armazenar o número\n",
        "                              # de amostras em que a evidência obs acontece.\n",
        "\n",
        "  q_values = [] # Lista auxiliar para armazenar todos os valores de q nas \n",
        "                # amostras em que obs acontece.\n",
        "  \n",
        "  variables = grass_model.nodes()\n",
        "\n",
        "  for i in range(1, num_amostras+1):\n",
        "    # Coleta de amostras seguindo a ordem topológica da rede bayesiana.\n",
        "\n",
        "    parents = dict() # Armazena o valor dos nós pais da variável atual sendo \n",
        "                     # amostrada e é incrementado de forma que ao final do loop\n",
        "                     # equivalha à própria amostra.\n",
        "    sample = dict()\n",
        "\n",
        "    for v in variables:\n",
        "      parents[v] = realize_variable(rede_bayesiana, v, parents) \n",
        "      sample = parents\n",
        "    samples[i] = sample\n",
        "\n",
        "  for sample in samples.values():\n",
        "    # Consulta com base nas amostras colhidas.\n",
        "    \n",
        "    if obs:\n",
        "      # Caso obs exista, verifica se obs está contido em cada amostra.\n",
        "      # obs_is_subset_of_sample retorna True se obs está contido em sample.\n",
        "      obs_is_subset_of_sample = all(sample.get(key, None) == value for key, value in obs.items())\n",
        "      if obs_is_subset_of_sample:\n",
        "        # Se a amostra contém a evidência, adiciona o valor da chave q na lista \n",
        "        # q_values.\n",
        "        n_samples_evidence_true += 1\n",
        "        q_values.append(sample[q])\n",
        "    else:\n",
        "      # Caso obs não exista, adiciona todos os valores das chaves q na lista \n",
        "      # q_values.\n",
        "      n_samples_evidence_true = num_amostras\n",
        "      q_values.append(sample[q])\n",
        "    \n",
        "  # Armazena a quantidade de ocorrências para cada possível valor de q e\n",
        "  # obtém a probabilidade fazendo a divisão por n_sample_evidence_true.\n",
        "  q_probs = {i: (q_values.count(i)/n_samples_evidence_true) for i in q_values}\n",
        "\n",
        "  #print(\"Amostras:\\n\", samples)\n",
        "  print('Valor aproximado para a consulta: ')\n",
        "  return q_probs\n",
        "\n",
        "\n"
      ],
      "execution_count": 62,
      "outputs": []
    },
    {
      "cell_type": "markdown",
      "metadata": {
        "id": "aEOepMsFcgRq"
      },
      "source": [
        "#### Realizando Inferências\n",
        "\n",
        "Agora realizando as consultas pedidas pelo enunciado usando Amostragem a Priori:\n"
      ]
    },
    {
      "cell_type": "markdown",
      "metadata": {
        "id": "MIcVHqgDd3bf"
      },
      "source": [
        "$\\ i. Pr(R) $\n",
        "\n",
        "Como não existe evidência, passamos o parâmetro obs como None para a função.\n",
        "\n",
        "\n"
      ]
    },
    {
      "cell_type": "markdown",
      "metadata": {
        "id": "SFB1ntSyexJo"
      },
      "source": [
        "*   **Para 5 amostras:**\n",
        "\n",
        "\n",
        "\n",
        "\n",
        "\n"
      ]
    },
    {
      "cell_type": "code",
      "metadata": {
        "colab": {
          "base_uri": "https://localhost:8080/"
        },
        "id": "2JOJNzIveH8X",
        "outputId": "648deea4-12cc-4114-c2d9-48d8742633b9"
      },
      "source": [
        "amostragem_a_priori(grass_model, 'R', None, 5)"
      ],
      "execution_count": 99,
      "outputs": [
        {
          "output_type": "stream",
          "text": [
            "Valor aproximado para a consulta: \n"
          ],
          "name": "stdout"
        },
        {
          "output_type": "execute_result",
          "data": {
            "text/plain": [
              "{'F': 0.6, 'T': 0.4}"
            ]
          },
          "metadata": {
            "tags": []
          },
          "execution_count": 99
        }
      ]
    },
    {
      "cell_type": "markdown",
      "metadata": {
        "id": "Icd6Qppsm1Ib"
      },
      "source": [
        "*   **Para 50 amostras:**\n",
        "\n",
        "\n",
        "\n",
        "\n",
        "\n"
      ]
    },
    {
      "cell_type": "code",
      "metadata": {
        "colab": {
          "base_uri": "https://localhost:8080/"
        },
        "id": "1c0Pxv0im1Ic",
        "outputId": "68795f0a-4a98-4a10-89de-b387fe62e2d9"
      },
      "source": [
        "amostragem_a_priori(grass_model, 'R', None, 50)"
      ],
      "execution_count": 64,
      "outputs": [
        {
          "output_type": "stream",
          "text": [
            "Valor aproximado para a consulta: \n"
          ],
          "name": "stdout"
        },
        {
          "output_type": "execute_result",
          "data": {
            "text/plain": [
              "{'F': 0.88, 'T': 0.12}"
            ]
          },
          "metadata": {
            "tags": []
          },
          "execution_count": 64
        }
      ]
    },
    {
      "cell_type": "markdown",
      "metadata": {
        "id": "SSe02iUznCPU"
      },
      "source": [
        "*   **Para 500 amostras**:\n",
        "\n",
        "\n",
        "\n",
        "\n",
        "\n"
      ]
    },
    {
      "cell_type": "code",
      "metadata": {
        "colab": {
          "base_uri": "https://localhost:8080/"
        },
        "id": "t_w_azUjnCPV",
        "outputId": "332c93b6-016a-4c58-a282-998e7d32fcfb"
      },
      "source": [
        "amostragem_a_priori(grass_model, 'R', None, 500)"
      ],
      "execution_count": 65,
      "outputs": [
        {
          "output_type": "stream",
          "text": [
            "Valor aproximado para a consulta: \n"
          ],
          "name": "stdout"
        },
        {
          "output_type": "execute_result",
          "data": {
            "text/plain": [
              "{'F': 0.818, 'T': 0.182}"
            ]
          },
          "metadata": {
            "tags": []
          },
          "execution_count": 65
        }
      ]
    },
    {
      "cell_type": "markdown",
      "metadata": {
        "id": "QLQ8xmeqn2dm"
      },
      "source": [
        "$\\ ii. Pr(S) $\n",
        "\n",
        "\n"
      ]
    },
    {
      "cell_type": "markdown",
      "metadata": {
        "id": "8h1qvuVRn2do"
      },
      "source": [
        "*   **Para 5 amostras:**\n",
        "\n",
        "\n",
        "\n",
        "\n",
        "\n"
      ]
    },
    {
      "cell_type": "code",
      "metadata": {
        "colab": {
          "base_uri": "https://localhost:8080/"
        },
        "id": "G3sSf1Ngn2dp",
        "outputId": "929ff2a2-8652-4c2c-9b93-67a374e1f513"
      },
      "source": [
        "amostragem_a_priori(grass_model, 'S', None, 5)"
      ],
      "execution_count": 98,
      "outputs": [
        {
          "output_type": "stream",
          "text": [
            "Valor aproximado para a consulta: \n"
          ],
          "name": "stdout"
        },
        {
          "output_type": "execute_result",
          "data": {
            "text/plain": [
              "{'F': 0.6, 'T': 0.4}"
            ]
          },
          "metadata": {
            "tags": []
          },
          "execution_count": 98
        }
      ]
    },
    {
      "cell_type": "markdown",
      "metadata": {
        "id": "03-L0qQZn2ds"
      },
      "source": [
        "*   **Para 50 amostras:**\n",
        "\n",
        "\n",
        "\n",
        "\n",
        "\n"
      ]
    },
    {
      "cell_type": "code",
      "metadata": {
        "colab": {
          "base_uri": "https://localhost:8080/"
        },
        "id": "ovrtppekn2dt",
        "outputId": "f54d94aa-6560-45e5-8e47-fbeb6c91c330"
      },
      "source": [
        "amostragem_a_priori(grass_model, 'S', None, 50)"
      ],
      "execution_count": 67,
      "outputs": [
        {
          "output_type": "stream",
          "text": [
            "Valor aproximado para a consulta: \n"
          ],
          "name": "stdout"
        },
        {
          "output_type": "execute_result",
          "data": {
            "text/plain": [
              "{'F': 0.64, 'T': 0.36}"
            ]
          },
          "metadata": {
            "tags": []
          },
          "execution_count": 67
        }
      ]
    },
    {
      "cell_type": "markdown",
      "metadata": {
        "id": "Cy7NOVbEn2du"
      },
      "source": [
        "*   **Para 500 amostras:**\n",
        "\n",
        "\n",
        "\n",
        "\n",
        "\n"
      ]
    },
    {
      "cell_type": "code",
      "metadata": {
        "colab": {
          "base_uri": "https://localhost:8080/"
        },
        "id": "6jnxbQaIn2dv",
        "outputId": "7a479584-e547-412d-9933-812ff2b03913"
      },
      "source": [
        "amostragem_a_priori(grass_model, 'S', None, 500)"
      ],
      "execution_count": 68,
      "outputs": [
        {
          "output_type": "stream",
          "text": [
            "Valor aproximado para a consulta: \n"
          ],
          "name": "stdout"
        },
        {
          "output_type": "execute_result",
          "data": {
            "text/plain": [
              "{'F': 0.682, 'T': 0.318}"
            ]
          },
          "metadata": {
            "tags": []
          },
          "execution_count": 68
        }
      ]
    },
    {
      "cell_type": "markdown",
      "metadata": {
        "id": "7AUkz03pol3P"
      },
      "source": [
        "$\\ iii. Pr(G) $\n",
        "\n",
        "\n"
      ]
    },
    {
      "cell_type": "markdown",
      "metadata": {
        "id": "PNDH0RQIol3Q"
      },
      "source": [
        "*   **Para 5 amostras:**\n",
        "\n",
        "\n",
        "\n",
        "\n",
        "\n"
      ]
    },
    {
      "cell_type": "code",
      "metadata": {
        "colab": {
          "base_uri": "https://localhost:8080/"
        },
        "id": "vL7hdn6eol3S",
        "outputId": "e55d2d98-2035-4e76-d7b4-bdcb176a112e"
      },
      "source": [
        "amostragem_a_priori(grass_model, 'G', None, 5)"
      ],
      "execution_count": 69,
      "outputs": [
        {
          "output_type": "stream",
          "text": [
            "Valor aproximado para a consulta: \n"
          ],
          "name": "stdout"
        },
        {
          "output_type": "execute_result",
          "data": {
            "text/plain": [
              "{'F': 1.0}"
            ]
          },
          "metadata": {
            "tags": []
          },
          "execution_count": 69
        }
      ]
    },
    {
      "cell_type": "markdown",
      "metadata": {
        "id": "xL2lL468ol3V"
      },
      "source": [
        "*   **Para 50 amostras:**\n",
        "\n",
        "\n",
        "\n",
        "\n",
        "\n"
      ]
    },
    {
      "cell_type": "code",
      "metadata": {
        "colab": {
          "base_uri": "https://localhost:8080/"
        },
        "id": "iU3p424hol3W",
        "outputId": "cd734bf2-3f27-40c1-8453-be5644aa1295"
      },
      "source": [
        "amostragem_a_priori(grass_model, 'G', None, 50)"
      ],
      "execution_count": 70,
      "outputs": [
        {
          "output_type": "stream",
          "text": [
            "Valor aproximado para a consulta: \n"
          ],
          "name": "stdout"
        },
        {
          "output_type": "execute_result",
          "data": {
            "text/plain": [
              "{'F': 0.76, 'T': 0.24}"
            ]
          },
          "metadata": {
            "tags": []
          },
          "execution_count": 70
        }
      ]
    },
    {
      "cell_type": "markdown",
      "metadata": {
        "id": "CpfqGtzxol3X"
      },
      "source": [
        "*   **Para 500 amostras:**\n",
        "\n",
        "\n",
        "\n",
        "\n",
        "\n"
      ]
    },
    {
      "cell_type": "code",
      "metadata": {
        "colab": {
          "base_uri": "https://localhost:8080/"
        },
        "id": "inhQeMCXol3Y",
        "outputId": "63cdc068-02ff-406b-b6dc-2ef9f7fe66d4"
      },
      "source": [
        "amostragem_a_priori(grass_model, 'G', None, 500)"
      ],
      "execution_count": 71,
      "outputs": [
        {
          "output_type": "stream",
          "text": [
            "Valor aproximado para a consulta: \n"
          ],
          "name": "stdout"
        },
        {
          "output_type": "execute_result",
          "data": {
            "text/plain": [
              "{'F': 0.792, 'T': 0.208}"
            ]
          },
          "metadata": {
            "tags": []
          },
          "execution_count": 71
        }
      ]
    },
    {
      "cell_type": "markdown",
      "metadata": {
        "id": "0l0SHQeapOT6"
      },
      "source": [
        "$\\ iv. Pr(G \\mid S = True) $\n",
        "\n",
        "Agora passamos um parâmetro para obs.\n",
        "\n",
        "\n"
      ]
    },
    {
      "cell_type": "markdown",
      "metadata": {
        "id": "E1FjWiFZpOT7"
      },
      "source": [
        "*   **Para 5 amostras:**\n",
        "\n",
        "\n",
        "\n",
        "\n",
        "\n"
      ]
    },
    {
      "cell_type": "code",
      "metadata": {
        "colab": {
          "base_uri": "https://localhost:8080/"
        },
        "id": "OoZgbOLapOT8",
        "outputId": "41d90f5b-f0f2-4306-e9c7-e8a8ca6144a1"
      },
      "source": [
        "obs = dict()\n",
        "obs['S'] = 'T'\n",
        "amostragem_a_priori(grass_model, 'G', obs, 5)"
      ],
      "execution_count": 72,
      "outputs": [
        {
          "output_type": "stream",
          "text": [
            "Valor aproximado para a consulta: \n"
          ],
          "name": "stdout"
        },
        {
          "output_type": "execute_result",
          "data": {
            "text/plain": [
              "{'F': 1.0}"
            ]
          },
          "metadata": {
            "tags": []
          },
          "execution_count": 72
        }
      ]
    },
    {
      "cell_type": "markdown",
      "metadata": {
        "id": "x8kPoY91pOT_"
      },
      "source": [
        "*   **Para 50 amostras:**\n",
        "\n",
        "\n",
        "\n",
        "\n",
        "\n"
      ]
    },
    {
      "cell_type": "code",
      "metadata": {
        "colab": {
          "base_uri": "https://localhost:8080/"
        },
        "id": "TZUNAzfkpOUA",
        "outputId": "910e3c4c-cf57-464b-e6ba-45e28746cd52"
      },
      "source": [
        "obs = dict()\n",
        "obs['S'] = 'T'\n",
        "amostragem_a_priori(grass_model, 'G', obs, 50)"
      ],
      "execution_count": 73,
      "outputs": [
        {
          "output_type": "stream",
          "text": [
            "Valor aproximado para a consulta: \n"
          ],
          "name": "stdout"
        },
        {
          "output_type": "execute_result",
          "data": {
            "text/plain": [
              "{'F': 0.9230769230769231, 'T': 0.07692307692307693}"
            ]
          },
          "metadata": {
            "tags": []
          },
          "execution_count": 73
        }
      ]
    },
    {
      "cell_type": "markdown",
      "metadata": {
        "id": "N0zzod3MpOUB"
      },
      "source": [
        "*   **Para 500 amostras:**\n",
        "\n",
        "\n",
        "\n",
        "\n",
        "\n"
      ]
    },
    {
      "cell_type": "code",
      "metadata": {
        "colab": {
          "base_uri": "https://localhost:8080/"
        },
        "id": "h6BYlB2PpOUC",
        "outputId": "92af86d4-24c5-43b9-be24-83db5be0976c"
      },
      "source": [
        "obs = dict()\n",
        "obs['S'] = 'T'\n",
        "amostragem_a_priori(grass_model, 'G', obs, 500)"
      ],
      "execution_count": 74,
      "outputs": [
        {
          "output_type": "stream",
          "text": [
            "Valor aproximado para a consulta: \n"
          ],
          "name": "stdout"
        },
        {
          "output_type": "execute_result",
          "data": {
            "text/plain": [
              "{'F': 1.0}"
            ]
          },
          "metadata": {
            "tags": []
          },
          "execution_count": 74
        }
      ]
    },
    {
      "cell_type": "markdown",
      "metadata": {
        "id": "iShgs8oDqGOy"
      },
      "source": [
        " $\\ v. Pr(G \\mid S = False) $\n",
        "\n",
        "\n"
      ]
    },
    {
      "cell_type": "markdown",
      "metadata": {
        "id": "pV_i2sevqGOz"
      },
      "source": [
        "*   **Para 5 amostras:**\n",
        "\n",
        "\n",
        "\n",
        "\n",
        "\n"
      ]
    },
    {
      "cell_type": "code",
      "metadata": {
        "colab": {
          "base_uri": "https://localhost:8080/"
        },
        "id": "IVBpzc1iqGO0",
        "outputId": "c3d75339-b87a-4de8-d0f2-167125350b08"
      },
      "source": [
        "obs = dict()\n",
        "obs['S'] = 'F'\n",
        "amostragem_a_priori(grass_model, 'G', obs, 5)"
      ],
      "execution_count": 75,
      "outputs": [
        {
          "output_type": "stream",
          "text": [
            "Valor aproximado para a consulta: \n"
          ],
          "name": "stdout"
        },
        {
          "output_type": "execute_result",
          "data": {
            "text/plain": [
              "{'F': 0.5, 'T': 0.5}"
            ]
          },
          "metadata": {
            "tags": []
          },
          "execution_count": 75
        }
      ]
    },
    {
      "cell_type": "markdown",
      "metadata": {
        "id": "Qyh4_KxsqGO3"
      },
      "source": [
        "*   **Para 50 amostras:**\n",
        "\n",
        "\n",
        "\n",
        "\n",
        "\n"
      ]
    },
    {
      "cell_type": "code",
      "metadata": {
        "colab": {
          "base_uri": "https://localhost:8080/"
        },
        "id": "I_bCKgiiqGO4",
        "outputId": "139b75f3-60be-41f9-cc00-4ddf4bdc1810"
      },
      "source": [
        "obs = dict()\n",
        "obs['S'] = 'F'\n",
        "amostragem_a_priori(grass_model, 'G', obs, 50)"
      ],
      "execution_count": 76,
      "outputs": [
        {
          "output_type": "stream",
          "text": [
            "Valor aproximado para a consulta: \n"
          ],
          "name": "stdout"
        },
        {
          "output_type": "execute_result",
          "data": {
            "text/plain": [
              "{'F': 0.7941176470588235, 'T': 0.20588235294117646}"
            ]
          },
          "metadata": {
            "tags": []
          },
          "execution_count": 76
        }
      ]
    },
    {
      "cell_type": "markdown",
      "metadata": {
        "id": "a6DxH9VZqGO5"
      },
      "source": [
        "*   **Para 500 amostras:**\n",
        "\n",
        "\n",
        "\n",
        "\n",
        "\n"
      ]
    },
    {
      "cell_type": "code",
      "metadata": {
        "colab": {
          "base_uri": "https://localhost:8080/"
        },
        "id": "F4WUyFQuqGO6",
        "outputId": "b6915280-59c7-4f25-d67b-72c5278e1bc8"
      },
      "source": [
        "obs = dict()\n",
        "obs['S'] = 'F'\n",
        "amostragem_a_priori(grass_model, 'G', obs, 500)"
      ],
      "execution_count": 77,
      "outputs": [
        {
          "output_type": "stream",
          "text": [
            "Valor aproximado para a consulta: \n"
          ],
          "name": "stdout"
        },
        {
          "output_type": "execute_result",
          "data": {
            "text/plain": [
              "{'F': 0.717201166180758, 'T': 0.282798833819242}"
            ]
          },
          "metadata": {
            "tags": []
          },
          "execution_count": 77
        }
      ]
    },
    {
      "cell_type": "markdown",
      "metadata": {
        "id": "H0u2eTlnIjp1"
      },
      "source": [
        "### Ponderação por Verossimilhança"
      ]
    },
    {
      "cell_type": "markdown",
      "metadata": {
        "id": "BETR2MFNOnch"
      },
      "source": [
        "Para a Ponderação por Verossimilhança, em determinado momento precisaremos obter o valor do resultado da seguinte probabilidade: \n",
        "\n",
        "$$ Pr(X1 = x1 \\mid Parents(X1)) $$\n",
        "\n",
        "O método reduce do pgmpy retorna apenas a tabela de valores possíveis para a consulta $\\ Pr(X1 \\mid Parents(X1))$, sendo necessária realizar a consulta do valor de X1 desejado na tabela. Para obter diretamente o valor de X1 desejado, usaremos a função abaixo:"
      ]
    },
    {
      "cell_type": "code",
      "metadata": {
        "id": "16Rq0Os9QQiq"
      },
      "source": [
        "def get_conditional_probability(rede_bayesiana, variable_name, variable_value, parents):\n",
        "  \"\"\"\n",
        "    Calcula Pr(Xi = xi | Parents(Xi)), retorna o valor obtido.\n",
        "\n",
        "    rede_bayesiana: Objeto BayesianModel do pgmpy.\n",
        "    variable_name: Nome da variável a ser consultada.\n",
        "    variable_value: Valor desejado para a variável a ser consultada.\n",
        "    parents: Dicionário {k1:v1, k2:v2, ... } com os nomes e valores dos nós \n",
        "             pais da variável.\n",
        "  \"\"\"\n",
        "  formatted_parents = [] \n",
        "  # É preciso formatar o parâmetro parents, que possui um formato de dicionário\n",
        "  # {k1 : v1, k2: v2,...} para uma lista da forma [(k1, v1), (k2, v2),...]\n",
        "  # Assim conseguimos usar esse resultado no método reduce.\n",
        "  for key, value in parents.items():\n",
        "    formatted_parents.append((key,value))\n",
        "\n",
        "  # Obtemos a cpd condicionada.\n",
        "  cpd_table = rede_bayesiana.get_cpds(variable_name)\n",
        "  cpd = cpd_table.reduce(formatted_parents, inplace  = False)\n",
        "\n",
        "  # Realizamos algumas operações e formatações com os métodos do pgmpy para \n",
        "  # obter o valor numérico da probabilidade desejada.\n",
        "  state_names = list(cpd.state_names.values())[0]\n",
        "  q_value_index = state_names.index(variable_value)\n",
        "\n",
        "  prob_in_list_format = cpd.get_values()[q_value_index]\n",
        "  prob = prob_in_list_format[0]\n",
        "  return prob"
      ],
      "execution_count": 78,
      "outputs": []
    },
    {
      "cell_type": "markdown",
      "metadata": {
        "id": "usoJyg1yQbyI"
      },
      "source": [
        "Podemos testar a função para o modelo que estamos trabalhando com a consulta abaixo:\n",
        "\n",
        " $\\ Pr(G = T \\mid S = T, R = F)$"
      ]
    },
    {
      "cell_type": "code",
      "metadata": {
        "colab": {
          "base_uri": "https://localhost:8080/"
        },
        "id": "cVUqxNy3RF9H",
        "outputId": "e88014c9-59d4-4ac7-894e-9be3d43ff921"
      },
      "source": [
        "obs = dict()\n",
        "obs['R'] = 'F'\n",
        "obs['S'] = 'T'\n",
        "get_conditional_probability(grass_model, 'G', 'T', obs )"
      ],
      "execution_count": 79,
      "outputs": [
        {
          "output_type": "execute_result",
          "data": {
            "text/plain": [
              "0.01"
            ]
          },
          "metadata": {
            "tags": []
          },
          "execution_count": 79
        }
      ]
    },
    {
      "cell_type": "markdown",
      "metadata": {
        "id": "uOHWDAjKRVJw"
      },
      "source": [
        "Consultando a tabela de probabilidades para a variável G, vemos que o resultado está correto.\n",
        "\n",
        "Agora implementando o método da Ponderação por Verossimilhança:"
      ]
    },
    {
      "cell_type": "code",
      "metadata": {
        "id": "KVdEBO1aP1N3"
      },
      "source": [
        "def ponderacao_por_verossimilhanca(rede_bayesiana, q, obs, num_amostras):\n",
        "  \"\"\"\n",
        "    Faz a coleta de amostras utilizando o método de Ponderação por \n",
        "    Verossimilhança e retorna uma aproximação para os valores possíveis da \n",
        "    variável q na consulta P(q | obs)\n",
        "  \"\"\"\n",
        "  variables = rede_bayesiana.nodes()\n",
        "  \n",
        "  q_probs = dict() # Retorno da função, um dicionario com elementos {k:v} \n",
        "                   # onde k é um valor possível da variável q,\n",
        "                   # e v é a probabilidade aproximada desse valor ocorrer \n",
        "                   # computada pela função.\n",
        "\n",
        "  q_weight_sums = dict() # Dicionário auxiliar da forma {k:v} onde k é um valor\n",
        "                         # possível da variável q e v é a soma de seus pesos \n",
        "                         # computados.\n",
        "\n",
        "  q_state_names = rede_bayesiana.get_cpds(q).state_names\n",
        "  q_possible_values = q_state_names[q]\n",
        "  for possible_value in q_possible_values:\n",
        "    # Inicializa q_weight_sums com o valor de 0 para cada soma de pesos.\n",
        "    q_weight_sums[possible_value] = 0\n",
        "\n",
        "  total_weight_sum = 0 # Soma total do peso de todas as amostras.\n",
        "\n",
        "  samples = dict() # Dicionário para armazenar as amostras colhidas. Possui\n",
        "                   # a forma {k, v}, em que k é o índice da amostra e v é uma\n",
        "                   # tupla (s , w) em que s é a própria amostra e w é seu peso.\n",
        "                   # Ex: {1: ({'A': 'False', 'B': 'False', 'C': 'True'}, 0.4)} \n",
        "\n",
        "  evidence_variables = dict()\n",
        "  if obs:\n",
        "    evidence_variables = obs\n",
        "   \n",
        "  for i in range(1, num_amostras+1):\n",
        "    # Coleta de amostras.\n",
        "    weight = 1\n",
        "    parents = dict() \n",
        "    for v in variables:\n",
        "      if evidence_variables:\n",
        "        if v in evidence_variables.keys():\n",
        "          # Se a variável é evidência, fixar seu valor na amostra e multiplicar \n",
        "          # sua probabilidade condicionada na variável weight.\n",
        "          v_value = evidence_variables[v]\n",
        "          prob = get_conditional_probability(rede_bayesiana, v, v_value, parents)\n",
        "          weight *= prob\n",
        "          parents[v] = evidence_variables[v]\n",
        "        else:\n",
        "          # Se a variável não é evidência, obter um valor aleatório a partir de \n",
        "          # sua cpd e seus nós pais.\n",
        "          parents[v] = realize_variable(rede_bayesiana, v, parents)\n",
        "      else:\n",
        "          # Caso não exista evidência, recair num caso semelhante ao da \n",
        "          # Amostragem a Priori\n",
        "         parents[v] = realize_variable(rede_bayesiana, v, parents)\n",
        "      samples[i] = parents, weight\n",
        "    \n",
        "    # Soma o peso da amostra atual em sua chave correspondente em \n",
        "    # q_weight_sums, dependendo do valor de q obtido na amostra atual. \n",
        "    sample = samples[i][0]\n",
        "    sample_weight = samples[i][1]\n",
        "    q_value_sample = sample[q]\n",
        "    q_weight_sums[q_value_sample] += sample_weight\n",
        "  \n",
        "  for value in q_weight_sums.values():\n",
        "    # Obtém a soma total dos pesos.\n",
        "    total_weight_sum += value\n",
        "  \n",
        "  for key, value in q_weight_sums.items():\n",
        "    # Normaliza e obtém as probabilidades para cada valor possível de q.\n",
        "    q_probs[key] = value / total_weight_sum\n",
        "\n",
        "  #print(\"Amostras:\\n\", samples)\n",
        "  print('Valor aproximado para a consulta: ')\n",
        "  return q_probs"
      ],
      "execution_count": 80,
      "outputs": []
    },
    {
      "cell_type": "markdown",
      "metadata": {
        "id": "zQwSd1MwU8jZ"
      },
      "source": [
        "#### Realizando Inferências\n",
        "\n",
        "Usaremos o método de Ponderação por Verossimilhança para realizar as inferências aproximadas desejadas"
      ]
    },
    {
      "cell_type": "markdown",
      "metadata": {
        "id": "54dpkyiqU81V"
      },
      "source": [
        "$\\ i. Pr(R) $\n",
        "\n",
        "\n"
      ]
    },
    {
      "cell_type": "markdown",
      "metadata": {
        "id": "uqOaLxglU81X"
      },
      "source": [
        "*   **Para 5 amostras:**\n",
        "\n",
        "\n",
        "\n",
        "\n",
        "\n"
      ]
    },
    {
      "cell_type": "code",
      "metadata": {
        "colab": {
          "base_uri": "https://localhost:8080/"
        },
        "id": "NvTpTc1MU81Y",
        "outputId": "7dd5b7e6-d8dd-49f0-92d9-fce1a965a475"
      },
      "source": [
        "ponderacao_por_verossimilhanca(grass_model, 'R', None, 5)"
      ],
      "execution_count": 81,
      "outputs": [
        {
          "output_type": "stream",
          "text": [
            "Valor aproximado para a consulta: \n"
          ],
          "name": "stdout"
        },
        {
          "output_type": "execute_result",
          "data": {
            "text/plain": [
              "{'F': 0.6, 'T': 0.4}"
            ]
          },
          "metadata": {
            "tags": []
          },
          "execution_count": 81
        }
      ]
    },
    {
      "cell_type": "markdown",
      "metadata": {
        "id": "jWIQsSE6U81c"
      },
      "source": [
        "*   **Para 50 amostras:**\n",
        "\n",
        "\n",
        "\n",
        "\n",
        "\n"
      ]
    },
    {
      "cell_type": "code",
      "metadata": {
        "colab": {
          "base_uri": "https://localhost:8080/"
        },
        "id": "zGxrTvvFU81e",
        "outputId": "34283ac7-bc96-4289-d323-288c3fc95f00"
      },
      "source": [
        "ponderacao_por_verossimilhanca(grass_model, 'R', None, 50)"
      ],
      "execution_count": 82,
      "outputs": [
        {
          "output_type": "stream",
          "text": [
            "Valor aproximado para a consulta: \n"
          ],
          "name": "stdout"
        },
        {
          "output_type": "execute_result",
          "data": {
            "text/plain": [
              "{'F': 0.8, 'T': 0.2}"
            ]
          },
          "metadata": {
            "tags": []
          },
          "execution_count": 82
        }
      ]
    },
    {
      "cell_type": "markdown",
      "metadata": {
        "id": "iOZ6Ofv2U81f"
      },
      "source": [
        "*   **Para 500 amostras**:\n",
        "\n",
        "\n",
        "\n",
        "\n",
        "\n"
      ]
    },
    {
      "cell_type": "code",
      "metadata": {
        "colab": {
          "base_uri": "https://localhost:8080/"
        },
        "id": "HB5OyKtPU81g",
        "outputId": "6b870daf-286b-4a48-8f06-d9e9661a4c9d"
      },
      "source": [
        "ponderacao_por_verossimilhanca(grass_model, 'R', None, 500)"
      ],
      "execution_count": 83,
      "outputs": [
        {
          "output_type": "stream",
          "text": [
            "Valor aproximado para a consulta: \n"
          ],
          "name": "stdout"
        },
        {
          "output_type": "execute_result",
          "data": {
            "text/plain": [
              "{'F': 0.824, 'T': 0.176}"
            ]
          },
          "metadata": {
            "tags": []
          },
          "execution_count": 83
        }
      ]
    },
    {
      "cell_type": "markdown",
      "metadata": {
        "id": "_4yRH7o4U81h"
      },
      "source": [
        "$\\ ii. Pr(S) $\n",
        "\n",
        "\n"
      ]
    },
    {
      "cell_type": "markdown",
      "metadata": {
        "id": "ZwUF0OfNU81i"
      },
      "source": [
        "*   **Para 5 amostras:**\n",
        "\n",
        "\n",
        "\n",
        "\n",
        "\n"
      ]
    },
    {
      "cell_type": "code",
      "metadata": {
        "colab": {
          "base_uri": "https://localhost:8080/"
        },
        "id": "LQp_mbNhU81j",
        "outputId": "4a7b4cee-cfb4-48f7-8715-d182b6cfff04"
      },
      "source": [
        "ponderacao_por_verossimilhanca(grass_model, 'S', None, 5)"
      ],
      "execution_count": 84,
      "outputs": [
        {
          "output_type": "stream",
          "text": [
            "Valor aproximado para a consulta: \n"
          ],
          "name": "stdout"
        },
        {
          "output_type": "execute_result",
          "data": {
            "text/plain": [
              "{'F': 0.4, 'T': 0.6}"
            ]
          },
          "metadata": {
            "tags": []
          },
          "execution_count": 84
        }
      ]
    },
    {
      "cell_type": "markdown",
      "metadata": {
        "id": "LjIgqpXyU81k"
      },
      "source": [
        "*   **Para 50 amostras:**\n",
        "\n",
        "\n",
        "\n",
        "\n",
        "\n"
      ]
    },
    {
      "cell_type": "code",
      "metadata": {
        "colab": {
          "base_uri": "https://localhost:8080/"
        },
        "id": "IBf6ov5vU81l",
        "outputId": "e400b3b8-f0fc-4017-e71c-dfcc6410c328"
      },
      "source": [
        "ponderacao_por_verossimilhanca(grass_model, 'S', None, 50)"
      ],
      "execution_count": 85,
      "outputs": [
        {
          "output_type": "stream",
          "text": [
            "Valor aproximado para a consulta: \n"
          ],
          "name": "stdout"
        },
        {
          "output_type": "execute_result",
          "data": {
            "text/plain": [
              "{'F': 0.74, 'T': 0.26}"
            ]
          },
          "metadata": {
            "tags": []
          },
          "execution_count": 85
        }
      ]
    },
    {
      "cell_type": "markdown",
      "metadata": {
        "id": "Z5JoZLpJU81m"
      },
      "source": [
        "*   **Para 500 amostras:**\n",
        "\n",
        "\n",
        "\n",
        "\n",
        "\n"
      ]
    },
    {
      "cell_type": "code",
      "metadata": {
        "colab": {
          "base_uri": "https://localhost:8080/"
        },
        "id": "XVRJtIznU81n",
        "outputId": "26fb5e60-c91c-467a-9c40-db76e3e63302"
      },
      "source": [
        "ponderacao_por_verossimilhanca(grass_model, 'S', None, 500)"
      ],
      "execution_count": 86,
      "outputs": [
        {
          "output_type": "stream",
          "text": [
            "Valor aproximado para a consulta: \n"
          ],
          "name": "stdout"
        },
        {
          "output_type": "execute_result",
          "data": {
            "text/plain": [
              "{'F': 0.722, 'T': 0.278}"
            ]
          },
          "metadata": {
            "tags": []
          },
          "execution_count": 86
        }
      ]
    },
    {
      "cell_type": "markdown",
      "metadata": {
        "id": "pX3ofDUBU81o"
      },
      "source": [
        "$\\ iii. Pr(G) $\n",
        "\n",
        "\n"
      ]
    },
    {
      "cell_type": "markdown",
      "metadata": {
        "id": "YytKy0ZxU81o"
      },
      "source": [
        "*   **Para 5 amostras:**\n",
        "\n",
        "\n",
        "\n",
        "\n",
        "\n"
      ]
    },
    {
      "cell_type": "code",
      "metadata": {
        "colab": {
          "base_uri": "https://localhost:8080/"
        },
        "id": "Kb3NCa7QU81p",
        "outputId": "3eec6a43-479d-4ee4-a2ec-d4a43a958d09"
      },
      "source": [
        "ponderacao_por_verossimilhanca(grass_model, 'G', None, 5)"
      ],
      "execution_count": 87,
      "outputs": [
        {
          "output_type": "stream",
          "text": [
            "Valor aproximado para a consulta: \n"
          ],
          "name": "stdout"
        },
        {
          "output_type": "execute_result",
          "data": {
            "text/plain": [
              "{'F': 0.6, 'T': 0.4}"
            ]
          },
          "metadata": {
            "tags": []
          },
          "execution_count": 87
        }
      ]
    },
    {
      "cell_type": "markdown",
      "metadata": {
        "id": "gAhh6om3U81q"
      },
      "source": [
        "*   **Para 50 amostras:**\n",
        "\n",
        "\n",
        "\n",
        "\n",
        "\n"
      ]
    },
    {
      "cell_type": "code",
      "metadata": {
        "colab": {
          "base_uri": "https://localhost:8080/"
        },
        "id": "eSpU8Z5UU81q",
        "outputId": "ffe9610d-af15-4fea-ca18-611a3ff289ef"
      },
      "source": [
        "ponderacao_por_verossimilhanca(grass_model, 'G', None, 50)"
      ],
      "execution_count": 88,
      "outputs": [
        {
          "output_type": "stream",
          "text": [
            "Valor aproximado para a consulta: \n"
          ],
          "name": "stdout"
        },
        {
          "output_type": "execute_result",
          "data": {
            "text/plain": [
              "{'F': 0.78, 'T': 0.22}"
            ]
          },
          "metadata": {
            "tags": []
          },
          "execution_count": 88
        }
      ]
    },
    {
      "cell_type": "markdown",
      "metadata": {
        "id": "RpNHvDg9U81r"
      },
      "source": [
        "*   **Para 500 amostras:**\n",
        "\n",
        "\n",
        "\n",
        "\n",
        "\n"
      ]
    },
    {
      "cell_type": "code",
      "metadata": {
        "colab": {
          "base_uri": "https://localhost:8080/"
        },
        "id": "0rczeRlyU81r",
        "outputId": "1cf5093a-b419-4f4f-9bbb-fe3d51fe77f8"
      },
      "source": [
        "ponderacao_por_verossimilhanca(grass_model, 'G', None, 500)"
      ],
      "execution_count": 89,
      "outputs": [
        {
          "output_type": "stream",
          "text": [
            "Valor aproximado para a consulta: \n"
          ],
          "name": "stdout"
        },
        {
          "output_type": "execute_result",
          "data": {
            "text/plain": [
              "{'F': 0.736, 'T': 0.264}"
            ]
          },
          "metadata": {
            "tags": []
          },
          "execution_count": 89
        }
      ]
    },
    {
      "cell_type": "markdown",
      "metadata": {
        "id": "u8BzS2E_U81s"
      },
      "source": [
        "$\\ iv. Pr(G \\mid S = True) $\n",
        "\n",
        "Agora passamos um parâmetro para obs.\n",
        "\n",
        "\n"
      ]
    },
    {
      "cell_type": "markdown",
      "metadata": {
        "id": "B3o2oE_7U81s"
      },
      "source": [
        "*   **Para 5 amostras:**\n",
        "\n",
        "\n",
        "\n",
        "\n",
        "\n"
      ]
    },
    {
      "cell_type": "code",
      "metadata": {
        "colab": {
          "base_uri": "https://localhost:8080/"
        },
        "id": "4EAi-QJfU81t",
        "outputId": "97ba106e-34cd-404d-9c25-33f32ddfde5b"
      },
      "source": [
        "obs = dict()\n",
        "obs['S'] = 'T'\n",
        "ponderacao_por_verossimilhanca(grass_model, 'G', obs, 5)"
      ],
      "execution_count": 90,
      "outputs": [
        {
          "output_type": "stream",
          "text": [
            "Valor aproximado para a consulta: \n"
          ],
          "name": "stdout"
        },
        {
          "output_type": "execute_result",
          "data": {
            "text/plain": [
              "{'F': 1.0, 'T': 0.0}"
            ]
          },
          "metadata": {
            "tags": []
          },
          "execution_count": 90
        }
      ]
    },
    {
      "cell_type": "markdown",
      "metadata": {
        "id": "kt1amknRU81t"
      },
      "source": [
        "*   **Para 50 amostras:**\n",
        "\n",
        "\n",
        "\n",
        "\n",
        "\n"
      ]
    },
    {
      "cell_type": "code",
      "metadata": {
        "colab": {
          "base_uri": "https://localhost:8080/"
        },
        "id": "lxaXzvK-U81u",
        "outputId": "7cd1c8dc-8c5b-4b96-c16e-696822f634eb"
      },
      "source": [
        "obs = dict()\n",
        "obs['S'] = 'T'\n",
        "ponderacao_por_verossimilhanca(grass_model, 'G', obs, 50)"
      ],
      "execution_count": 91,
      "outputs": [
        {
          "output_type": "stream",
          "text": [
            "Valor aproximado para a consulta: \n"
          ],
          "name": "stdout"
        },
        {
          "output_type": "execute_result",
          "data": {
            "text/plain": [
              "{'F': 0.9717314487632509, 'T': 0.028268551236749106}"
            ]
          },
          "metadata": {
            "tags": []
          },
          "execution_count": 91
        }
      ]
    },
    {
      "cell_type": "markdown",
      "metadata": {
        "id": "MK7mjNitU81u"
      },
      "source": [
        "*   **Para 500 amostras:**\n",
        "\n",
        "\n",
        "\n",
        "\n",
        "\n"
      ]
    },
    {
      "cell_type": "code",
      "metadata": {
        "colab": {
          "base_uri": "https://localhost:8080/"
        },
        "id": "duBeQwzEU81v",
        "outputId": "4b843f6d-358c-4476-be94-0e615312d325"
      },
      "source": [
        "obs = dict()\n",
        "obs['S'] = 'T'\n",
        "ponderacao_por_verossimilhanca(grass_model, 'G', obs, 500)"
      ],
      "execution_count": 92,
      "outputs": [
        {
          "output_type": "stream",
          "text": [
            "Valor aproximado para a consulta: \n"
          ],
          "name": "stdout"
        },
        {
          "output_type": "execute_result",
          "data": {
            "text/plain": [
              "{'F': 0.9950068655598552, 'T': 0.004993134440144763}"
            ]
          },
          "metadata": {
            "tags": []
          },
          "execution_count": 92
        }
      ]
    },
    {
      "cell_type": "markdown",
      "metadata": {
        "id": "YuZ1ozW-U81v"
      },
      "source": [
        " $\\ v. Pr(G \\mid S = False) $\n",
        "\n",
        "\n"
      ]
    },
    {
      "cell_type": "markdown",
      "metadata": {
        "id": "b5XTUHSoU81w"
      },
      "source": [
        "*   **Para 5 amostras:**\n",
        "\n",
        "\n",
        "\n",
        "\n",
        "\n"
      ]
    },
    {
      "cell_type": "code",
      "metadata": {
        "colab": {
          "base_uri": "https://localhost:8080/"
        },
        "id": "HIlzDltcU81w",
        "outputId": "7078c833-5bb4-4535-991d-5a48c2814194"
      },
      "source": [
        "obs = dict()\n",
        "obs['S'] = 'F'\n",
        "ponderacao_por_verossimilhanca(grass_model, 'G', obs, 5)"
      ],
      "execution_count": 93,
      "outputs": [
        {
          "output_type": "stream",
          "text": [
            "Valor aproximado para a consulta: \n"
          ],
          "name": "stdout"
        },
        {
          "output_type": "execute_result",
          "data": {
            "text/plain": [
              "{'F': 0.4690265486725664, 'T': 0.5309734513274337}"
            ]
          },
          "metadata": {
            "tags": []
          },
          "execution_count": 93
        }
      ]
    },
    {
      "cell_type": "markdown",
      "metadata": {
        "id": "UymkRbSKU81w"
      },
      "source": [
        "*   **Para 50 amostras:**\n",
        "\n",
        "\n",
        "\n",
        "\n",
        "\n"
      ]
    },
    {
      "cell_type": "code",
      "metadata": {
        "colab": {
          "base_uri": "https://localhost:8080/"
        },
        "id": "-rrGQJ1iU81x",
        "outputId": "0dd5f330-975f-44ad-b77e-1dbef62696d4"
      },
      "source": [
        "obs = dict()\n",
        "obs['S'] = 'F'\n",
        "ponderacao_por_verossimilhanca(grass_model, 'G', obs, 50)"
      ],
      "execution_count": 94,
      "outputs": [
        {
          "output_type": "stream",
          "text": [
            "Valor aproximado para a consulta: \n"
          ],
          "name": "stdout"
        },
        {
          "output_type": "execute_result",
          "data": {
            "text/plain": [
              "{'F': 0.8230088495575222, 'T': 0.1769911504424778}"
            ]
          },
          "metadata": {
            "tags": []
          },
          "execution_count": 94
        }
      ]
    },
    {
      "cell_type": "markdown",
      "metadata": {
        "id": "QeWzLwSNU81x"
      },
      "source": [
        "*   **Para 500 amostras:**\n",
        "\n",
        "\n",
        "\n",
        "\n",
        "\n"
      ]
    },
    {
      "cell_type": "code",
      "metadata": {
        "colab": {
          "base_uri": "https://localhost:8080/"
        },
        "id": "CbC9Ys8eU81y",
        "outputId": "76883b38-603c-48f6-d35a-527ce8a591fc"
      },
      "source": [
        "obs = dict()\n",
        "obs['S'] = 'F'\n",
        "ponderacao_por_verossimilhanca(grass_model, 'G', obs, 500)"
      ],
      "execution_count": 95,
      "outputs": [
        {
          "output_type": "stream",
          "text": [
            "Valor aproximado para a consulta: \n"
          ],
          "name": "stdout"
        },
        {
          "output_type": "execute_result",
          "data": {
            "text/plain": [
              "{'F': 0.6994296916770629, 'T': 0.300570308322937}"
            ]
          },
          "metadata": {
            "tags": []
          },
          "execution_count": 95
        }
      ]
    },
    {
      "cell_type": "markdown",
      "metadata": {
        "id": "67nTe3ZxbxjH"
      },
      "source": [
        "### Conclusão\n",
        "\n",
        "Analisando os resultados obtidos pelas consultas realizadas através dos dois métodos, percebebemos que na maior parte dos casos, quanto maior o número de amostras analisadas, mais acurada a aproximação para os valores de probabilidade se torna. Esse é um resultado esperado, que está de acordo com a Lei dos Grandes Números e seria mais facilmente observado se trabalhássemos com amostras de tamanhos ainda maiores que 500.\n",
        "\n",
        "Apesar de não ter sido notada uma diferença grande nos resultados entre os dois métodos de amostragem para os números de amostras utilizados, percebemos que o método de Amostragem a Priori requer mais computação, pelo fato de ser necessária realizar a filtragem das amostras totais para obter as amostras em que a evidência ocorre.\n",
        "\n"
      ]
    }
  ]
}