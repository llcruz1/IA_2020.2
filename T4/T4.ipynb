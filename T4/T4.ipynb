{
  "nbformat": 4,
  "nbformat_minor": 0,
  "metadata": {
    "colab": {
      "name": "T4.ipynb",
      "provenance": [],
      "collapsed_sections": [],
      "toc_visible": true
    },
    "kernelspec": {
      "name": "python3",
      "display_name": "Python 3"
    },
    "language_info": {
      "name": "python"
    }
  },
  "cells": [
    {
      "cell_type": "markdown",
      "metadata": {
        "id": "2DZJNlJQo6c3"
      },
      "source": [
        "# Instalação"
      ]
    },
    {
      "cell_type": "code",
      "metadata": {
        "id": "u3tefBGWMeGC",
        "colab": {
          "base_uri": "https://localhost:8080/"
        },
        "outputId": "3750d2dd-a48e-432e-e05e-7d984e6a943b"
      },
      "source": [
        "!pip install pgmpy"
      ],
      "execution_count": null,
      "outputs": [
        {
          "output_type": "stream",
          "text": [
            "Requirement already satisfied: pgmpy in /usr/local/lib/python3.7/dist-packages (0.1.14)\n",
            "Requirement already satisfied: pandas in /usr/local/lib/python3.7/dist-packages (from pgmpy) (1.1.5)\n",
            "Requirement already satisfied: networkx in /usr/local/lib/python3.7/dist-packages (from pgmpy) (2.5.1)\n",
            "Requirement already satisfied: pyparsing in /usr/local/lib/python3.7/dist-packages (from pgmpy) (2.4.7)\n",
            "Requirement already satisfied: numpy in /usr/local/lib/python3.7/dist-packages (from pgmpy) (1.19.5)\n",
            "Requirement already satisfied: scipy in /usr/local/lib/python3.7/dist-packages (from pgmpy) (1.4.1)\n",
            "Requirement already satisfied: torch in /usr/local/lib/python3.7/dist-packages (from pgmpy) (1.8.1+cu101)\n",
            "Requirement already satisfied: statsmodels in /usr/local/lib/python3.7/dist-packages (from pgmpy) (0.10.2)\n",
            "Requirement already satisfied: joblib in /usr/local/lib/python3.7/dist-packages (from pgmpy) (1.0.1)\n",
            "Requirement already satisfied: scikit-learn in /usr/local/lib/python3.7/dist-packages (from pgmpy) (0.22.2.post1)\n",
            "Requirement already satisfied: tqdm in /usr/local/lib/python3.7/dist-packages (from pgmpy) (4.41.1)\n",
            "Requirement already satisfied: pytz>=2017.2 in /usr/local/lib/python3.7/dist-packages (from pandas->pgmpy) (2018.9)\n",
            "Requirement already satisfied: python-dateutil>=2.7.3 in /usr/local/lib/python3.7/dist-packages (from pandas->pgmpy) (2.8.1)\n",
            "Requirement already satisfied: decorator<5,>=4.3 in /usr/local/lib/python3.7/dist-packages (from networkx->pgmpy) (4.4.2)\n",
            "Requirement already satisfied: typing-extensions in /usr/local/lib/python3.7/dist-packages (from torch->pgmpy) (3.7.4.3)\n",
            "Requirement already satisfied: patsy>=0.4.0 in /usr/local/lib/python3.7/dist-packages (from statsmodels->pgmpy) (0.5.1)\n",
            "Requirement already satisfied: six>=1.5 in /usr/local/lib/python3.7/dist-packages (from python-dateutil>=2.7.3->pandas->pgmpy) (1.15.0)\n"
          ],
          "name": "stdout"
        }
      ]
    },
    {
      "cell_type": "code",
      "metadata": {
        "id": "93H4UJcRZmR5",
        "colab": {
          "base_uri": "https://localhost:8080/"
        },
        "outputId": "b78d3c39-809a-4ea1-b5cc-93d196f0c466"
      },
      "source": [
        "!pip install networkx"
      ],
      "execution_count": null,
      "outputs": [
        {
          "output_type": "stream",
          "text": [
            "Requirement already satisfied: networkx in /usr/local/lib/python3.7/dist-packages (2.5.1)\n",
            "Requirement already satisfied: decorator<5,>=4.3 in /usr/local/lib/python3.7/dist-packages (from networkx) (4.4.2)\n"
          ],
          "name": "stdout"
        }
      ]
    },
    {
      "cell_type": "markdown",
      "metadata": {
        "id": "bF2jTCJux3YF"
      },
      "source": [
        "# Inferência Exata"
      ]
    },
    {
      "cell_type": "markdown",
      "metadata": {
        "id": "ISLsIPUa0gpY"
      },
      "source": [
        "### Construção da Rede Bayesiana\n",
        "Construindo uma Rede Bayesiana com as variáveis fornecidas no enunciado, com os nós definidos em ordem topológica:\n",
        "\n",
        "\n"
      ]
    },
    {
      "cell_type": "code",
      "metadata": {
        "id": "aV6cXHN402P0"
      },
      "source": [
        "from pgmpy.models import BayesianModel\n",
        "\n",
        "symptom_model = BayesianModel([('G', 'A'), \n",
        "                               ('A', 'S'),\n",
        "                               ('B', 'S')])"
      ],
      "execution_count": null,
      "outputs": []
    },
    {
      "cell_type": "markdown",
      "metadata": {
        "id": "NP5k2Bx43u1H"
      },
      "source": [
        "## Grafo Acíclico Direcionado\n",
        "Agora criando um Grafo Acíclico Direcionado para visualização da rede bayesiana:"
      ]
    },
    {
      "cell_type": "code",
      "metadata": {
        "colab": {
          "base_uri": "https://localhost:8080/",
          "height": 319
        },
        "id": "WY4fM49x32n6",
        "outputId": "c8e87f99-957d-4a5c-ebd1-a809bd4dc5a1"
      },
      "source": [
        "import networkx as nx\n",
        "import matplotlib.pyplot as plt\n",
        "\n",
        "nx.draw(symptom_model, with_labels = True); \n",
        "plt.show()"
      ],
      "execution_count": null,
      "outputs": [
        {
          "output_type": "display_data",
          "data": {
            "image/png": "[encoded data removed]",
            "text/plain": [
              "<Figure size 432x288 with 1 Axes>"
            ]
          },
          "metadata": {
            "tags": []
          }
        }
      ]
    },
    {
      "cell_type": "markdown",
      "metadata": {
        "id": "KTJ7H6p15eAG"
      },
      "source": [
        "## Distribuições de Probabilidade Condicional\n",
        "\n",
        "Agora, vamos especificar as Distribuições de Probabilidade Condicional para as variáveis da rede, de acordo com os valores fornecidos no enunciado:"
      ]
    },
    {
      "cell_type": "code",
      "metadata": {
        "id": "TViKvifF6qD3"
      },
      "source": [
        "from pgmpy.factors.discrete import TabularCPD\n",
        "\n",
        "cpd_G = TabularCPD( variable='G', \n",
        "                    variable_card=2,\n",
        "                    values=[[0.1], [0.9]],\n",
        "                    state_names={'G': ['+g', '-g']}\n",
        "                  )\n",
        "\n",
        "cpd_A = TabularCPD( variable='A', \n",
        "                    variable_card=2,\n",
        "                    values=[[1.0, 0.1],\n",
        "                            [0.0, 0.9]\n",
        "                           ],\n",
        "                    state_names={ 'A': ['+a', '-a'],\n",
        "                                  'G': ['+g', '-g']                                          \n",
        "                                },\n",
        "                    evidence=['G'], \n",
        "                    evidence_card=[2]\n",
        "                  )\n",
        "\n",
        "cpd_B = TabularCPD( variable='B', \n",
        "                    variable_card=2,\n",
        "                    values=[[0.4], [0.6]],\n",
        "                    state_names={'B': ['+b', '-b']}\n",
        "                  )\n",
        "\n",
        "cpd_S = TabularCPD( variable='S', \n",
        "                    variable_card=2,\n",
        "                    values=[[1.0, 0.9, 0.8, 0.1],\n",
        "                            [0.0, 0.1, 0.2, 0.9]\n",
        "                           ],\n",
        "                    state_names={ 'S': ['+s', '-s'],\n",
        "                                  'A': ['+a', '-a'],\n",
        "                                  'B': ['+b', '-b'],\n",
        "                                },\n",
        "                    evidence=['A', 'B'], \n",
        "                    evidence_card=[2,2]\n",
        "                   )"
      ],
      "execution_count": null,
      "outputs": []
    },
    {
      "cell_type": "markdown",
      "metadata": {
        "id": "Xdwp_4f3aUAc"
      },
      "source": [
        "Adicionando cada CPD a sua variável correspondente no grafo da Rede Bayesiana:"
      ]
    },
    {
      "cell_type": "code",
      "metadata": {
        "id": "FFTFSdl6azSS"
      },
      "source": [
        "symptom_model.add_cpds(cpd_G, cpd_A, cpd_B, cpd_S)"
      ],
      "execution_count": null,
      "outputs": []
    },
    {
      "cell_type": "markdown",
      "metadata": {
        "id": "IBifTLwCa9Rr"
      },
      "source": [
        "Verificando sintáticamente a rede bayesiana:"
      ]
    },
    {
      "cell_type": "code",
      "metadata": {
        "colab": {
          "base_uri": "https://localhost:8080/"
        },
        "id": "ew6XivCia8VD",
        "outputId": "98ea60d0-0a3e-44bd-b660-b6fd4c947b39"
      },
      "source": [
        "symptom_model.check_model()"
      ],
      "execution_count": null,
      "outputs": [
        {
          "output_type": "execute_result",
          "data": {
            "text/plain": [
              "True"
            ]
          },
          "metadata": {
            "tags": []
          },
          "execution_count": 228
        }
      ]
    },
    {
      "cell_type": "markdown",
      "metadata": {
        "id": "YsHMxlUObMA0"
      },
      "source": [
        "## Realizando Inferências\n",
        "\n",
        "Agora podemos realizar inferências sobre o modelo construído."
      ]
    },
    {
      "cell_type": "code",
      "metadata": {
        "id": "dsNj4RcfgTWb"
      },
      "source": [
        "from pgmpy.inference import VariableElimination"
      ],
      "execution_count": null,
      "outputs": []
    },
    {
      "cell_type": "code",
      "metadata": {
        "id": "UmTYNPXIgVBT"
      },
      "source": [
        "symptom_infer = VariableElimination(symptom_model)"
      ],
      "execution_count": null,
      "outputs": []
    },
    {
      "cell_type": "markdown",
      "metadata": {
        "id": "S-qUmyloet6_"
      },
      "source": [
        "$\\ i. Pr(+g, +a, +b, +s) = 0.04$\n",
        "\n",
        "\n",
        "\n"
      ]
    },
    {
      "cell_type": "code",
      "metadata": {
        "colab": {
          "base_uri": "https://localhost:8080/"
        },
        "id": "nTSCKcL9AIgF",
        "outputId": "b4c2181c-edbc-4d99-8617-aab3c31519b0"
      },
      "source": [
        "joint = symptom_infer.query(variables=['G', 'A', 'B', 'S'])\n",
        "print(joint)"
      ],
      "execution_count": null,
      "outputs": [
        {
          "output_type": "stream",
          "text": [
            "Finding Elimination Order: : : 0it [00:00, ?it/s]\n",
            "0it [00:00, ?it/s]"
          ],
          "name": "stderr"
        },
        {
          "output_type": "stream",
          "text": [
            "+-------+-------+-------+-------+----------------+\n",
            "| S     | A     | B     | G     |   phi(S,A,B,G) |\n",
            "+=======+=======+=======+=======+================+\n",
            "| S(+s) | A(+a) | B(+b) | G(+g) |         0.0400 |\n",
            "+-------+-------+-------+-------+----------------+\n",
            "| S(+s) | A(+a) | B(+b) | G(-g) |         0.0360 |\n",
            "+-------+-------+-------+-------+----------------+\n",
            "| S(+s) | A(+a) | B(-b) | G(+g) |         0.0540 |\n",
            "+-------+-------+-------+-------+----------------+\n",
            "| S(+s) | A(+a) | B(-b) | G(-g) |         0.0486 |\n",
            "+-------+-------+-------+-------+----------------+\n",
            "| S(+s) | A(-a) | B(+b) | G(+g) |         0.0000 |\n",
            "+-------+-------+-------+-------+----------------+\n",
            "| S(+s) | A(-a) | B(+b) | G(-g) |         0.2592 |\n",
            "+-------+-------+-------+-------+----------------+\n",
            "| S(+s) | A(-a) | B(-b) | G(+g) |         0.0000 |\n",
            "+-------+-------+-------+-------+----------------+\n",
            "| S(+s) | A(-a) | B(-b) | G(-g) |         0.0486 |\n",
            "+-------+-------+-------+-------+----------------+\n",
            "| S(-s) | A(+a) | B(+b) | G(+g) |         0.0000 |\n",
            "+-------+-------+-------+-------+----------------+\n",
            "| S(-s) | A(+a) | B(+b) | G(-g) |         0.0000 |\n",
            "+-------+-------+-------+-------+----------------+\n",
            "| S(-s) | A(+a) | B(-b) | G(+g) |         0.0060 |\n",
            "+-------+-------+-------+-------+----------------+\n",
            "| S(-s) | A(+a) | B(-b) | G(-g) |         0.0054 |\n",
            "+-------+-------+-------+-------+----------------+\n",
            "| S(-s) | A(-a) | B(+b) | G(+g) |         0.0000 |\n",
            "+-------+-------+-------+-------+----------------+\n",
            "| S(-s) | A(-a) | B(+b) | G(-g) |         0.0648 |\n",
            "+-------+-------+-------+-------+----------------+\n",
            "| S(-s) | A(-a) | B(-b) | G(+g) |         0.0000 |\n",
            "+-------+-------+-------+-------+----------------+\n",
            "| S(-s) | A(-a) | B(-b) | G(-g) |         0.4374 |\n",
            "+-------+-------+-------+-------+----------------+\n"
          ],
          "name": "stdout"
        },
        {
          "output_type": "stream",
          "text": [
            "\n"
          ],
          "name": "stderr"
        }
      ]
    },
    {
      "cell_type": "markdown",
      "metadata": {
        "id": "T1EcyfLLl498"
      },
      "source": [
        " $\\ ii. Pr(+a) = 0.19$"
      ]
    },
    {
      "cell_type": "code",
      "metadata": {
        "colab": {
          "base_uri": "https://localhost:8080/"
        },
        "id": "kiazH6JOot4s",
        "outputId": "ae5cc518-246e-4bc2-9b66-d57a6e00ceeb"
      },
      "source": [
        "prob = symptom_infer.query(variables=['A'])\n",
        "print(prob)"
      ],
      "execution_count": null,
      "outputs": [
        {
          "output_type": "stream",
          "text": [
            "Finding Elimination Order: : 100%|██████████| 3/3 [00:00<00:00, 931.03it/s]\n",
            "Eliminating: G: 100%|██████████| 3/3 [00:00<00:00, 412.47it/s]"
          ],
          "name": "stderr"
        },
        {
          "output_type": "stream",
          "text": [
            "+-------+----------+\n",
            "| A     |   phi(A) |\n",
            "+=======+==========+\n",
            "| A(+a) |   0.1900 |\n",
            "+-------+----------+\n",
            "| A(-a) |   0.8100 |\n",
            "+-------+----------+\n"
          ],
          "name": "stdout"
        },
        {
          "output_type": "stream",
          "text": [
            "\n"
          ],
          "name": "stderr"
        }
      ]
    },
    {
      "cell_type": "markdown",
      "metadata": {
        "id": "TvkUd6GbrFkd"
      },
      "source": [
        "$\\ iii. Pr(+a \\mid +b) = 0.19 $\n",
        "\n",
        "\n",
        "As variáveis A e B são independentes, logo o valor da probabilidade é $P(A=+a)$"
      ]
    },
    {
      "cell_type": "code",
      "metadata": {
        "colab": {
          "base_uri": "https://localhost:8080/"
        },
        "id": "mfQfKC2frbiU",
        "outputId": "dbef8aa7-718e-4ac8-b9a8-e5e99f699037"
      },
      "source": [
        "prob = symptom_infer.query(variables=['A'], evidence = {'B' : '+b'})\n",
        "print(prob)"
      ],
      "execution_count": null,
      "outputs": [
        {
          "output_type": "stream",
          "text": [
            "Finding Elimination Order: : 100%|██████████| 2/2 [00:00<00:00, 559.99it/s]\n",
            "Eliminating: G: 100%|██████████| 2/2 [00:00<00:00, 424.40it/s]"
          ],
          "name": "stderr"
        },
        {
          "output_type": "stream",
          "text": [
            "+-------+----------+\n",
            "| A     |   phi(A) |\n",
            "+=======+==========+\n",
            "| A(+a) |   0.1900 |\n",
            "+-------+----------+\n",
            "| A(-a) |   0.8100 |\n",
            "+-------+----------+\n"
          ],
          "name": "stdout"
        },
        {
          "output_type": "stream",
          "text": [
            "\n"
          ],
          "name": "stderr"
        }
      ]
    },
    {
      "cell_type": "markdown",
      "metadata": {
        "id": "qkEFE66zsfdM"
      },
      "source": [
        "$\\ iv. Pr(+a \\mid +s, +b) = 0.2267$\n"
      ]
    },
    {
      "cell_type": "code",
      "metadata": {
        "colab": {
          "base_uri": "https://localhost:8080/"
        },
        "id": "H5gme8Xbswac",
        "outputId": "1f54865e-89a8-4727-ca4f-16f2500bd0c1"
      },
      "source": [
        "prob = symptom_infer.query(variables=['A'], evidence = {'S': '+s','B' : '+b'})\n",
        "print(prob)"
      ],
      "execution_count": null,
      "outputs": [
        {
          "output_type": "stream",
          "text": [
            "Finding Elimination Order: : 100%|██████████| 1/1 [00:00<00:00, 174.89it/s]\n",
            "Eliminating: G: 100%|██████████| 1/1 [00:00<00:00, 226.24it/s]"
          ],
          "name": "stderr"
        },
        {
          "output_type": "stream",
          "text": [
            "+-------+----------+\n",
            "| A     |   phi(A) |\n",
            "+=======+==========+\n",
            "| A(+a) |   0.2267 |\n",
            "+-------+----------+\n",
            "| A(-a) |   0.7733 |\n",
            "+-------+----------+\n"
          ],
          "name": "stdout"
        },
        {
          "output_type": "stream",
          "text": [
            "\n"
          ],
          "name": "stderr"
        }
      ]
    },
    {
      "cell_type": "markdown",
      "metadata": {
        "id": "IZhVqoOZs9cC"
      },
      "source": [
        "$\\ v. Pr(+g \\mid +a) = 0.5263$\n"
      ]
    },
    {
      "cell_type": "code",
      "metadata": {
        "colab": {
          "base_uri": "https://localhost:8080/"
        },
        "id": "4SRaLHnRtLEW",
        "outputId": "f36b6af3-d8f9-443b-f2d9-93055c067749"
      },
      "source": [
        "prob = symptom_infer.query(variables=['G'], evidence = {'A': '+a'})\n",
        "print(prob)"
      ],
      "execution_count": null,
      "outputs": [
        {
          "output_type": "stream",
          "text": [
            "Finding Elimination Order: : 100%|██████████| 2/2 [00:00<00:00, 583.76it/s]\n",
            "Eliminating: S: 100%|██████████| 2/2 [00:00<00:00, 491.86it/s]"
          ],
          "name": "stderr"
        },
        {
          "output_type": "stream",
          "text": [
            "+-------+----------+\n",
            "| G     |   phi(G) |\n",
            "+=======+==========+\n",
            "| G(+g) |   0.5263 |\n",
            "+-------+----------+\n",
            "| G(-g) |   0.4737 |\n",
            "+-------+----------+\n"
          ],
          "name": "stdout"
        },
        {
          "output_type": "stream",
          "text": [
            "\n"
          ],
          "name": "stderr"
        }
      ]
    },
    {
      "cell_type": "markdown",
      "metadata": {
        "id": "oGhIeXf1tXyT"
      },
      "source": [
        "$\\ vi.Pr(+g \\mid +b) = 0.1 $\n"
      ]
    },
    {
      "cell_type": "code",
      "metadata": {
        "id": "StG1z1jGteOZ",
        "colab": {
          "base_uri": "https://localhost:8080/"
        },
        "outputId": "1667eb08-61e5-4dbd-debf-1f93fd53451f"
      },
      "source": [
        "prob = symptom_infer.query(variables=['G'], evidence = {'B': '+b'})\n",
        "print(prob)"
      ],
      "execution_count": null,
      "outputs": [
        {
          "output_type": "stream",
          "text": [
            "Finding Elimination Order: : 100%|██████████| 2/2 [00:00<00:00, 498.82it/s]\n",
            "Eliminating: A: 100%|██████████| 2/2 [00:00<00:00, 429.41it/s]"
          ],
          "name": "stderr"
        },
        {
          "output_type": "stream",
          "text": [
            "+-------+----------+\n",
            "| G     |   phi(G) |\n",
            "+=======+==========+\n",
            "| G(+g) |   0.1000 |\n",
            "+-------+----------+\n",
            "| G(-g) |   0.9000 |\n",
            "+-------+----------+\n"
          ],
          "name": "stdout"
        },
        {
          "output_type": "stream",
          "text": [
            "\n"
          ],
          "name": "stderr"
        }
      ]
    },
    {
      "cell_type": "markdown",
      "metadata": {
        "id": "VMwRSDpwohp7"
      },
      "source": [
        "# Inferência Aproximada"
      ]
    },
    {
      "cell_type": "markdown",
      "metadata": {
        "id": "Dus2V66ysTGL"
      },
      "source": [
        "## Construção da Rede Bayesiana\n",
        "Construindo a rede bayesiana pedida no enunciado, com os nós definidos em ordem topológica:"
      ]
    },
    {
      "cell_type": "code",
      "metadata": {
        "id": "SWfaHSHDsWqq"
      },
      "source": [
        "grass_model = BayesianModel([ ('R', 'S'), \n",
        "                              ('R', 'G'),\n",
        "                              ('S', 'G')])"
      ],
      "execution_count": null,
      "outputs": []
    },
    {
      "cell_type": "markdown",
      "metadata": {
        "id": "Lf3kEQmstT_W"
      },
      "source": [
        "## Grafo Acíclico Direcionado\n",
        "Criando um Grafo Acíclico Direcionado para visualização:"
      ]
    },
    {
      "cell_type": "code",
      "metadata": {
        "colab": {
          "base_uri": "https://localhost:8080/",
          "height": 319
        },
        "id": "-t9fPpIytatd",
        "outputId": "ac16a80c-ca5e-4288-e102-eb65f2f3da82"
      },
      "source": [
        "nx.draw(grass_model, with_labels = True); \n",
        "plt.show()"
      ],
      "execution_count": null,
      "outputs": [
        {
          "output_type": "display_data",
          "data": {
            "image/png": "[encoded data removed]",
            "text/plain": [
              "<Figure size 432x288 with 1 Axes>"
            ]
          },
          "metadata": {
            "tags": []
          }
        }
      ]
    },
    {
      "cell_type": "markdown",
      "metadata": {
        "id": "KrlJ_dFzt_S8"
      },
      "source": [
        "## Distribuições de Probabilidade Condicional\n",
        "Especificando as Distribuições de Probabilidade Condicional para as variáveis da rede, de acordo com os valores fornecidos no enunciado:"
      ]
    },
    {
      "cell_type": "code",
      "metadata": {
        "id": "Zd7slHehugHG"
      },
      "source": [
        "cpd_R = TabularCPD( variable='R', \n",
        "                    variable_card=2,\n",
        "                    values=[[0.2], [0.8]],\n",
        "                    state_names={'R': ['T', 'F']}\n",
        "                  )\n",
        "\n",
        "cpd_S = TabularCPD( variable='S', \n",
        "                    variable_card=2,\n",
        "                    values=[[0.01, 0.4],\n",
        "                            [0.99, 0.6]\n",
        "                           ],\n",
        "                    state_names={'S': ['T', 'F'],\n",
        "                                 'R': ['T', 'F']\n",
        "                                },\n",
        "                    evidence=['R'],\n",
        "                    evidence_card=[2]\n",
        "                  )\n",
        "\n",
        "cpd_G = TabularCPD( variable='G', \n",
        "                    variable_card=2,\n",
        "                    values=[[0.01, 0.01, 0.01, 0.4],\n",
        "                            [0.99, 0.99, 0.99, 0.6]\n",
        "                           ],\n",
        "                    state_names={ 'G': ['T', 'F'],\n",
        "                                  'S': ['T', 'F'],\n",
        "                                  'R': ['T', 'F'],\n",
        "                                },\n",
        "                    evidence=['S', 'R'], \n",
        "                    evidence_card=[2,2]\n",
        "                   )"
      ],
      "execution_count": null,
      "outputs": []
    },
    {
      "cell_type": "markdown",
      "metadata": {
        "id": "a63gfY323MMw"
      },
      "source": [
        "Adicionando cada CPD a sua variável correspondente no grafo da Rede Bayesiana:"
      ]
    },
    {
      "cell_type": "code",
      "metadata": {
        "id": "p8dkclTm3MMx"
      },
      "source": [
        "grass_model.add_cpds(cpd_R, cpd_S, cpd_G)"
      ],
      "execution_count": null,
      "outputs": []
    },
    {
      "cell_type": "markdown",
      "metadata": {
        "id": "34fYcymJ3MMy"
      },
      "source": [
        "Verificando sintáticamente a rede bayesiana:"
      ]
    },
    {
      "cell_type": "code",
      "metadata": {
        "colab": {
          "base_uri": "https://localhost:8080/"
        },
        "id": "vrQ3Q9fB3MMz",
        "outputId": "78f9099a-48a0-4c98-c008-ed75104e98c2"
      },
      "source": [
        "grass_model.check_model()"
      ],
      "execution_count": null,
      "outputs": [
        {
          "output_type": "execute_result",
          "data": {
            "text/plain": [
              "True"
            ]
          },
          "metadata": {
            "tags": []
          },
          "execution_count": 241
        }
      ]
    },
    {
      "cell_type": "markdown",
      "metadata": {
        "id": "HprOaH43Zz4T"
      },
      "source": [
        "## Implementação de Algoritmos"
      ]
    },
    {
      "cell_type": "markdown",
      "metadata": {
        "id": "BEfteA43aC2U"
      },
      "source": [
        "Para a implementação dos métodos de amostragem na rede bayesiana, usaremos a função auxiliar abaixo, que tem como objetivo realizar uma dada variável da rede bayesiana considerando sua cpd e os valores dos nós pais para a variável, caso existam:"
      ]
    },
    {
      "cell_type": "code",
      "metadata": {
        "id": "pr6qFLhYaBHu"
      },
      "source": [
        "import numpy as np\n",
        "\n",
        "def realize_variable(bayesian_model, variable_name, parents):\n",
        "  \"\"\"\n",
        "    Gera um valor para uma variável da rede bayesiana, de acordo com sua cpd \n",
        "    e os valores dos nós pais para essa variável, caso existam.\n",
        "  \"\"\"\n",
        "  cpd_table = bayesian_model.get_cpds(variable_name)\n",
        "  variables_in_cpd = cpd_table.variables\n",
        "  cpd = cpd_table\n",
        "\n",
        "  if parents:\n",
        "    # Verifica se existem nós pais para a variável.\n",
        "    conditioners = []\n",
        "    for key, value in parents.items():\n",
        "      if key == variable_name:\n",
        "        continue\n",
        "      if key not in variables_in_cpd:\n",
        "        continue\n",
        "      conditioners.append((key, value))\n",
        "    cpd = cpd_table.reduce(conditioners, inplace  = False)\n",
        "  \n",
        "  state_names_dict = bayesian_model.get_cpds(variable_name).state_names\n",
        "\n",
        "  values = state_names_dict[variable_name]\n",
        "  probs = cpd.get_values()\n",
        "\n",
        "  # Gera um valor para a variável.\n",
        "  cum_sum = np.cumsum(probs)\n",
        "  s = np.random.uniform(0,1)\n",
        "  for j in range(cum_sum.shape[0]):\n",
        "    if s < cum_sum[j]:\n",
        "      return values[j]"
      ],
      "execution_count": null,
      "outputs": []
    },
    {
      "cell_type": "markdown",
      "metadata": {
        "id": "hxdB3-4rIY1s"
      },
      "source": [
        "### Amostragem a Priori"
      ]
    },
    {
      "cell_type": "markdown",
      "metadata": {
        "id": "K7DECAtWamCZ"
      },
      "source": [
        "Agora implementando o algoritmo do método de Amostragem a Priori, utilizando a assinatura fornecida no enuncaido do trabalho:"
      ]
    },
    {
      "cell_type": "code",
      "metadata": {
        "id": "-sL5T_AHrKKh"
      },
      "source": [
        "def amostragem_a_priori(rede_bayesiana, q, obs, num_amostras):\n",
        "  \"\"\"\n",
        "    Faz a coleta de amostras utilizando o método de Amostragem a Priori e\n",
        "    retorna uma aproximação para os valores possíveis da variável q na consulta\n",
        "    P(q | obs)\n",
        "  \"\"\"\n",
        "\n",
        "  q_probs = dict() # Retorno da função, um dicionario com elementos (k,v) \n",
        "                   # onde k é um valor possível da variável q,\n",
        "                   # e v é a probabilidade aproximada desse valor ocorrer \n",
        "                   # computada pela função.\n",
        "\n",
        "  samples = dict() # Dicionário para armazenar as amostras colhidas.\n",
        "                   # Seus elementos são da forma (k,v), em que k é o indíce\n",
        "                   # da amostra colhida, e v é a própria amostra.\n",
        "                   # Ex: {1: {Rain: 'T', Sprinkler: 'F, Wet: 'T' }}\n",
        "\n",
        "  n_samples_evidence_true = 0 # Variável auxiliar para armazenar o número\n",
        "                              # de amostras em que a evidência obs acontece.\n",
        "\n",
        "  q_values = [] # Lista auxiliar para armazenar todos os valores de q nas \n",
        "                # amostras em que obs acontece.\n",
        "  \n",
        "  variables = grass_model.nodes()\n",
        "\n",
        "  for i in range(1, num_amostras+1):\n",
        "    # Coleta de amostras seguindo a ordem topológica da rede bayesiana.\n",
        "\n",
        "    parents = dict() # Armazena o valor dos nós pais da variável atual sendo \n",
        "                     # amostrada e é incrementado de forma que ao final do loop\n",
        "                     # equivalha à própria amostra.\n",
        "    sample = dict()\n",
        "\n",
        "    for v in variables:\n",
        "      parents[v] = realize_variable(rede_bayesiana, v, parents) \n",
        "      sample = parents\n",
        "    samples[i] = sample\n",
        "  \n",
        "  print(\"Amostras:\\n\", samples)\n",
        "\n",
        "  for sample in samples.values():\n",
        "    # Consulta com base nas amostras colhidas.\n",
        "    \n",
        "    if obs:\n",
        "      # Caso obs exista, verifica se obs está contido em cada amostra.\n",
        "      # obs_is_subset_of_sample retorna True se obs está contido em sample.\n",
        "      obs_is_subset_of_sample = all(sample.get(key, None) == value for key, value in obs.items())\n",
        "      if obs_is_subset_of_sample:\n",
        "        # Se a amostra contém a evidência, adiciona o valor da chave q na lista \n",
        "        # q_values.\n",
        "        n_samples_evidence_true += 1\n",
        "        q_values.append(sample[q])\n",
        "    else:\n",
        "      # Caso obs não exista, adiciona todos os valores das chaves q na lista \n",
        "      # q_values.\n",
        "      n_samples_evidence_true = num_amostras\n",
        "      q_values.append(sample[q])\n",
        "    \n",
        "  # Armazena a quantidade de ocorrências para cada possível valor de q e\n",
        "  # obtém a probabilidade fazendo a divisão por n_sample_evidence_true.\n",
        "  q_probs = {i: (q_values.count(i)/n_samples_evidence_true) for i in q_values}\n",
        "\n",
        "  print('Valor aproximado para a consulta: ')\n",
        "  return q_probs\n",
        "\n",
        "\n"
      ],
      "execution_count": null,
      "outputs": []
    },
    {
      "cell_type": "markdown",
      "metadata": {
        "id": "aEOepMsFcgRq"
      },
      "source": [
        "#### Realizando Inferências\n",
        "\n",
        "Agora realizando as consultas pedidas pelo enunciado usando Amostragem a Priori:\n"
      ]
    },
    {
      "cell_type": "markdown",
      "metadata": {
        "id": "MIcVHqgDd3bf"
      },
      "source": [
        "$\\ i. Pr(R) $\n",
        "\n",
        "Como não existe evidência, passamos o parâmetro obs como None para a função.\n",
        "\n",
        "\n"
      ]
    },
    {
      "cell_type": "markdown",
      "metadata": {
        "id": "SFB1ntSyexJo"
      },
      "source": [
        "*   **Para 5 amostras:**\n",
        "\n",
        "\n",
        "\n",
        "\n",
        "\n"
      ]
    },
    {
      "cell_type": "code",
      "metadata": {
        "colab": {
          "base_uri": "https://localhost:8080/"
        },
        "id": "2JOJNzIveH8X",
        "outputId": "2f590816-9bd6-47c4-cc1e-8eb560017d29"
      },
      "source": [
        "amostragem_a_priori(grass_model, 'R', None, 5)"
      ],
      "execution_count": null,
      "outputs": [
        {
          "output_type": "stream",
          "text": [
            "Amostras:\n",
            " {1: {'R': 'F', 'S': 'T', 'G': 'F'}, 2: {'R': 'F', 'S': 'T', 'G': 'F'}, 3: {'R': 'F', 'S': 'F', 'G': 'F'}, 4: {'R': 'F', 'S': 'F', 'G': 'T'}, 5: {'R': 'T', 'S': 'F', 'G': 'F'}}\n",
            "Valor aproximado para a consulta: \n"
          ],
          "name": "stdout"
        },
        {
          "output_type": "execute_result",
          "data": {
            "text/plain": [
              "{'F': 0.8, 'T': 0.2}"
            ]
          },
          "metadata": {
            "tags": []
          },
          "execution_count": 244
        }
      ]
    },
    {
      "cell_type": "markdown",
      "metadata": {
        "id": "Icd6Qppsm1Ib"
      },
      "source": [
        "*   **Para 50 amostras:**\n",
        "\n",
        "\n",
        "\n",
        "\n",
        "\n"
      ]
    },
    {
      "cell_type": "code",
      "metadata": {
        "colab": {
          "base_uri": "https://localhost:8080/"
        },
        "id": "1c0Pxv0im1Ic",
        "outputId": "284de8ea-7c08-4adc-e4a8-8fa5923bc9e0"
      },
      "source": [
        "amostragem_a_priori(grass_model, 'R', None, 50)"
      ],
      "execution_count": null,
      "outputs": [
        {
          "output_type": "stream",
          "text": [
            "Amostras:\n",
            " {1: {'R': 'F', 'S': 'F', 'G': 'T'}, 2: {'R': 'F', 'S': 'F', 'G': 'F'}, 3: {'R': 'T', 'S': 'F', 'G': 'F'}, 4: {'R': 'F', 'S': 'T', 'G': 'F'}, 5: {'R': 'F', 'S': 'F', 'G': 'F'}, 6: {'R': 'T', 'S': 'F', 'G': 'F'}, 7: {'R': 'T', 'S': 'F', 'G': 'F'}, 8: {'R': 'F', 'S': 'T', 'G': 'F'}, 9: {'R': 'F', 'S': 'F', 'G': 'F'}, 10: {'R': 'F', 'S': 'F', 'G': 'T'}, 11: {'R': 'F', 'S': 'F', 'G': 'T'}, 12: {'R': 'T', 'S': 'F', 'G': 'F'}, 13: {'R': 'F', 'S': 'F', 'G': 'T'}, 14: {'R': 'T', 'S': 'F', 'G': 'F'}, 15: {'R': 'F', 'S': 'T', 'G': 'F'}, 16: {'R': 'F', 'S': 'T', 'G': 'F'}, 17: {'R': 'F', 'S': 'T', 'G': 'F'}, 18: {'R': 'F', 'S': 'T', 'G': 'F'}, 19: {'R': 'F', 'S': 'F', 'G': 'T'}, 20: {'R': 'F', 'S': 'F', 'G': 'F'}, 21: {'R': 'F', 'S': 'T', 'G': 'F'}, 22: {'R': 'F', 'S': 'T', 'G': 'F'}, 23: {'R': 'F', 'S': 'F', 'G': 'F'}, 24: {'R': 'F', 'S': 'T', 'G': 'F'}, 25: {'R': 'T', 'S': 'F', 'G': 'F'}, 26: {'R': 'F', 'S': 'F', 'G': 'F'}, 27: {'R': 'F', 'S': 'F', 'G': 'T'}, 28: {'R': 'F', 'S': 'T', 'G': 'F'}, 29: {'R': 'F', 'S': 'F', 'G': 'F'}, 30: {'R': 'F', 'S': 'F', 'G': 'F'}, 31: {'R': 'T', 'S': 'F', 'G': 'F'}, 32: {'R': 'T', 'S': 'F', 'G': 'F'}, 33: {'R': 'F', 'S': 'T', 'G': 'F'}, 34: {'R': 'F', 'S': 'F', 'G': 'F'}, 35: {'R': 'T', 'S': 'F', 'G': 'F'}, 36: {'R': 'F', 'S': 'T', 'G': 'F'}, 37: {'R': 'F', 'S': 'F', 'G': 'T'}, 38: {'R': 'T', 'S': 'F', 'G': 'F'}, 39: {'R': 'F', 'S': 'F', 'G': 'T'}, 40: {'R': 'F', 'S': 'F', 'G': 'F'}, 41: {'R': 'F', 'S': 'T', 'G': 'F'}, 42: {'R': 'F', 'S': 'F', 'G': 'F'}, 43: {'R': 'F', 'S': 'F', 'G': 'F'}, 44: {'R': 'T', 'S': 'F', 'G': 'F'}, 45: {'R': 'F', 'S': 'T', 'G': 'F'}, 46: {'R': 'F', 'S': 'F', 'G': 'F'}, 47: {'R': 'F', 'S': 'T', 'G': 'F'}, 48: {'R': 'F', 'S': 'F', 'G': 'F'}, 49: {'R': 'T', 'S': 'F', 'G': 'F'}, 50: {'R': 'T', 'S': 'F', 'G': 'F'}}\n",
            "Valor aproximado para a consulta: \n"
          ],
          "name": "stdout"
        },
        {
          "output_type": "execute_result",
          "data": {
            "text/plain": [
              "{'F': 0.74, 'T': 0.26}"
            ]
          },
          "metadata": {
            "tags": []
          },
          "execution_count": 245
        }
      ]
    },
    {
      "cell_type": "markdown",
      "metadata": {
        "id": "SSe02iUznCPU"
      },
      "source": [
        "*   **Para 500 amostras**:\n",
        "\n",
        "\n",
        "\n",
        "\n",
        "\n"
      ]
    },
    {
      "cell_type": "code",
      "metadata": {
        "colab": {
          "base_uri": "https://localhost:8080/"
        },
        "id": "t_w_azUjnCPV",
        "outputId": "7a3c5041-efee-4a2e-93bf-cc2d04f8c9b8"
      },
      "source": [
        "amostragem_a_priori(grass_model, 'R', None, 500)"
      ],
      "execution_count": null,
      "outputs": [
        {
          "output_type": "stream",
          "text": [
            "Amostras:\n",
            " {1: {'R': 'F', 'S': 'T', 'G': 'F'}, 2: {'R': 'F', 'S': 'F', 'G': 'T'}, 3: {'R': 'T', 'S': 'F', 'G': 'F'}, 4: {'R': 'T', 'S': 'F', 'G': 'F'}, 5: {'R': 'F', 'S': 'F', 'G': 'F'}, 6: {'R': 'F', 'S': 'T', 'G': 'F'}, 7: {'R': 'F', 'S': 'F', 'G': 'T'}, 8: {'R': 'T', 'S': 'F', 'G': 'F'}, 9: {'R': 'T', 'S': 'F', 'G': 'F'}, 10: {'R': 'F', 'S': 'F', 'G': 'F'}, 11: {'R': 'F', 'S': 'T', 'G': 'F'}, 12: {'R': 'F', 'S': 'F', 'G': 'F'}, 13: {'R': 'T', 'S': 'F', 'G': 'F'}, 14: {'R': 'F', 'S': 'F', 'G': 'T'}, 15: {'R': 'F', 'S': 'F', 'G': 'F'}, 16: {'R': 'F', 'S': 'T', 'G': 'F'}, 17: {'R': 'T', 'S': 'F', 'G': 'F'}, 18: {'R': 'F', 'S': 'F', 'G': 'T'}, 19: {'R': 'T', 'S': 'F', 'G': 'F'}, 20: {'R': 'T', 'S': 'F', 'G': 'F'}, 21: {'R': 'F', 'S': 'F', 'G': 'F'}, 22: {'R': 'T', 'S': 'F', 'G': 'F'}, 23: {'R': 'F', 'S': 'T', 'G': 'F'}, 24: {'R': 'T', 'S': 'F', 'G': 'F'}, 25: {'R': 'F', 'S': 'F', 'G': 'F'}, 26: {'R': 'F', 'S': 'F', 'G': 'T'}, 27: {'R': 'F', 'S': 'F', 'G': 'F'}, 28: {'R': 'F', 'S': 'F', 'G': 'F'}, 29: {'R': 'F', 'S': 'T', 'G': 'F'}, 30: {'R': 'F', 'S': 'T', 'G': 'F'}, 31: {'R': 'F', 'S': 'F', 'G': 'F'}, 32: {'R': 'F', 'S': 'F', 'G': 'T'}, 33: {'R': 'F', 'S': 'F', 'G': 'T'}, 34: {'R': 'F', 'S': 'F', 'G': 'F'}, 35: {'R': 'F', 'S': 'F', 'G': 'F'}, 36: {'R': 'F', 'S': 'F', 'G': 'F'}, 37: {'R': 'F', 'S': 'F', 'G': 'F'}, 38: {'R': 'F', 'S': 'T', 'G': 'F'}, 39: {'R': 'F', 'S': 'T', 'G': 'F'}, 40: {'R': 'F', 'S': 'T', 'G': 'F'}, 41: {'R': 'F', 'S': 'F', 'G': 'F'}, 42: {'R': 'F', 'S': 'T', 'G': 'F'}, 43: {'R': 'F', 'S': 'F', 'G': 'F'}, 44: {'R': 'F', 'S': 'F', 'G': 'T'}, 45: {'R': 'T', 'S': 'F', 'G': 'F'}, 46: {'R': 'F', 'S': 'F', 'G': 'F'}, 47: {'R': 'F', 'S': 'F', 'G': 'F'}, 48: {'R': 'F', 'S': 'F', 'G': 'F'}, 49: {'R': 'F', 'S': 'T', 'G': 'F'}, 50: {'R': 'F', 'S': 'T', 'G': 'F'}, 51: {'R': 'F', 'S': 'T', 'G': 'F'}, 52: {'R': 'T', 'S': 'F', 'G': 'F'}, 53: {'R': 'F', 'S': 'F', 'G': 'F'}, 54: {'R': 'F', 'S': 'F', 'G': 'T'}, 55: {'R': 'F', 'S': 'T', 'G': 'F'}, 56: {'R': 'F', 'S': 'F', 'G': 'F'}, 57: {'R': 'F', 'S': 'F', 'G': 'F'}, 58: {'R': 'F', 'S': 'F', 'G': 'T'}, 59: {'R': 'F', 'S': 'T', 'G': 'F'}, 60: {'R': 'F', 'S': 'F', 'G': 'T'}, 61: {'R': 'F', 'S': 'F', 'G': 'T'}, 62: {'R': 'T', 'S': 'F', 'G': 'F'}, 63: {'R': 'F', 'S': 'F', 'G': 'T'}, 64: {'R': 'F', 'S': 'F', 'G': 'F'}, 65: {'R': 'T', 'S': 'F', 'G': 'F'}, 66: {'R': 'F', 'S': 'T', 'G': 'F'}, 67: {'R': 'F', 'S': 'F', 'G': 'F'}, 68: {'R': 'F', 'S': 'F', 'G': 'F'}, 69: {'R': 'T', 'S': 'F', 'G': 'F'}, 70: {'R': 'F', 'S': 'T', 'G': 'F'}, 71: {'R': 'F', 'S': 'F', 'G': 'T'}, 72: {'R': 'F', 'S': 'F', 'G': 'T'}, 73: {'R': 'T', 'S': 'F', 'G': 'F'}, 74: {'R': 'F', 'S': 'T', 'G': 'F'}, 75: {'R': 'F', 'S': 'F', 'G': 'F'}, 76: {'R': 'F', 'S': 'T', 'G': 'F'}, 77: {'R': 'F', 'S': 'T', 'G': 'F'}, 78: {'R': 'F', 'S': 'F', 'G': 'F'}, 79: {'R': 'F', 'S': 'F', 'G': 'F'}, 80: {'R': 'F', 'S': 'F', 'G': 'F'}, 81: {'R': 'F', 'S': 'T', 'G': 'F'}, 82: {'R': 'F', 'S': 'T', 'G': 'F'}, 83: {'R': 'F', 'S': 'F', 'G': 'T'}, 84: {'R': 'T', 'S': 'F', 'G': 'F'}, 85: {'R': 'F', 'S': 'F', 'G': 'F'}, 86: {'R': 'F', 'S': 'F', 'G': 'T'}, 87: {'R': 'F', 'S': 'T', 'G': 'F'}, 88: {'R': 'F', 'S': 'F', 'G': 'F'}, 89: {'R': 'F', 'S': 'T', 'G': 'F'}, 90: {'R': 'T', 'S': 'F', 'G': 'F'}, 91: {'R': 'F', 'S': 'T', 'G': 'F'}, 92: {'R': 'F', 'S': 'T', 'G': 'F'}, 93: {'R': 'F', 'S': 'F', 'G': 'T'}, 94: {'R': 'F', 'S': 'T', 'G': 'F'}, 95: {'R': 'F', 'S': 'F', 'G': 'T'}, 96: {'R': 'F', 'S': 'F', 'G': 'F'}, 97: {'R': 'F', 'S': 'F', 'G': 'F'}, 98: {'R': 'F', 'S': 'T', 'G': 'F'}, 99: {'R': 'F', 'S': 'T', 'G': 'F'}, 100: {'R': 'F', 'S': 'T', 'G': 'F'}, 101: {'R': 'F', 'S': 'T', 'G': 'F'}, 102: {'R': 'T', 'S': 'F', 'G': 'F'}, 103: {'R': 'F', 'S': 'T', 'G': 'F'}, 104: {'R': 'F', 'S': 'T', 'G': 'F'}, 105: {'R': 'F', 'S': 'F', 'G': 'T'}, 106: {'R': 'F', 'S': 'T', 'G': 'F'}, 107: {'R': 'F', 'S': 'T', 'G': 'F'}, 108: {'R': 'F', 'S': 'F', 'G': 'T'}, 109: {'R': 'F', 'S': 'F', 'G': 'T'}, 110: {'R': 'F', 'S': 'T', 'G': 'F'}, 111: {'R': 'F', 'S': 'T', 'G': 'F'}, 112: {'R': 'T', 'S': 'F', 'G': 'F'}, 113: {'R': 'F', 'S': 'F', 'G': 'F'}, 114: {'R': 'T', 'S': 'F', 'G': 'F'}, 115: {'R': 'F', 'S': 'F', 'G': 'F'}, 116: {'R': 'F', 'S': 'T', 'G': 'F'}, 117: {'R': 'F', 'S': 'F', 'G': 'F'}, 118: {'R': 'F', 'S': 'T', 'G': 'F'}, 119: {'R': 'F', 'S': 'F', 'G': 'T'}, 120: {'R': 'T', 'S': 'F', 'G': 'F'}, 121: {'R': 'F', 'S': 'F', 'G': 'F'}, 122: {'R': 'F', 'S': 'F', 'G': 'T'}, 123: {'R': 'T', 'S': 'F', 'G': 'F'}, 124: {'R': 'F', 'S': 'F', 'G': 'T'}, 125: {'R': 'F', 'S': 'F', 'G': 'F'}, 126: {'R': 'T', 'S': 'F', 'G': 'F'}, 127: {'R': 'F', 'S': 'T', 'G': 'F'}, 128: {'R': 'F', 'S': 'F', 'G': 'F'}, 129: {'R': 'T', 'S': 'F', 'G': 'F'}, 130: {'R': 'F', 'S': 'F', 'G': 'F'}, 131: {'R': 'T', 'S': 'F', 'G': 'F'}, 132: {'R': 'F', 'S': 'F', 'G': 'F'}, 133: {'R': 'F', 'S': 'T', 'G': 'F'}, 134: {'R': 'T', 'S': 'F', 'G': 'F'}, 135: {'R': 'F', 'S': 'F', 'G': 'F'}, 136: {'R': 'F', 'S': 'T', 'G': 'F'}, 137: {'R': 'F', 'S': 'F', 'G': 'T'}, 138: {'R': 'F', 'S': 'T', 'G': 'F'}, 139: {'R': 'F', 'S': 'F', 'G': 'T'}, 140: {'R': 'F', 'S': 'F', 'G': 'F'}, 141: {'R': 'F', 'S': 'F', 'G': 'F'}, 142: {'R': 'F', 'S': 'T', 'G': 'F'}, 143: {'R': 'F', 'S': 'F', 'G': 'F'}, 144: {'R': 'F', 'S': 'T', 'G': 'F'}, 145: {'R': 'F', 'S': 'F', 'G': 'F'}, 146: {'R': 'F', 'S': 'F', 'G': 'F'}, 147: {'R': 'F', 'S': 'F', 'G': 'F'}, 148: {'R': 'F', 'S': 'F', 'G': 'F'}, 149: {'R': 'F', 'S': 'F', 'G': 'F'}, 150: {'R': 'T', 'S': 'F', 'G': 'F'}, 151: {'R': 'F', 'S': 'F', 'G': 'F'}, 152: {'R': 'F', 'S': 'F', 'G': 'T'}, 153: {'R': 'F', 'S': 'F', 'G': 'F'}, 154: {'R': 'F', 'S': 'F', 'G': 'F'}, 155: {'R': 'F', 'S': 'F', 'G': 'F'}, 156: {'R': 'F', 'S': 'T', 'G': 'F'}, 157: {'R': 'F', 'S': 'T', 'G': 'F'}, 158: {'R': 'F', 'S': 'F', 'G': 'F'}, 159: {'R': 'F', 'S': 'F', 'G': 'T'}, 160: {'R': 'T', 'S': 'F', 'G': 'F'}, 161: {'R': 'F', 'S': 'T', 'G': 'F'}, 162: {'R': 'F', 'S': 'F', 'G': 'F'}, 163: {'R': 'F', 'S': 'T', 'G': 'F'}, 164: {'R': 'T', 'S': 'F', 'G': 'F'}, 165: {'R': 'F', 'S': 'F', 'G': 'F'}, 166: {'R': 'F', 'S': 'F', 'G': 'F'}, 167: {'R': 'F', 'S': 'F', 'G': 'F'}, 168: {'R': 'F', 'S': 'T', 'G': 'F'}, 169: {'R': 'F', 'S': 'T', 'G': 'F'}, 170: {'R': 'F', 'S': 'T', 'G': 'F'}, 171: {'R': 'F', 'S': 'T', 'G': 'F'}, 172: {'R': 'T', 'S': 'F', 'G': 'F'}, 173: {'R': 'F', 'S': 'T', 'G': 'F'}, 174: {'R': 'F', 'S': 'F', 'G': 'T'}, 175: {'R': 'F', 'S': 'F', 'G': 'F'}, 176: {'R': 'F', 'S': 'T', 'G': 'F'}, 177: {'R': 'F', 'S': 'F', 'G': 'F'}, 178: {'R': 'F', 'S': 'F', 'G': 'F'}, 179: {'R': 'F', 'S': 'F', 'G': 'T'}, 180: {'R': 'F', 'S': 'F', 'G': 'T'}, 181: {'R': 'F', 'S': 'T', 'G': 'F'}, 182: {'R': 'F', 'S': 'F', 'G': 'F'}, 183: {'R': 'F', 'S': 'T', 'G': 'F'}, 184: {'R': 'F', 'S': 'F', 'G': 'F'}, 185: {'R': 'F', 'S': 'F', 'G': 'T'}, 186: {'R': 'F', 'S': 'F', 'G': 'F'}, 187: {'R': 'F', 'S': 'F', 'G': 'F'}, 188: {'R': 'F', 'S': 'F', 'G': 'F'}, 189: {'R': 'F', 'S': 'F', 'G': 'T'}, 190: {'R': 'F', 'S': 'F', 'G': 'F'}, 191: {'R': 'F', 'S': 'T', 'G': 'F'}, 192: {'R': 'F', 'S': 'F', 'G': 'T'}, 193: {'R': 'F', 'S': 'F', 'G': 'F'}, 194: {'R': 'F', 'S': 'F', 'G': 'T'}, 195: {'R': 'T', 'S': 'F', 'G': 'F'}, 196: {'R': 'F', 'S': 'F', 'G': 'F'}, 197: {'R': 'F', 'S': 'F', 'G': 'F'}, 198: {'R': 'F', 'S': 'T', 'G': 'T'}, 199: {'R': 'F', 'S': 'F', 'G': 'F'}, 200: {'R': 'F', 'S': 'T', 'G': 'F'}, 201: {'R': 'F', 'S': 'F', 'G': 'F'}, 202: {'R': 'F', 'S': 'F', 'G': 'F'}, 203: {'R': 'F', 'S': 'F', 'G': 'F'}, 204: {'R': 'F', 'S': 'F', 'G': 'T'}, 205: {'R': 'F', 'S': 'T', 'G': 'F'}, 206: {'R': 'F', 'S': 'F', 'G': 'F'}, 207: {'R': 'F', 'S': 'F', 'G': 'T'}, 208: {'R': 'F', 'S': 'F', 'G': 'T'}, 209: {'R': 'F', 'S': 'F', 'G': 'T'}, 210: {'R': 'F', 'S': 'T', 'G': 'F'}, 211: {'R': 'T', 'S': 'F', 'G': 'F'}, 212: {'R': 'F', 'S': 'F', 'G': 'F'}, 213: {'R': 'F', 'S': 'F', 'G': 'F'}, 214: {'R': 'F', 'S': 'F', 'G': 'T'}, 215: {'R': 'F', 'S': 'F', 'G': 'F'}, 216: {'R': 'T', 'S': 'F', 'G': 'F'}, 217: {'R': 'F', 'S': 'F', 'G': 'F'}, 218: {'R': 'F', 'S': 'F', 'G': 'F'}, 219: {'R': 'T', 'S': 'F', 'G': 'F'}, 220: {'R': 'F', 'S': 'T', 'G': 'F'}, 221: {'R': 'F', 'S': 'T', 'G': 'F'}, 222: {'R': 'F', 'S': 'F', 'G': 'F'}, 223: {'R': 'F', 'S': 'F', 'G': 'T'}, 224: {'R': 'F', 'S': 'T', 'G': 'F'}, 225: {'R': 'F', 'S': 'T', 'G': 'F'}, 226: {'R': 'F', 'S': 'T', 'G': 'F'}, 227: {'R': 'F', 'S': 'T', 'G': 'F'}, 228: {'R': 'F', 'S': 'F', 'G': 'F'}, 229: {'R': 'F', 'S': 'F', 'G': 'T'}, 230: {'R': 'F', 'S': 'F', 'G': 'F'}, 231: {'R': 'T', 'S': 'F', 'G': 'F'}, 232: {'R': 'F', 'S': 'F', 'G': 'T'}, 233: {'R': 'T', 'S': 'F', 'G': 'F'}, 234: {'R': 'F', 'S': 'F', 'G': 'F'}, 235: {'R': 'T', 'S': 'F', 'G': 'F'}, 236: {'R': 'F', 'S': 'T', 'G': 'F'}, 237: {'R': 'F', 'S': 'T', 'G': 'F'}, 238: {'R': 'T', 'S': 'F', 'G': 'F'}, 239: {'R': 'F', 'S': 'F', 'G': 'F'}, 240: {'R': 'F', 'S': 'T', 'G': 'F'}, 241: {'R': 'F', 'S': 'F', 'G': 'T'}, 242: {'R': 'F', 'S': 'T', 'G': 'F'}, 243: {'R': 'F', 'S': 'F', 'G': 'T'}, 244: {'R': 'F', 'S': 'F', 'G': 'T'}, 245: {'R': 'F', 'S': 'F', 'G': 'T'}, 246: {'R': 'F', 'S': 'F', 'G': 'F'}, 247: {'R': 'F', 'S': 'T', 'G': 'F'}, 248: {'R': 'F', 'S': 'F', 'G': 'T'}, 249: {'R': 'F', 'S': 'T', 'G': 'F'}, 250: {'R': 'F', 'S': 'T', 'G': 'F'}, 251: {'R': 'F', 'S': 'F', 'G': 'F'}, 252: {'R': 'F', 'S': 'F', 'G': 'F'}, 253: {'R': 'F', 'S': 'T', 'G': 'F'}, 254: {'R': 'F', 'S': 'F', 'G': 'F'}, 255: {'R': 'F', 'S': 'F', 'G': 'F'}, 256: {'R': 'F', 'S': 'T', 'G': 'F'}, 257: {'R': 'T', 'S': 'F', 'G': 'F'}, 258: {'R': 'F', 'S': 'F', 'G': 'T'}, 259: {'R': 'T', 'S': 'F', 'G': 'F'}, 260: {'R': 'T', 'S': 'F', 'G': 'F'}, 261: {'R': 'F', 'S': 'T', 'G': 'F'}, 262: {'R': 'F', 'S': 'T', 'G': 'F'}, 263: {'R': 'F', 'S': 'T', 'G': 'F'}, 264: {'R': 'F', 'S': 'F', 'G': 'T'}, 265: {'R': 'F', 'S': 'T', 'G': 'F'}, 266: {'R': 'F', 'S': 'F', 'G': 'F'}, 267: {'R': 'T', 'S': 'F', 'G': 'F'}, 268: {'R': 'F', 'S': 'F', 'G': 'F'}, 269: {'R': 'F', 'S': 'T', 'G': 'F'}, 270: {'R': 'F', 'S': 'F', 'G': 'T'}, 271: {'R': 'F', 'S': 'F', 'G': 'F'}, 272: {'R': 'F', 'S': 'F', 'G': 'T'}, 273: {'R': 'F', 'S': 'T', 'G': 'F'}, 274: {'R': 'F', 'S': 'F', 'G': 'F'}, 275: {'R': 'F', 'S': 'T', 'G': 'F'}, 276: {'R': 'F', 'S': 'T', 'G': 'F'}, 277: {'R': 'T', 'S': 'F', 'G': 'F'}, 278: {'R': 'F', 'S': 'T', 'G': 'F'}, 279: {'R': 'F', 'S': 'F', 'G': 'T'}, 280: {'R': 'F', 'S': 'F', 'G': 'T'}, 281: {'R': 'T', 'S': 'F', 'G': 'F'}, 282: {'R': 'F', 'S': 'F', 'G': 'T'}, 283: {'R': 'F', 'S': 'T', 'G': 'F'}, 284: {'R': 'F', 'S': 'F', 'G': 'T'}, 285: {'R': 'F', 'S': 'F', 'G': 'F'}, 286: {'R': 'F', 'S': 'T', 'G': 'F'}, 287: {'R': 'T', 'S': 'F', 'G': 'F'}, 288: {'R': 'F', 'S': 'F', 'G': 'T'}, 289: {'R': 'F', 'S': 'T', 'G': 'F'}, 290: {'R': 'F', 'S': 'F', 'G': 'T'}, 291: {'R': 'F', 'S': 'F', 'G': 'T'}, 292: {'R': 'F', 'S': 'T', 'G': 'F'}, 293: {'R': 'T', 'S': 'F', 'G': 'F'}, 294: {'R': 'F', 'S': 'F', 'G': 'F'}, 295: {'R': 'F', 'S': 'F', 'G': 'F'}, 296: {'R': 'F', 'S': 'F', 'G': 'F'}, 297: {'R': 'F', 'S': 'F', 'G': 'T'}, 298: {'R': 'T', 'S': 'F', 'G': 'F'}, 299: {'R': 'F', 'S': 'T', 'G': 'F'}, 300: {'R': 'F', 'S': 'T', 'G': 'F'}, 301: {'R': 'F', 'S': 'F', 'G': 'T'}, 302: {'R': 'F', 'S': 'T', 'G': 'F'}, 303: {'R': 'F', 'S': 'F', 'G': 'F'}, 304: {'R': 'F', 'S': 'T', 'G': 'F'}, 305: {'R': 'F', 'S': 'T', 'G': 'F'}, 306: {'R': 'T', 'S': 'F', 'G': 'F'}, 307: {'R': 'F', 'S': 'F', 'G': 'F'}, 308: {'R': 'F', 'S': 'F', 'G': 'T'}, 309: {'R': 'T', 'S': 'F', 'G': 'F'}, 310: {'R': 'T', 'S': 'F', 'G': 'F'}, 311: {'R': 'F', 'S': 'F', 'G': 'F'}, 312: {'R': 'F', 'S': 'T', 'G': 'F'}, 313: {'R': 'F', 'S': 'T', 'G': 'F'}, 314: {'R': 'F', 'S': 'F', 'G': 'F'}, 315: {'R': 'F', 'S': 'T', 'G': 'F'}, 316: {'R': 'F', 'S': 'F', 'G': 'F'}, 317: {'R': 'F', 'S': 'T', 'G': 'F'}, 318: {'R': 'F', 'S': 'F', 'G': 'T'}, 319: {'R': 'F', 'S': 'F', 'G': 'F'}, 320: {'R': 'F', 'S': 'T', 'G': 'F'}, 321: {'R': 'F', 'S': 'F', 'G': 'T'}, 322: {'R': 'T', 'S': 'F', 'G': 'F'}, 323: {'R': 'T', 'S': 'T', 'G': 'F'}, 324: {'R': 'F', 'S': 'T', 'G': 'F'}, 325: {'R': 'F', 'S': 'F', 'G': 'T'}, 326: {'R': 'F', 'S': 'F', 'G': 'T'}, 327: {'R': 'F', 'S': 'F', 'G': 'F'}, 328: {'R': 'T', 'S': 'F', 'G': 'F'}, 329: {'R': 'F', 'S': 'F', 'G': 'F'}, 330: {'R': 'F', 'S': 'F', 'G': 'T'}, 331: {'R': 'F', 'S': 'F', 'G': 'T'}, 332: {'R': 'F', 'S': 'T', 'G': 'F'}, 333: {'R': 'F', 'S': 'F', 'G': 'F'}, 334: {'R': 'F', 'S': 'T', 'G': 'F'}, 335: {'R': 'F', 'S': 'T', 'G': 'F'}, 336: {'R': 'T', 'S': 'F', 'G': 'F'}, 337: {'R': 'F', 'S': 'T', 'G': 'F'}, 338: {'R': 'F', 'S': 'F', 'G': 'F'}, 339: {'R': 'F', 'S': 'F', 'G': 'T'}, 340: {'R': 'T', 'S': 'F', 'G': 'F'}, 341: {'R': 'F', 'S': 'T', 'G': 'F'}, 342: {'R': 'F', 'S': 'F', 'G': 'F'}, 343: {'R': 'F', 'S': 'T', 'G': 'F'}, 344: {'R': 'T', 'S': 'F', 'G': 'F'}, 345: {'R': 'F', 'S': 'F', 'G': 'F'}, 346: {'R': 'F', 'S': 'F', 'G': 'F'}, 347: {'R': 'F', 'S': 'F', 'G': 'T'}, 348: {'R': 'T', 'S': 'F', 'G': 'F'}, 349: {'R': 'T', 'S': 'F', 'G': 'F'}, 350: {'R': 'F', 'S': 'F', 'G': 'T'}, 351: {'R': 'T', 'S': 'F', 'G': 'F'}, 352: {'R': 'F', 'S': 'F', 'G': 'T'}, 353: {'R': 'T', 'S': 'F', 'G': 'F'}, 354: {'R': 'F', 'S': 'F', 'G': 'F'}, 355: {'R': 'F', 'S': 'F', 'G': 'T'}, 356: {'R': 'F', 'S': 'T', 'G': 'F'}, 357: {'R': 'F', 'S': 'T', 'G': 'F'}, 358: {'R': 'F', 'S': 'F', 'G': 'F'}, 359: {'R': 'F', 'S': 'T', 'G': 'F'}, 360: {'R': 'T', 'S': 'F', 'G': 'F'}, 361: {'R': 'F', 'S': 'F', 'G': 'F'}, 362: {'R': 'F', 'S': 'F', 'G': 'F'}, 363: {'R': 'T', 'S': 'F', 'G': 'F'}, 364: {'R': 'F', 'S': 'F', 'G': 'F'}, 365: {'R': 'F', 'S': 'F', 'G': 'F'}, 366: {'R': 'F', 'S': 'F', 'G': 'F'}, 367: {'R': 'F', 'S': 'F', 'G': 'F'}, 368: {'R': 'F', 'S': 'F', 'G': 'F'}, 369: {'R': 'F', 'S': 'T', 'G': 'F'}, 370: {'R': 'F', 'S': 'T', 'G': 'F'}, 371: {'R': 'F', 'S': 'T', 'G': 'F'}, 372: {'R': 'F', 'S': 'F', 'G': 'T'}, 373: {'R': 'F', 'S': 'F', 'G': 'T'}, 374: {'R': 'F', 'S': 'T', 'G': 'F'}, 375: {'R': 'F', 'S': 'T', 'G': 'F'}, 376: {'R': 'T', 'S': 'F', 'G': 'F'}, 377: {'R': 'F', 'S': 'F', 'G': 'F'}, 378: {'R': 'F', 'S': 'T', 'G': 'F'}, 379: {'R': 'T', 'S': 'F', 'G': 'F'}, 380: {'R': 'F', 'S': 'F', 'G': 'T'}, 381: {'R': 'F', 'S': 'F', 'G': 'F'}, 382: {'R': 'F', 'S': 'F', 'G': 'F'}, 383: {'R': 'T', 'S': 'F', 'G': 'F'}, 384: {'R': 'T', 'S': 'F', 'G': 'F'}, 385: {'R': 'F', 'S': 'F', 'G': 'F'}, 386: {'R': 'F', 'S': 'T', 'G': 'F'}, 387: {'R': 'F', 'S': 'F', 'G': 'T'}, 388: {'R': 'F', 'S': 'F', 'G': 'T'}, 389: {'R': 'F', 'S': 'F', 'G': 'T'}, 390: {'R': 'F', 'S': 'F', 'G': 'T'}, 391: {'R': 'T', 'S': 'F', 'G': 'F'}, 392: {'R': 'T', 'S': 'F', 'G': 'F'}, 393: {'R': 'F', 'S': 'F', 'G': 'F'}, 394: {'R': 'T', 'S': 'F', 'G': 'F'}, 395: {'R': 'F', 'S': 'T', 'G': 'F'}, 396: {'R': 'T', 'S': 'F', 'G': 'F'}, 397: {'R': 'F', 'S': 'F', 'G': 'F'}, 398: {'R': 'F', 'S': 'T', 'G': 'F'}, 399: {'R': 'F', 'S': 'F', 'G': 'F'}, 400: {'R': 'F', 'S': 'F', 'G': 'T'}, 401: {'R': 'F', 'S': 'F', 'G': 'T'}, 402: {'R': 'F', 'S': 'T', 'G': 'F'}, 403: {'R': 'F', 'S': 'F', 'G': 'T'}, 404: {'R': 'F', 'S': 'T', 'G': 'F'}, 405: {'R': 'F', 'S': 'T', 'G': 'F'}, 406: {'R': 'F', 'S': 'F', 'G': 'F'}, 407: {'R': 'F', 'S': 'F', 'G': 'T'}, 408: {'R': 'F', 'S': 'T', 'G': 'F'}, 409: {'R': 'F', 'S': 'T', 'G': 'F'}, 410: {'R': 'F', 'S': 'F', 'G': 'F'}, 411: {'R': 'F', 'S': 'T', 'G': 'F'}, 412: {'R': 'F', 'S': 'T', 'G': 'F'}, 413: {'R': 'F', 'S': 'T', 'G': 'F'}, 414: {'R': 'F', 'S': 'F', 'G': 'F'}, 415: {'R': 'F', 'S': 'T', 'G': 'F'}, 416: {'R': 'F', 'S': 'F', 'G': 'F'}, 417: {'R': 'T', 'S': 'F', 'G': 'F'}, 418: {'R': 'F', 'S': 'F', 'G': 'T'}, 419: {'R': 'T', 'S': 'F', 'G': 'F'}, 420: {'R': 'T', 'S': 'F', 'G': 'F'}, 421: {'R': 'F', 'S': 'T', 'G': 'F'}, 422: {'R': 'F', 'S': 'F', 'G': 'T'}, 423: {'R': 'F', 'S': 'T', 'G': 'F'}, 424: {'R': 'T', 'S': 'F', 'G': 'F'}, 425: {'R': 'T', 'S': 'F', 'G': 'F'}, 426: {'R': 'T', 'S': 'F', 'G': 'F'}, 427: {'R': 'F', 'S': 'F', 'G': 'F'}, 428: {'R': 'F', 'S': 'F', 'G': 'F'}, 429: {'R': 'F', 'S': 'F', 'G': 'F'}, 430: {'R': 'F', 'S': 'F', 'G': 'F'}, 431: {'R': 'F', 'S': 'F', 'G': 'F'}, 432: {'R': 'F', 'S': 'F', 'G': 'F'}, 433: {'R': 'F', 'S': 'T', 'G': 'F'}, 434: {'R': 'F', 'S': 'F', 'G': 'T'}, 435: {'R': 'T', 'S': 'F', 'G': 'F'}, 436: {'R': 'F', 'S': 'T', 'G': 'F'}, 437: {'R': 'T', 'S': 'F', 'G': 'F'}, 438: {'R': 'F', 'S': 'F', 'G': 'T'}, 439: {'R': 'F', 'S': 'T', 'G': 'F'}, 440: {'R': 'T', 'S': 'F', 'G': 'F'}, 441: {'R': 'F', 'S': 'F', 'G': 'F'}, 442: {'R': 'F', 'S': 'T', 'G': 'F'}, 443: {'R': 'F', 'S': 'F', 'G': 'F'}, 444: {'R': 'T', 'S': 'F', 'G': 'F'}, 445: {'R': 'F', 'S': 'F', 'G': 'F'}, 446: {'R': 'F', 'S': 'F', 'G': 'T'}, 447: {'R': 'F', 'S': 'F', 'G': 'F'}, 448: {'R': 'T', 'S': 'F', 'G': 'F'}, 449: {'R': 'F', 'S': 'T', 'G': 'F'}, 450: {'R': 'F', 'S': 'F', 'G': 'F'}, 451: {'R': 'F', 'S': 'T', 'G': 'F'}, 452: {'R': 'F', 'S': 'F', 'G': 'F'}, 453: {'R': 'F', 'S': 'T', 'G': 'F'}, 454: {'R': 'F', 'S': 'F', 'G': 'T'}, 455: {'R': 'F', 'S': 'F', 'G': 'T'}, 456: {'R': 'F', 'S': 'T', 'G': 'F'}, 457: {'R': 'F', 'S': 'F', 'G': 'T'}, 458: {'R': 'F', 'S': 'F', 'G': 'T'}, 459: {'R': 'F', 'S': 'F', 'G': 'T'}, 460: {'R': 'F', 'S': 'F', 'G': 'T'}, 461: {'R': 'F', 'S': 'F', 'G': 'T'}, 462: {'R': 'F', 'S': 'F', 'G': 'T'}, 463: {'R': 'T', 'S': 'F', 'G': 'F'}, 464: {'R': 'F', 'S': 'T', 'G': 'F'}, 465: {'R': 'F', 'S': 'F', 'G': 'T'}, 466: {'R': 'F', 'S': 'T', 'G': 'F'}, 467: {'R': 'F', 'S': 'F', 'G': 'T'}, 468: {'R': 'F', 'S': 'T', 'G': 'F'}, 469: {'R': 'F', 'S': 'T', 'G': 'F'}, 470: {'R': 'F', 'S': 'F', 'G': 'F'}, 471: {'R': 'F', 'S': 'T', 'G': 'F'}, 472: {'R': 'F', 'S': 'T', 'G': 'F'}, 473: {'R': 'F', 'S': 'F', 'G': 'F'}, 474: {'R': 'F', 'S': 'F', 'G': 'F'}, 475: {'R': 'F', 'S': 'F', 'G': 'T'}, 476: {'R': 'F', 'S': 'T', 'G': 'F'}, 477: {'R': 'F', 'S': 'F', 'G': 'F'}, 478: {'R': 'T', 'S': 'F', 'G': 'F'}, 479: {'R': 'F', 'S': 'T', 'G': 'F'}, 480: {'R': 'F', 'S': 'F', 'G': 'T'}, 481: {'R': 'T', 'S': 'F', 'G': 'F'}, 482: {'R': 'F', 'S': 'T', 'G': 'F'}, 483: {'R': 'T', 'S': 'F', 'G': 'F'}, 484: {'R': 'F', 'S': 'T', 'G': 'F'}, 485: {'R': 'F', 'S': 'F', 'G': 'F'}, 486: {'R': 'F', 'S': 'F', 'G': 'T'}, 487: {'R': 'F', 'S': 'T', 'G': 'F'}, 488: {'R': 'F', 'S': 'F', 'G': 'F'}, 489: {'R': 'F', 'S': 'F', 'G': 'F'}, 490: {'R': 'F', 'S': 'F', 'G': 'F'}, 491: {'R': 'F', 'S': 'T', 'G': 'F'}, 492: {'R': 'F', 'S': 'T', 'G': 'F'}, 493: {'R': 'F', 'S': 'T', 'G': 'F'}, 494: {'R': 'T', 'S': 'F', 'G': 'F'}, 495: {'R': 'F', 'S': 'F', 'G': 'T'}, 496: {'R': 'F', 'S': 'T', 'G': 'F'}, 497: {'R': 'F', 'S': 'T', 'G': 'F'}, 498: {'R': 'F', 'S': 'F', 'G': 'F'}, 499: {'R': 'F', 'S': 'F', 'G': 'T'}, 500: {'R': 'F', 'S': 'T', 'G': 'F'}}\n",
            "Valor aproximado para a consulta: \n"
          ],
          "name": "stdout"
        },
        {
          "output_type": "execute_result",
          "data": {
            "text/plain": [
              "{'F': 0.826, 'T': 0.174}"
            ]
          },
          "metadata": {
            "tags": []
          },
          "execution_count": 246
        }
      ]
    },
    {
      "cell_type": "markdown",
      "metadata": {
        "id": "QLQ8xmeqn2dm"
      },
      "source": [
        "$\\ ii. Pr(S) $\n",
        "\n",
        "\n"
      ]
    },
    {
      "cell_type": "markdown",
      "metadata": {
        "id": "8h1qvuVRn2do"
      },
      "source": [
        "*   **Para 5 amostras:**\n",
        "\n",
        "\n",
        "\n",
        "\n",
        "\n"
      ]
    },
    {
      "cell_type": "code",
      "metadata": {
        "colab": {
          "base_uri": "https://localhost:8080/"
        },
        "id": "G3sSf1Ngn2dp",
        "outputId": "06fb02d9-efe3-4973-a05b-5779763e4f7c"
      },
      "source": [
        "amostragem_a_priori(grass_model, 'S', None, 5)"
      ],
      "execution_count": null,
      "outputs": [
        {
          "output_type": "stream",
          "text": [
            "Amostras:\n",
            " {1: {'R': 'F', 'S': 'T', 'G': 'F'}, 2: {'R': 'F', 'S': 'F', 'G': 'T'}, 3: {'R': 'F', 'S': 'F', 'G': 'T'}, 4: {'R': 'F', 'S': 'F', 'G': 'F'}, 5: {'R': 'F', 'S': 'F', 'G': 'F'}}\n",
            "Valor aproximado para a consulta: \n"
          ],
          "name": "stdout"
        },
        {
          "output_type": "execute_result",
          "data": {
            "text/plain": [
              "{'F': 0.8, 'T': 0.2}"
            ]
          },
          "metadata": {
            "tags": []
          },
          "execution_count": 247
        }
      ]
    },
    {
      "cell_type": "markdown",
      "metadata": {
        "id": "03-L0qQZn2ds"
      },
      "source": [
        "*   **Para 50 amostras:**\n",
        "\n",
        "\n",
        "\n",
        "\n",
        "\n"
      ]
    },
    {
      "cell_type": "code",
      "metadata": {
        "colab": {
          "base_uri": "https://localhost:8080/"
        },
        "id": "ovrtppekn2dt",
        "outputId": "da02e3ba-3d09-4676-d7ca-cd301b3ba8a7"
      },
      "source": [
        "amostragem_a_priori(grass_model, 'S', None, 50)"
      ],
      "execution_count": null,
      "outputs": [
        {
          "output_type": "stream",
          "text": [
            "Amostras:\n",
            " {1: {'R': 'F', 'S': 'F', 'G': 'F'}, 2: {'R': 'F', 'S': 'F', 'G': 'F'}, 3: {'R': 'F', 'S': 'F', 'G': 'F'}, 4: {'R': 'F', 'S': 'F', 'G': 'T'}, 5: {'R': 'T', 'S': 'F', 'G': 'F'}, 6: {'R': 'T', 'S': 'F', 'G': 'F'}, 7: {'R': 'F', 'S': 'F', 'G': 'F'}, 8: {'R': 'T', 'S': 'F', 'G': 'F'}, 9: {'R': 'F', 'S': 'F', 'G': 'F'}, 10: {'R': 'F', 'S': 'F', 'G': 'F'}, 11: {'R': 'T', 'S': 'F', 'G': 'F'}, 12: {'R': 'F', 'S': 'T', 'G': 'F'}, 13: {'R': 'F', 'S': 'F', 'G': 'F'}, 14: {'R': 'F', 'S': 'F', 'G': 'F'}, 15: {'R': 'T', 'S': 'F', 'G': 'F'}, 16: {'R': 'F', 'S': 'T', 'G': 'F'}, 17: {'R': 'T', 'S': 'F', 'G': 'F'}, 18: {'R': 'F', 'S': 'F', 'G': 'F'}, 19: {'R': 'T', 'S': 'F', 'G': 'F'}, 20: {'R': 'T', 'S': 'F', 'G': 'F'}, 21: {'R': 'F', 'S': 'F', 'G': 'T'}, 22: {'R': 'F', 'S': 'F', 'G': 'F'}, 23: {'R': 'F', 'S': 'F', 'G': 'F'}, 24: {'R': 'F', 'S': 'T', 'G': 'F'}, 25: {'R': 'T', 'S': 'F', 'G': 'F'}, 26: {'R': 'F', 'S': 'T', 'G': 'F'}, 27: {'R': 'F', 'S': 'F', 'G': 'F'}, 28: {'R': 'T', 'S': 'F', 'G': 'F'}, 29: {'R': 'T', 'S': 'F', 'G': 'F'}, 30: {'R': 'F', 'S': 'F', 'G': 'F'}, 31: {'R': 'F', 'S': 'F', 'G': 'F'}, 32: {'R': 'F', 'S': 'T', 'G': 'F'}, 33: {'R': 'T', 'S': 'F', 'G': 'F'}, 34: {'R': 'F', 'S': 'F', 'G': 'T'}, 35: {'R': 'F', 'S': 'T', 'G': 'F'}, 36: {'R': 'F', 'S': 'T', 'G': 'F'}, 37: {'R': 'F', 'S': 'F', 'G': 'F'}, 38: {'R': 'F', 'S': 'T', 'G': 'F'}, 39: {'R': 'F', 'S': 'T', 'G': 'F'}, 40: {'R': 'F', 'S': 'F', 'G': 'F'}, 41: {'R': 'F', 'S': 'T', 'G': 'F'}, 42: {'R': 'T', 'S': 'F', 'G': 'F'}, 43: {'R': 'F', 'S': 'T', 'G': 'F'}, 44: {'R': 'F', 'S': 'F', 'G': 'F'}, 45: {'R': 'F', 'S': 'T', 'G': 'F'}, 46: {'R': 'T', 'S': 'F', 'G': 'F'}, 47: {'R': 'F', 'S': 'T', 'G': 'F'}, 48: {'R': 'F', 'S': 'T', 'G': 'F'}, 49: {'R': 'F', 'S': 'T', 'G': 'F'}, 50: {'R': 'F', 'S': 'F', 'G': 'T'}}\n",
            "Valor aproximado para a consulta: \n"
          ],
          "name": "stdout"
        },
        {
          "output_type": "execute_result",
          "data": {
            "text/plain": [
              "{'F': 0.7, 'T': 0.3}"
            ]
          },
          "metadata": {
            "tags": []
          },
          "execution_count": 248
        }
      ]
    },
    {
      "cell_type": "markdown",
      "metadata": {
        "id": "Cy7NOVbEn2du"
      },
      "source": [
        "*   **Para 500 amostras:**\n",
        "\n",
        "\n",
        "\n",
        "\n",
        "\n"
      ]
    },
    {
      "cell_type": "code",
      "metadata": {
        "colab": {
          "base_uri": "https://localhost:8080/"
        },
        "id": "6jnxbQaIn2dv",
        "outputId": "43f78171-b9de-4336-93e3-d021b4073665"
      },
      "source": [
        "amostragem_a_priori(grass_model, 'S', None, 500)"
      ],
      "execution_count": null,
      "outputs": [
        {
          "output_type": "stream",
          "text": [
            "Amostras:\n",
            " {1: {'R': 'F', 'S': 'F', 'G': 'T'}, 2: {'R': 'F', 'S': 'F', 'G': 'T'}, 3: {'R': 'T', 'S': 'F', 'G': 'F'}, 4: {'R': 'T', 'S': 'F', 'G': 'F'}, 5: {'R': 'T', 'S': 'F', 'G': 'F'}, 6: {'R': 'T', 'S': 'F', 'G': 'F'}, 7: {'R': 'F', 'S': 'F', 'G': 'T'}, 8: {'R': 'F', 'S': 'T', 'G': 'F'}, 9: {'R': 'F', 'S': 'F', 'G': 'F'}, 10: {'R': 'F', 'S': 'F', 'G': 'T'}, 11: {'R': 'F', 'S': 'T', 'G': 'F'}, 12: {'R': 'F', 'S': 'T', 'G': 'F'}, 13: {'R': 'T', 'S': 'F', 'G': 'F'}, 14: {'R': 'F', 'S': 'F', 'G': 'F'}, 15: {'R': 'F', 'S': 'T', 'G': 'F'}, 16: {'R': 'F', 'S': 'F', 'G': 'F'}, 17: {'R': 'F', 'S': 'T', 'G': 'F'}, 18: {'R': 'F', 'S': 'T', 'G': 'F'}, 19: {'R': 'F', 'S': 'F', 'G': 'F'}, 20: {'R': 'F', 'S': 'T', 'G': 'F'}, 21: {'R': 'F', 'S': 'T', 'G': 'F'}, 22: {'R': 'F', 'S': 'F', 'G': 'T'}, 23: {'R': 'F', 'S': 'T', 'G': 'F'}, 24: {'R': 'F', 'S': 'F', 'G': 'T'}, 25: {'R': 'F', 'S': 'T', 'G': 'F'}, 26: {'R': 'F', 'S': 'F', 'G': 'T'}, 27: {'R': 'T', 'S': 'F', 'G': 'F'}, 28: {'R': 'F', 'S': 'T', 'G': 'F'}, 29: {'R': 'F', 'S': 'T', 'G': 'F'}, 30: {'R': 'F', 'S': 'F', 'G': 'F'}, 31: {'R': 'F', 'S': 'T', 'G': 'F'}, 32: {'R': 'F', 'S': 'T', 'G': 'F'}, 33: {'R': 'F', 'S': 'F', 'G': 'F'}, 34: {'R': 'F', 'S': 'F', 'G': 'F'}, 35: {'R': 'F', 'S': 'F', 'G': 'T'}, 36: {'R': 'F', 'S': 'F', 'G': 'F'}, 37: {'R': 'F', 'S': 'F', 'G': 'F'}, 38: {'R': 'T', 'S': 'F', 'G': 'F'}, 39: {'R': 'F', 'S': 'F', 'G': 'F'}, 40: {'R': 'F', 'S': 'F', 'G': 'F'}, 41: {'R': 'F', 'S': 'T', 'G': 'F'}, 42: {'R': 'F', 'S': 'F', 'G': 'T'}, 43: {'R': 'F', 'S': 'F', 'G': 'F'}, 44: {'R': 'T', 'S': 'F', 'G': 'F'}, 45: {'R': 'F', 'S': 'F', 'G': 'F'}, 46: {'R': 'F', 'S': 'F', 'G': 'F'}, 47: {'R': 'F', 'S': 'T', 'G': 'F'}, 48: {'R': 'T', 'S': 'F', 'G': 'F'}, 49: {'R': 'F', 'S': 'F', 'G': 'F'}, 50: {'R': 'F', 'S': 'F', 'G': 'F'}, 51: {'R': 'F', 'S': 'F', 'G': 'F'}, 52: {'R': 'F', 'S': 'F', 'G': 'F'}, 53: {'R': 'F', 'S': 'T', 'G': 'F'}, 54: {'R': 'F', 'S': 'F', 'G': 'F'}, 55: {'R': 'F', 'S': 'F', 'G': 'F'}, 56: {'R': 'F', 'S': 'F', 'G': 'T'}, 57: {'R': 'T', 'S': 'F', 'G': 'F'}, 58: {'R': 'T', 'S': 'F', 'G': 'F'}, 59: {'R': 'F', 'S': 'F', 'G': 'F'}, 60: {'R': 'F', 'S': 'F', 'G': 'T'}, 61: {'R': 'F', 'S': 'F', 'G': 'T'}, 62: {'R': 'F', 'S': 'F', 'G': 'F'}, 63: {'R': 'F', 'S': 'T', 'G': 'F'}, 64: {'R': 'F', 'S': 'T', 'G': 'F'}, 65: {'R': 'F', 'S': 'F', 'G': 'F'}, 66: {'R': 'F', 'S': 'F', 'G': 'T'}, 67: {'R': 'T', 'S': 'F', 'G': 'F'}, 68: {'R': 'F', 'S': 'F', 'G': 'F'}, 69: {'R': 'T', 'S': 'F', 'G': 'F'}, 70: {'R': 'F', 'S': 'F', 'G': 'T'}, 71: {'R': 'F', 'S': 'T', 'G': 'F'}, 72: {'R': 'F', 'S': 'F', 'G': 'T'}, 73: {'R': 'F', 'S': 'F', 'G': 'F'}, 74: {'R': 'F', 'S': 'F', 'G': 'F'}, 75: {'R': 'F', 'S': 'F', 'G': 'T'}, 76: {'R': 'T', 'S': 'F', 'G': 'F'}, 77: {'R': 'F', 'S': 'T', 'G': 'F'}, 78: {'R': 'F', 'S': 'F', 'G': 'T'}, 79: {'R': 'F', 'S': 'F', 'G': 'F'}, 80: {'R': 'F', 'S': 'F', 'G': 'T'}, 81: {'R': 'F', 'S': 'F', 'G': 'F'}, 82: {'R': 'F', 'S': 'F', 'G': 'T'}, 83: {'R': 'T', 'S': 'F', 'G': 'F'}, 84: {'R': 'F', 'S': 'F', 'G': 'F'}, 85: {'R': 'F', 'S': 'T', 'G': 'F'}, 86: {'R': 'T', 'S': 'F', 'G': 'F'}, 87: {'R': 'T', 'S': 'F', 'G': 'F'}, 88: {'R': 'F', 'S': 'F', 'G': 'T'}, 89: {'R': 'F', 'S': 'F', 'G': 'F'}, 90: {'R': 'F', 'S': 'F', 'G': 'F'}, 91: {'R': 'F', 'S': 'T', 'G': 'F'}, 92: {'R': 'F', 'S': 'F', 'G': 'F'}, 93: {'R': 'F', 'S': 'F', 'G': 'T'}, 94: {'R': 'F', 'S': 'F', 'G': 'T'}, 95: {'R': 'F', 'S': 'F', 'G': 'F'}, 96: {'R': 'F', 'S': 'F', 'G': 'F'}, 97: {'R': 'F', 'S': 'T', 'G': 'F'}, 98: {'R': 'F', 'S': 'F', 'G': 'F'}, 99: {'R': 'F', 'S': 'F', 'G': 'F'}, 100: {'R': 'F', 'S': 'F', 'G': 'F'}, 101: {'R': 'F', 'S': 'F', 'G': 'F'}, 102: {'R': 'T', 'S': 'F', 'G': 'F'}, 103: {'R': 'T', 'S': 'F', 'G': 'F'}, 104: {'R': 'F', 'S': 'F', 'G': 'F'}, 105: {'R': 'F', 'S': 'F', 'G': 'F'}, 106: {'R': 'F', 'S': 'T', 'G': 'F'}, 107: {'R': 'F', 'S': 'F', 'G': 'T'}, 108: {'R': 'F', 'S': 'F', 'G': 'F'}, 109: {'R': 'F', 'S': 'F', 'G': 'T'}, 110: {'R': 'F', 'S': 'F', 'G': 'T'}, 111: {'R': 'T', 'S': 'F', 'G': 'F'}, 112: {'R': 'F', 'S': 'F', 'G': 'T'}, 113: {'R': 'F', 'S': 'F', 'G': 'T'}, 114: {'R': 'T', 'S': 'F', 'G': 'F'}, 115: {'R': 'T', 'S': 'F', 'G': 'F'}, 116: {'R': 'F', 'S': 'F', 'G': 'F'}, 117: {'R': 'F', 'S': 'T', 'G': 'F'}, 118: {'R': 'F', 'S': 'T', 'G': 'F'}, 119: {'R': 'F', 'S': 'F', 'G': 'T'}, 120: {'R': 'T', 'S': 'F', 'G': 'F'}, 121: {'R': 'F', 'S': 'T', 'G': 'F'}, 122: {'R': 'F', 'S': 'F', 'G': 'T'}, 123: {'R': 'T', 'S': 'F', 'G': 'F'}, 124: {'R': 'F', 'S': 'F', 'G': 'F'}, 125: {'R': 'F', 'S': 'T', 'G': 'F'}, 126: {'R': 'F', 'S': 'F', 'G': 'T'}, 127: {'R': 'T', 'S': 'F', 'G': 'F'}, 128: {'R': 'F', 'S': 'F', 'G': 'F'}, 129: {'R': 'F', 'S': 'T', 'G': 'F'}, 130: {'R': 'T', 'S': 'F', 'G': 'F'}, 131: {'R': 'F', 'S': 'F', 'G': 'F'}, 132: {'R': 'T', 'S': 'F', 'G': 'F'}, 133: {'R': 'F', 'S': 'F', 'G': 'F'}, 134: {'R': 'F', 'S': 'F', 'G': 'F'}, 135: {'R': 'F', 'S': 'F', 'G': 'F'}, 136: {'R': 'F', 'S': 'F', 'G': 'F'}, 137: {'R': 'F', 'S': 'T', 'G': 'F'}, 138: {'R': 'T', 'S': 'F', 'G': 'F'}, 139: {'R': 'F', 'S': 'F', 'G': 'F'}, 140: {'R': 'F', 'S': 'F', 'G': 'T'}, 141: {'R': 'T', 'S': 'F', 'G': 'F'}, 142: {'R': 'F', 'S': 'T', 'G': 'F'}, 143: {'R': 'F', 'S': 'F', 'G': 'F'}, 144: {'R': 'T', 'S': 'F', 'G': 'F'}, 145: {'R': 'F', 'S': 'F', 'G': 'F'}, 146: {'R': 'T', 'S': 'F', 'G': 'F'}, 147: {'R': 'T', 'S': 'F', 'G': 'F'}, 148: {'R': 'F', 'S': 'T', 'G': 'F'}, 149: {'R': 'F', 'S': 'T', 'G': 'F'}, 150: {'R': 'F', 'S': 'F', 'G': 'F'}, 151: {'R': 'F', 'S': 'F', 'G': 'F'}, 152: {'R': 'F', 'S': 'F', 'G': 'F'}, 153: {'R': 'F', 'S': 'F', 'G': 'F'}, 154: {'R': 'T', 'S': 'F', 'G': 'F'}, 155: {'R': 'T', 'S': 'F', 'G': 'F'}, 156: {'R': 'F', 'S': 'T', 'G': 'F'}, 157: {'R': 'F', 'S': 'T', 'G': 'F'}, 158: {'R': 'F', 'S': 'F', 'G': 'T'}, 159: {'R': 'F', 'S': 'F', 'G': 'F'}, 160: {'R': 'F', 'S': 'F', 'G': 'T'}, 161: {'R': 'F', 'S': 'F', 'G': 'T'}, 162: {'R': 'F', 'S': 'T', 'G': 'F'}, 163: {'R': 'F', 'S': 'F', 'G': 'T'}, 164: {'R': 'F', 'S': 'T', 'G': 'F'}, 165: {'R': 'F', 'S': 'F', 'G': 'F'}, 166: {'R': 'F', 'S': 'T', 'G': 'F'}, 167: {'R': 'F', 'S': 'F', 'G': 'F'}, 168: {'R': 'F', 'S': 'F', 'G': 'F'}, 169: {'R': 'T', 'S': 'F', 'G': 'F'}, 170: {'R': 'F', 'S': 'T', 'G': 'F'}, 171: {'R': 'F', 'S': 'F', 'G': 'T'}, 172: {'R': 'F', 'S': 'F', 'G': 'T'}, 173: {'R': 'F', 'S': 'T', 'G': 'F'}, 174: {'R': 'F', 'S': 'T', 'G': 'F'}, 175: {'R': 'T', 'S': 'F', 'G': 'F'}, 176: {'R': 'F', 'S': 'T', 'G': 'F'}, 177: {'R': 'F', 'S': 'F', 'G': 'F'}, 178: {'R': 'F', 'S': 'F', 'G': 'T'}, 179: {'R': 'F', 'S': 'F', 'G': 'F'}, 180: {'R': 'F', 'S': 'F', 'G': 'F'}, 181: {'R': 'F', 'S': 'F', 'G': 'T'}, 182: {'R': 'F', 'S': 'T', 'G': 'F'}, 183: {'R': 'F', 'S': 'F', 'G': 'F'}, 184: {'R': 'T', 'S': 'F', 'G': 'F'}, 185: {'R': 'F', 'S': 'F', 'G': 'F'}, 186: {'R': 'F', 'S': 'T', 'G': 'F'}, 187: {'R': 'F', 'S': 'T', 'G': 'F'}, 188: {'R': 'T', 'S': 'F', 'G': 'F'}, 189: {'R': 'F', 'S': 'T', 'G': 'F'}, 190: {'R': 'F', 'S': 'F', 'G': 'T'}, 191: {'R': 'F', 'S': 'F', 'G': 'F'}, 192: {'R': 'T', 'S': 'F', 'G': 'F'}, 193: {'R': 'F', 'S': 'F', 'G': 'F'}, 194: {'R': 'F', 'S': 'T', 'G': 'F'}, 195: {'R': 'F', 'S': 'F', 'G': 'F'}, 196: {'R': 'F', 'S': 'T', 'G': 'F'}, 197: {'R': 'F', 'S': 'F', 'G': 'T'}, 198: {'R': 'F', 'S': 'F', 'G': 'T'}, 199: {'R': 'F', 'S': 'F', 'G': 'T'}, 200: {'R': 'F', 'S': 'F', 'G': 'F'}, 201: {'R': 'T', 'S': 'F', 'G': 'F'}, 202: {'R': 'T', 'S': 'F', 'G': 'F'}, 203: {'R': 'F', 'S': 'T', 'G': 'F'}, 204: {'R': 'F', 'S': 'T', 'G': 'F'}, 205: {'R': 'F', 'S': 'F', 'G': 'F'}, 206: {'R': 'T', 'S': 'F', 'G': 'F'}, 207: {'R': 'T', 'S': 'F', 'G': 'F'}, 208: {'R': 'F', 'S': 'T', 'G': 'F'}, 209: {'R': 'F', 'S': 'F', 'G': 'F'}, 210: {'R': 'F', 'S': 'T', 'G': 'F'}, 211: {'R': 'F', 'S': 'T', 'G': 'F'}, 212: {'R': 'F', 'S': 'T', 'G': 'F'}, 213: {'R': 'T', 'S': 'F', 'G': 'F'}, 214: {'R': 'F', 'S': 'T', 'G': 'F'}, 215: {'R': 'F', 'S': 'F', 'G': 'F'}, 216: {'R': 'F', 'S': 'F', 'G': 'F'}, 217: {'R': 'T', 'S': 'F', 'G': 'F'}, 218: {'R': 'F', 'S': 'T', 'G': 'F'}, 219: {'R': 'T', 'S': 'F', 'G': 'F'}, 220: {'R': 'F', 'S': 'F', 'G': 'T'}, 221: {'R': 'F', 'S': 'F', 'G': 'F'}, 222: {'R': 'F', 'S': 'F', 'G': 'F'}, 223: {'R': 'T', 'S': 'F', 'G': 'F'}, 224: {'R': 'F', 'S': 'T', 'G': 'F'}, 225: {'R': 'F', 'S': 'T', 'G': 'F'}, 226: {'R': 'F', 'S': 'F', 'G': 'F'}, 227: {'R': 'F', 'S': 'F', 'G': 'F'}, 228: {'R': 'F', 'S': 'F', 'G': 'F'}, 229: {'R': 'T', 'S': 'F', 'G': 'F'}, 230: {'R': 'F', 'S': 'T', 'G': 'F'}, 231: {'R': 'F', 'S': 'T', 'G': 'F'}, 232: {'R': 'F', 'S': 'F', 'G': 'T'}, 233: {'R': 'F', 'S': 'F', 'G': 'F'}, 234: {'R': 'F', 'S': 'T', 'G': 'F'}, 235: {'R': 'F', 'S': 'T', 'G': 'F'}, 236: {'R': 'T', 'S': 'F', 'G': 'F'}, 237: {'R': 'F', 'S': 'F', 'G': 'F'}, 238: {'R': 'T', 'S': 'F', 'G': 'F'}, 239: {'R': 'F', 'S': 'F', 'G': 'F'}, 240: {'R': 'F', 'S': 'F', 'G': 'F'}, 241: {'R': 'F', 'S': 'F', 'G': 'T'}, 242: {'R': 'F', 'S': 'F', 'G': 'T'}, 243: {'R': 'F', 'S': 'T', 'G': 'F'}, 244: {'R': 'F', 'S': 'F', 'G': 'F'}, 245: {'R': 'T', 'S': 'F', 'G': 'F'}, 246: {'R': 'F', 'S': 'F', 'G': 'F'}, 247: {'R': 'F', 'S': 'F', 'G': 'T'}, 248: {'R': 'T', 'S': 'F', 'G': 'F'}, 249: {'R': 'F', 'S': 'F', 'G': 'F'}, 250: {'R': 'T', 'S': 'F', 'G': 'F'}, 251: {'R': 'F', 'S': 'F', 'G': 'T'}, 252: {'R': 'F', 'S': 'F', 'G': 'F'}, 253: {'R': 'F', 'S': 'F', 'G': 'F'}, 254: {'R': 'F', 'S': 'F', 'G': 'F'}, 255: {'R': 'T', 'S': 'F', 'G': 'F'}, 256: {'R': 'F', 'S': 'F', 'G': 'F'}, 257: {'R': 'T', 'S': 'F', 'G': 'F'}, 258: {'R': 'F', 'S': 'F', 'G': 'T'}, 259: {'R': 'F', 'S': 'F', 'G': 'T'}, 260: {'R': 'F', 'S': 'F', 'G': 'F'}, 261: {'R': 'F', 'S': 'F', 'G': 'T'}, 262: {'R': 'F', 'S': 'T', 'G': 'F'}, 263: {'R': 'F', 'S': 'F', 'G': 'F'}, 264: {'R': 'F', 'S': 'T', 'G': 'F'}, 265: {'R': 'T', 'S': 'F', 'G': 'F'}, 266: {'R': 'F', 'S': 'T', 'G': 'F'}, 267: {'R': 'F', 'S': 'F', 'G': 'F'}, 268: {'R': 'T', 'S': 'F', 'G': 'F'}, 269: {'R': 'T', 'S': 'F', 'G': 'F'}, 270: {'R': 'F', 'S': 'F', 'G': 'T'}, 271: {'R': 'F', 'S': 'F', 'G': 'T'}, 272: {'R': 'F', 'S': 'T', 'G': 'F'}, 273: {'R': 'F', 'S': 'F', 'G': 'T'}, 274: {'R': 'F', 'S': 'F', 'G': 'F'}, 275: {'R': 'T', 'S': 'F', 'G': 'F'}, 276: {'R': 'T', 'S': 'F', 'G': 'F'}, 277: {'R': 'F', 'S': 'F', 'G': 'F'}, 278: {'R': 'T', 'S': 'F', 'G': 'F'}, 279: {'R': 'F', 'S': 'F', 'G': 'T'}, 280: {'R': 'F', 'S': 'T', 'G': 'F'}, 281: {'R': 'F', 'S': 'T', 'G': 'F'}, 282: {'R': 'T', 'S': 'F', 'G': 'F'}, 283: {'R': 'F', 'S': 'F', 'G': 'T'}, 284: {'R': 'F', 'S': 'F', 'G': 'T'}, 285: {'R': 'F', 'S': 'F', 'G': 'F'}, 286: {'R': 'T', 'S': 'F', 'G': 'F'}, 287: {'R': 'F', 'S': 'F', 'G': 'T'}, 288: {'R': 'T', 'S': 'F', 'G': 'F'}, 289: {'R': 'F', 'S': 'T', 'G': 'F'}, 290: {'R': 'F', 'S': 'F', 'G': 'T'}, 291: {'R': 'F', 'S': 'T', 'G': 'F'}, 292: {'R': 'F', 'S': 'F', 'G': 'F'}, 293: {'R': 'F', 'S': 'F', 'G': 'F'}, 294: {'R': 'T', 'S': 'F', 'G': 'F'}, 295: {'R': 'F', 'S': 'T', 'G': 'F'}, 296: {'R': 'F', 'S': 'F', 'G': 'T'}, 297: {'R': 'F', 'S': 'T', 'G': 'F'}, 298: {'R': 'F', 'S': 'F', 'G': 'F'}, 299: {'R': 'F', 'S': 'F', 'G': 'T'}, 300: {'R': 'F', 'S': 'F', 'G': 'F'}, 301: {'R': 'T', 'S': 'F', 'G': 'F'}, 302: {'R': 'F', 'S': 'T', 'G': 'F'}, 303: {'R': 'F', 'S': 'F', 'G': 'T'}, 304: {'R': 'F', 'S': 'T', 'G': 'F'}, 305: {'R': 'T', 'S': 'F', 'G': 'F'}, 306: {'R': 'F', 'S': 'T', 'G': 'F'}, 307: {'R': 'F', 'S': 'F', 'G': 'T'}, 308: {'R': 'F', 'S': 'F', 'G': 'T'}, 309: {'R': 'F', 'S': 'F', 'G': 'F'}, 310: {'R': 'T', 'S': 'F', 'G': 'F'}, 311: {'R': 'F', 'S': 'F', 'G': 'T'}, 312: {'R': 'F', 'S': 'F', 'G': 'F'}, 313: {'R': 'F', 'S': 'F', 'G': 'T'}, 314: {'R': 'T', 'S': 'F', 'G': 'F'}, 315: {'R': 'F', 'S': 'T', 'G': 'F'}, 316: {'R': 'F', 'S': 'F', 'G': 'T'}, 317: {'R': 'T', 'S': 'F', 'G': 'F'}, 318: {'R': 'F', 'S': 'F', 'G': 'F'}, 319: {'R': 'F', 'S': 'T', 'G': 'F'}, 320: {'R': 'F', 'S': 'T', 'G': 'F'}, 321: {'R': 'F', 'S': 'T', 'G': 'F'}, 322: {'R': 'F', 'S': 'F', 'G': 'F'}, 323: {'R': 'F', 'S': 'F', 'G': 'F'}, 324: {'R': 'F', 'S': 'F', 'G': 'F'}, 325: {'R': 'F', 'S': 'T', 'G': 'F'}, 326: {'R': 'F', 'S': 'F', 'G': 'F'}, 327: {'R': 'F', 'S': 'T', 'G': 'F'}, 328: {'R': 'F', 'S': 'T', 'G': 'F'}, 329: {'R': 'F', 'S': 'T', 'G': 'F'}, 330: {'R': 'F', 'S': 'T', 'G': 'F'}, 331: {'R': 'F', 'S': 'T', 'G': 'F'}, 332: {'R': 'F', 'S': 'F', 'G': 'T'}, 333: {'R': 'F', 'S': 'T', 'G': 'F'}, 334: {'R': 'F', 'S': 'F', 'G': 'F'}, 335: {'R': 'F', 'S': 'F', 'G': 'T'}, 336: {'R': 'F', 'S': 'F', 'G': 'F'}, 337: {'R': 'F', 'S': 'T', 'G': 'F'}, 338: {'R': 'T', 'S': 'F', 'G': 'F'}, 339: {'R': 'F', 'S': 'T', 'G': 'F'}, 340: {'R': 'F', 'S': 'F', 'G': 'F'}, 341: {'R': 'T', 'S': 'F', 'G': 'F'}, 342: {'R': 'F', 'S': 'F', 'G': 'F'}, 343: {'R': 'T', 'S': 'F', 'G': 'F'}, 344: {'R': 'F', 'S': 'F', 'G': 'T'}, 345: {'R': 'F', 'S': 'T', 'G': 'F'}, 346: {'R': 'F', 'S': 'F', 'G': 'T'}, 347: {'R': 'F', 'S': 'F', 'G': 'T'}, 348: {'R': 'F', 'S': 'T', 'G': 'F'}, 349: {'R': 'F', 'S': 'T', 'G': 'F'}, 350: {'R': 'F', 'S': 'F', 'G': 'F'}, 351: {'R': 'T', 'S': 'F', 'G': 'F'}, 352: {'R': 'F', 'S': 'F', 'G': 'T'}, 353: {'R': 'F', 'S': 'F', 'G': 'F'}, 354: {'R': 'F', 'S': 'T', 'G': 'F'}, 355: {'R': 'T', 'S': 'F', 'G': 'F'}, 356: {'R': 'T', 'S': 'F', 'G': 'F'}, 357: {'R': 'F', 'S': 'T', 'G': 'F'}, 358: {'R': 'F', 'S': 'T', 'G': 'F'}, 359: {'R': 'F', 'S': 'F', 'G': 'F'}, 360: {'R': 'F', 'S': 'F', 'G': 'F'}, 361: {'R': 'F', 'S': 'T', 'G': 'F'}, 362: {'R': 'F', 'S': 'F', 'G': 'F'}, 363: {'R': 'T', 'S': 'F', 'G': 'F'}, 364: {'R': 'F', 'S': 'F', 'G': 'T'}, 365: {'R': 'F', 'S': 'T', 'G': 'F'}, 366: {'R': 'F', 'S': 'T', 'G': 'F'}, 367: {'R': 'F', 'S': 'T', 'G': 'F'}, 368: {'R': 'F', 'S': 'F', 'G': 'F'}, 369: {'R': 'F', 'S': 'F', 'G': 'T'}, 370: {'R': 'F', 'S': 'T', 'G': 'F'}, 371: {'R': 'T', 'S': 'F', 'G': 'F'}, 372: {'R': 'F', 'S': 'F', 'G': 'F'}, 373: {'R': 'T', 'S': 'F', 'G': 'F'}, 374: {'R': 'F', 'S': 'F', 'G': 'F'}, 375: {'R': 'F', 'S': 'F', 'G': 'F'}, 376: {'R': 'F', 'S': 'F', 'G': 'T'}, 377: {'R': 'F', 'S': 'T', 'G': 'F'}, 378: {'R': 'T', 'S': 'F', 'G': 'F'}, 379: {'R': 'F', 'S': 'F', 'G': 'F'}, 380: {'R': 'T', 'S': 'F', 'G': 'F'}, 381: {'R': 'F', 'S': 'T', 'G': 'F'}, 382: {'R': 'F', 'S': 'F', 'G': 'T'}, 383: {'R': 'F', 'S': 'F', 'G': 'F'}, 384: {'R': 'F', 'S': 'F', 'G': 'F'}, 385: {'R': 'F', 'S': 'T', 'G': 'F'}, 386: {'R': 'F', 'S': 'F', 'G': 'T'}, 387: {'R': 'T', 'S': 'F', 'G': 'F'}, 388: {'R': 'F', 'S': 'F', 'G': 'T'}, 389: {'R': 'F', 'S': 'T', 'G': 'F'}, 390: {'R': 'F', 'S': 'T', 'G': 'F'}, 391: {'R': 'F', 'S': 'T', 'G': 'F'}, 392: {'R': 'F', 'S': 'F', 'G': 'F'}, 393: {'R': 'F', 'S': 'F', 'G': 'T'}, 394: {'R': 'F', 'S': 'F', 'G': 'F'}, 395: {'R': 'F', 'S': 'T', 'G': 'F'}, 396: {'R': 'T', 'S': 'F', 'G': 'F'}, 397: {'R': 'F', 'S': 'F', 'G': 'F'}, 398: {'R': 'F', 'S': 'F', 'G': 'F'}, 399: {'R': 'F', 'S': 'F', 'G': 'F'}, 400: {'R': 'F', 'S': 'F', 'G': 'F'}, 401: {'R': 'F', 'S': 'F', 'G': 'T'}, 402: {'R': 'F', 'S': 'T', 'G': 'F'}, 403: {'R': 'F', 'S': 'T', 'G': 'F'}, 404: {'R': 'T', 'S': 'F', 'G': 'F'}, 405: {'R': 'F', 'S': 'F', 'G': 'T'}, 406: {'R': 'F', 'S': 'F', 'G': 'F'}, 407: {'R': 'F', 'S': 'T', 'G': 'F'}, 408: {'R': 'F', 'S': 'F', 'G': 'T'}, 409: {'R': 'T', 'S': 'F', 'G': 'F'}, 410: {'R': 'F', 'S': 'F', 'G': 'F'}, 411: {'R': 'F', 'S': 'F', 'G': 'F'}, 412: {'R': 'F', 'S': 'F', 'G': 'F'}, 413: {'R': 'T', 'S': 'F', 'G': 'F'}, 414: {'R': 'F', 'S': 'T', 'G': 'F'}, 415: {'R': 'F', 'S': 'T', 'G': 'F'}, 416: {'R': 'F', 'S': 'F', 'G': 'T'}, 417: {'R': 'T', 'S': 'F', 'G': 'F'}, 418: {'R': 'F', 'S': 'T', 'G': 'F'}, 419: {'R': 'F', 'S': 'F', 'G': 'T'}, 420: {'R': 'F', 'S': 'T', 'G': 'F'}, 421: {'R': 'F', 'S': 'T', 'G': 'F'}, 422: {'R': 'T', 'S': 'F', 'G': 'F'}, 423: {'R': 'F', 'S': 'F', 'G': 'F'}, 424: {'R': 'F', 'S': 'F', 'G': 'F'}, 425: {'R': 'F', 'S': 'F', 'G': 'F'}, 426: {'R': 'F', 'S': 'F', 'G': 'F'}, 427: {'R': 'T', 'S': 'F', 'G': 'F'}, 428: {'R': 'F', 'S': 'F', 'G': 'F'}, 429: {'R': 'F', 'S': 'F', 'G': 'T'}, 430: {'R': 'F', 'S': 'F', 'G': 'F'}, 431: {'R': 'T', 'S': 'F', 'G': 'F'}, 432: {'R': 'F', 'S': 'F', 'G': 'F'}, 433: {'R': 'F', 'S': 'F', 'G': 'T'}, 434: {'R': 'F', 'S': 'T', 'G': 'F'}, 435: {'R': 'F', 'S': 'F', 'G': 'F'}, 436: {'R': 'F', 'S': 'F', 'G': 'T'}, 437: {'R': 'F', 'S': 'T', 'G': 'F'}, 438: {'R': 'F', 'S': 'F', 'G': 'F'}, 439: {'R': 'F', 'S': 'F', 'G': 'F'}, 440: {'R': 'F', 'S': 'F', 'G': 'F'}, 441: {'R': 'F', 'S': 'T', 'G': 'F'}, 442: {'R': 'F', 'S': 'T', 'G': 'F'}, 443: {'R': 'F', 'S': 'T', 'G': 'F'}, 444: {'R': 'F', 'S': 'T', 'G': 'F'}, 445: {'R': 'F', 'S': 'F', 'G': 'T'}, 446: {'R': 'F', 'S': 'F', 'G': 'F'}, 447: {'R': 'F', 'S': 'F', 'G': 'F'}, 448: {'R': 'T', 'S': 'F', 'G': 'F'}, 449: {'R': 'F', 'S': 'T', 'G': 'F'}, 450: {'R': 'F', 'S': 'F', 'G': 'F'}, 451: {'R': 'F', 'S': 'T', 'G': 'F'}, 452: {'R': 'F', 'S': 'T', 'G': 'F'}, 453: {'R': 'F', 'S': 'F', 'G': 'T'}, 454: {'R': 'F', 'S': 'F', 'G': 'F'}, 455: {'R': 'F', 'S': 'F', 'G': 'F'}, 456: {'R': 'F', 'S': 'F', 'G': 'T'}, 457: {'R': 'F', 'S': 'F', 'G': 'F'}, 458: {'R': 'F', 'S': 'T', 'G': 'F'}, 459: {'R': 'F', 'S': 'F', 'G': 'F'}, 460: {'R': 'F', 'S': 'T', 'G': 'F'}, 461: {'R': 'F', 'S': 'T', 'G': 'F'}, 462: {'R': 'F', 'S': 'F', 'G': 'T'}, 463: {'R': 'F', 'S': 'F', 'G': 'T'}, 464: {'R': 'F', 'S': 'F', 'G': 'T'}, 465: {'R': 'F', 'S': 'T', 'G': 'T'}, 466: {'R': 'F', 'S': 'T', 'G': 'F'}, 467: {'R': 'F', 'S': 'F', 'G': 'T'}, 468: {'R': 'F', 'S': 'T', 'G': 'F'}, 469: {'R': 'F', 'S': 'F', 'G': 'T'}, 470: {'R': 'F', 'S': 'F', 'G': 'F'}, 471: {'R': 'F', 'S': 'T', 'G': 'F'}, 472: {'R': 'F', 'S': 'F', 'G': 'F'}, 473: {'R': 'F', 'S': 'T', 'G': 'F'}, 474: {'R': 'F', 'S': 'F', 'G': 'F'}, 475: {'R': 'F', 'S': 'F', 'G': 'T'}, 476: {'R': 'T', 'S': 'F', 'G': 'F'}, 477: {'R': 'F', 'S': 'F', 'G': 'F'}, 478: {'R': 'F', 'S': 'T', 'G': 'F'}, 479: {'R': 'F', 'S': 'F', 'G': 'F'}, 480: {'R': 'F', 'S': 'T', 'G': 'F'}, 481: {'R': 'F', 'S': 'F', 'G': 'F'}, 482: {'R': 'F', 'S': 'F', 'G': 'F'}, 483: {'R': 'T', 'S': 'F', 'G': 'F'}, 484: {'R': 'T', 'S': 'F', 'G': 'F'}, 485: {'R': 'F', 'S': 'F', 'G': 'F'}, 486: {'R': 'F', 'S': 'F', 'G': 'F'}, 487: {'R': 'F', 'S': 'F', 'G': 'F'}, 488: {'R': 'F', 'S': 'F', 'G': 'T'}, 489: {'R': 'F', 'S': 'T', 'G': 'F'}, 490: {'R': 'F', 'S': 'F', 'G': 'F'}, 491: {'R': 'F', 'S': 'F', 'G': 'F'}, 492: {'R': 'F', 'S': 'F', 'G': 'T'}, 493: {'R': 'F', 'S': 'T', 'G': 'F'}, 494: {'R': 'F', 'S': 'F', 'G': 'F'}, 495: {'R': 'F', 'S': 'T', 'G': 'F'}, 496: {'R': 'F', 'S': 'T', 'G': 'F'}, 497: {'R': 'F', 'S': 'F', 'G': 'F'}, 498: {'R': 'F', 'S': 'F', 'G': 'T'}, 499: {'R': 'F', 'S': 'T', 'G': 'F'}, 500: {'R': 'F', 'S': 'T', 'G': 'F'}}\n",
            "Valor aproximado para a consulta: \n"
          ],
          "name": "stdout"
        },
        {
          "output_type": "execute_result",
          "data": {
            "text/plain": [
              "{'F': 0.718, 'T': 0.282}"
            ]
          },
          "metadata": {
            "tags": []
          },
          "execution_count": 249
        }
      ]
    },
    {
      "cell_type": "markdown",
      "metadata": {
        "id": "7AUkz03pol3P"
      },
      "source": [
        "$\\ iii. Pr(G) $\n",
        "\n",
        "\n"
      ]
    },
    {
      "cell_type": "markdown",
      "metadata": {
        "id": "PNDH0RQIol3Q"
      },
      "source": [
        "*   **Para 5 amostras:**\n",
        "\n",
        "\n",
        "\n",
        "\n",
        "\n"
      ]
    },
    {
      "cell_type": "code",
      "metadata": {
        "colab": {
          "base_uri": "https://localhost:8080/"
        },
        "id": "vL7hdn6eol3S",
        "outputId": "f5fc7f4a-b19f-4cc0-91fc-37989aad40ad"
      },
      "source": [
        "amostragem_a_priori(grass_model, 'G', None, 5)"
      ],
      "execution_count": null,
      "outputs": [
        {
          "output_type": "stream",
          "text": [
            "Amostras:\n",
            " {1: {'R': 'F', 'S': 'F', 'G': 'T'}, 2: {'R': 'F', 'S': 'F', 'G': 'T'}, 3: {'R': 'T', 'S': 'F', 'G': 'F'}, 4: {'R': 'T', 'S': 'F', 'G': 'F'}, 5: {'R': 'F', 'S': 'F', 'G': 'F'}}\n",
            "Valor aproximado para a consulta: \n"
          ],
          "name": "stdout"
        },
        {
          "output_type": "execute_result",
          "data": {
            "text/plain": [
              "{'F': 0.6, 'T': 0.4}"
            ]
          },
          "metadata": {
            "tags": []
          },
          "execution_count": 250
        }
      ]
    },
    {
      "cell_type": "markdown",
      "metadata": {
        "id": "xL2lL468ol3V"
      },
      "source": [
        "*   **Para 50 amostras:**\n",
        "\n",
        "\n",
        "\n",
        "\n",
        "\n"
      ]
    },
    {
      "cell_type": "code",
      "metadata": {
        "colab": {
          "base_uri": "https://localhost:8080/"
        },
        "id": "iU3p424hol3W",
        "outputId": "824a7cee-4115-4f02-9a89-51c06bf375e2"
      },
      "source": [
        "amostragem_a_priori(grass_model, 'G', None, 50)"
      ],
      "execution_count": null,
      "outputs": [
        {
          "output_type": "stream",
          "text": [
            "Amostras:\n",
            " {1: {'R': 'F', 'S': 'F', 'G': 'F'}, 2: {'R': 'F', 'S': 'F', 'G': 'F'}, 3: {'R': 'F', 'S': 'T', 'G': 'F'}, 4: {'R': 'F', 'S': 'F', 'G': 'F'}, 5: {'R': 'F', 'S': 'F', 'G': 'T'}, 6: {'R': 'F', 'S': 'F', 'G': 'F'}, 7: {'R': 'T', 'S': 'F', 'G': 'F'}, 8: {'R': 'F', 'S': 'T', 'G': 'F'}, 9: {'R': 'F', 'S': 'F', 'G': 'F'}, 10: {'R': 'F', 'S': 'F', 'G': 'T'}, 11: {'R': 'F', 'S': 'F', 'G': 'F'}, 12: {'R': 'T', 'S': 'F', 'G': 'F'}, 13: {'R': 'T', 'S': 'F', 'G': 'F'}, 14: {'R': 'F', 'S': 'T', 'G': 'F'}, 15: {'R': 'F', 'S': 'T', 'G': 'F'}, 16: {'R': 'F', 'S': 'F', 'G': 'T'}, 17: {'R': 'T', 'S': 'F', 'G': 'F'}, 18: {'R': 'F', 'S': 'F', 'G': 'F'}, 19: {'R': 'T', 'S': 'F', 'G': 'F'}, 20: {'R': 'T', 'S': 'F', 'G': 'F'}, 21: {'R': 'F', 'S': 'F', 'G': 'T'}, 22: {'R': 'F', 'S': 'F', 'G': 'F'}, 23: {'R': 'F', 'S': 'T', 'G': 'F'}, 24: {'R': 'F', 'S': 'F', 'G': 'T'}, 25: {'R': 'F', 'S': 'T', 'G': 'F'}, 26: {'R': 'F', 'S': 'F', 'G': 'F'}, 27: {'R': 'F', 'S': 'F', 'G': 'F'}, 28: {'R': 'T', 'S': 'F', 'G': 'F'}, 29: {'R': 'T', 'S': 'F', 'G': 'F'}, 30: {'R': 'F', 'S': 'F', 'G': 'F'}, 31: {'R': 'F', 'S': 'T', 'G': 'F'}, 32: {'R': 'T', 'S': 'F', 'G': 'F'}, 33: {'R': 'T', 'S': 'F', 'G': 'F'}, 34: {'R': 'F', 'S': 'F', 'G': 'T'}, 35: {'R': 'F', 'S': 'F', 'G': 'F'}, 36: {'R': 'F', 'S': 'T', 'G': 'F'}, 37: {'R': 'T', 'S': 'F', 'G': 'F'}, 38: {'R': 'F', 'S': 'F', 'G': 'F'}, 39: {'R': 'F', 'S': 'F', 'G': 'T'}, 40: {'R': 'T', 'S': 'F', 'G': 'F'}, 41: {'R': 'T', 'S': 'F', 'G': 'F'}, 42: {'R': 'F', 'S': 'F', 'G': 'F'}, 43: {'R': 'F', 'S': 'T', 'G': 'F'}, 44: {'R': 'F', 'S': 'T', 'G': 'F'}, 45: {'R': 'F', 'S': 'T', 'G': 'F'}, 46: {'R': 'F', 'S': 'T', 'G': 'F'}, 47: {'R': 'F', 'S': 'F', 'G': 'T'}, 48: {'R': 'F', 'S': 'T', 'G': 'F'}, 49: {'R': 'F', 'S': 'F', 'G': 'F'}, 50: {'R': 'T', 'S': 'F', 'G': 'F'}}\n",
            "Valor aproximado para a consulta: \n"
          ],
          "name": "stdout"
        },
        {
          "output_type": "execute_result",
          "data": {
            "text/plain": [
              "{'F': 0.84, 'T': 0.16}"
            ]
          },
          "metadata": {
            "tags": []
          },
          "execution_count": 251
        }
      ]
    },
    {
      "cell_type": "markdown",
      "metadata": {
        "id": "CpfqGtzxol3X"
      },
      "source": [
        "*   **Para 500 amostras:**\n",
        "\n",
        "\n",
        "\n",
        "\n",
        "\n"
      ]
    },
    {
      "cell_type": "code",
      "metadata": {
        "colab": {
          "base_uri": "https://localhost:8080/"
        },
        "id": "inhQeMCXol3Y",
        "outputId": "56457f6d-d843-48d3-f70b-3235ab141029"
      },
      "source": [
        "amostragem_a_priori(grass_model, 'G', None, 500)"
      ],
      "execution_count": null,
      "outputs": [
        {
          "output_type": "stream",
          "text": [
            "Amostras:\n",
            " {1: {'R': 'F', 'S': 'F', 'G': 'T'}, 2: {'R': 'F', 'S': 'F', 'G': 'T'}, 3: {'R': 'F', 'S': 'F', 'G': 'F'}, 4: {'R': 'F', 'S': 'F', 'G': 'T'}, 5: {'R': 'F', 'S': 'T', 'G': 'F'}, 6: {'R': 'F', 'S': 'T', 'G': 'F'}, 7: {'R': 'F', 'S': 'F', 'G': 'F'}, 8: {'R': 'F', 'S': 'T', 'G': 'F'}, 9: {'R': 'F', 'S': 'F', 'G': 'F'}, 10: {'R': 'F', 'S': 'F', 'G': 'T'}, 11: {'R': 'T', 'S': 'F', 'G': 'F'}, 12: {'R': 'F', 'S': 'F', 'G': 'F'}, 13: {'R': 'T', 'S': 'F', 'G': 'F'}, 14: {'R': 'T', 'S': 'F', 'G': 'F'}, 15: {'R': 'F', 'S': 'T', 'G': 'F'}, 16: {'R': 'F', 'S': 'T', 'G': 'F'}, 17: {'R': 'F', 'S': 'F', 'G': 'T'}, 18: {'R': 'F', 'S': 'F', 'G': 'T'}, 19: {'R': 'T', 'S': 'F', 'G': 'F'}, 20: {'R': 'F', 'S': 'F', 'G': 'T'}, 21: {'R': 'F', 'S': 'F', 'G': 'T'}, 22: {'R': 'F', 'S': 'F', 'G': 'F'}, 23: {'R': 'F', 'S': 'F', 'G': 'F'}, 24: {'R': 'T', 'S': 'F', 'G': 'F'}, 25: {'R': 'F', 'S': 'T', 'G': 'F'}, 26: {'R': 'F', 'S': 'F', 'G': 'F'}, 27: {'R': 'T', 'S': 'F', 'G': 'F'}, 28: {'R': 'F', 'S': 'F', 'G': 'F'}, 29: {'R': 'F', 'S': 'F', 'G': 'F'}, 30: {'R': 'T', 'S': 'F', 'G': 'F'}, 31: {'R': 'F', 'S': 'F', 'G': 'T'}, 32: {'R': 'F', 'S': 'F', 'G': 'F'}, 33: {'R': 'F', 'S': 'F', 'G': 'F'}, 34: {'R': 'T', 'S': 'F', 'G': 'F'}, 35: {'R': 'T', 'S': 'F', 'G': 'F'}, 36: {'R': 'F', 'S': 'F', 'G': 'T'}, 37: {'R': 'F', 'S': 'F', 'G': 'T'}, 38: {'R': 'F', 'S': 'F', 'G': 'T'}, 39: {'R': 'F', 'S': 'F', 'G': 'F'}, 40: {'R': 'T', 'S': 'F', 'G': 'F'}, 41: {'R': 'F', 'S': 'T', 'G': 'F'}, 42: {'R': 'F', 'S': 'F', 'G': 'F'}, 43: {'R': 'F', 'S': 'T', 'G': 'F'}, 44: {'R': 'F', 'S': 'F', 'G': 'T'}, 45: {'R': 'T', 'S': 'F', 'G': 'F'}, 46: {'R': 'F', 'S': 'F', 'G': 'F'}, 47: {'R': 'F', 'S': 'F', 'G': 'F'}, 48: {'R': 'F', 'S': 'F', 'G': 'T'}, 49: {'R': 'F', 'S': 'F', 'G': 'F'}, 50: {'R': 'T', 'S': 'F', 'G': 'F'}, 51: {'R': 'F', 'S': 'F', 'G': 'T'}, 52: {'R': 'F', 'S': 'T', 'G': 'F'}, 53: {'R': 'F', 'S': 'F', 'G': 'F'}, 54: {'R': 'T', 'S': 'F', 'G': 'F'}, 55: {'R': 'F', 'S': 'F', 'G': 'T'}, 56: {'R': 'F', 'S': 'T', 'G': 'F'}, 57: {'R': 'F', 'S': 'F', 'G': 'F'}, 58: {'R': 'F', 'S': 'F', 'G': 'T'}, 59: {'R': 'F', 'S': 'T', 'G': 'F'}, 60: {'R': 'F', 'S': 'T', 'G': 'F'}, 61: {'R': 'F', 'S': 'F', 'G': 'F'}, 62: {'R': 'F', 'S': 'F', 'G': 'T'}, 63: {'R': 'F', 'S': 'F', 'G': 'T'}, 64: {'R': 'T', 'S': 'F', 'G': 'F'}, 65: {'R': 'F', 'S': 'F', 'G': 'T'}, 66: {'R': 'F', 'S': 'T', 'G': 'F'}, 67: {'R': 'F', 'S': 'F', 'G': 'T'}, 68: {'R': 'T', 'S': 'F', 'G': 'F'}, 69: {'R': 'F', 'S': 'F', 'G': 'F'}, 70: {'R': 'T', 'S': 'F', 'G': 'F'}, 71: {'R': 'F', 'S': 'T', 'G': 'F'}, 72: {'R': 'F', 'S': 'F', 'G': 'F'}, 73: {'R': 'F', 'S': 'F', 'G': 'T'}, 74: {'R': 'F', 'S': 'F', 'G': 'T'}, 75: {'R': 'T', 'S': 'F', 'G': 'F'}, 76: {'R': 'F', 'S': 'F', 'G': 'F'}, 77: {'R': 'F', 'S': 'F', 'G': 'T'}, 78: {'R': 'F', 'S': 'F', 'G': 'F'}, 79: {'R': 'F', 'S': 'F', 'G': 'T'}, 80: {'R': 'F', 'S': 'T', 'G': 'F'}, 81: {'R': 'T', 'S': 'F', 'G': 'F'}, 82: {'R': 'F', 'S': 'F', 'G': 'T'}, 83: {'R': 'F', 'S': 'F', 'G': 'F'}, 84: {'R': 'F', 'S': 'T', 'G': 'F'}, 85: {'R': 'T', 'S': 'F', 'G': 'F'}, 86: {'R': 'F', 'S': 'F', 'G': 'T'}, 87: {'R': 'T', 'S': 'F', 'G': 'F'}, 88: {'R': 'F', 'S': 'T', 'G': 'F'}, 89: {'R': 'F', 'S': 'T', 'G': 'F'}, 90: {'R': 'T', 'S': 'F', 'G': 'F'}, 91: {'R': 'T', 'S': 'F', 'G': 'F'}, 92: {'R': 'F', 'S': 'F', 'G': 'T'}, 93: {'R': 'F', 'S': 'F', 'G': 'T'}, 94: {'R': 'F', 'S': 'T', 'G': 'F'}, 95: {'R': 'F', 'S': 'T', 'G': 'F'}, 96: {'R': 'F', 'S': 'F', 'G': 'T'}, 97: {'R': 'F', 'S': 'F', 'G': 'T'}, 98: {'R': 'F', 'S': 'F', 'G': 'T'}, 99: {'R': 'F', 'S': 'F', 'G': 'F'}, 100: {'R': 'T', 'S': 'F', 'G': 'F'}, 101: {'R': 'T', 'S': 'F', 'G': 'F'}, 102: {'R': 'T', 'S': 'F', 'G': 'F'}, 103: {'R': 'F', 'S': 'F', 'G': 'F'}, 104: {'R': 'F', 'S': 'F', 'G': 'F'}, 105: {'R': 'F', 'S': 'T', 'G': 'F'}, 106: {'R': 'T', 'S': 'F', 'G': 'F'}, 107: {'R': 'F', 'S': 'T', 'G': 'F'}, 108: {'R': 'F', 'S': 'F', 'G': 'T'}, 109: {'R': 'T', 'S': 'F', 'G': 'F'}, 110: {'R': 'F', 'S': 'F', 'G': 'F'}, 111: {'R': 'F', 'S': 'T', 'G': 'F'}, 112: {'R': 'F', 'S': 'F', 'G': 'F'}, 113: {'R': 'F', 'S': 'T', 'G': 'F'}, 114: {'R': 'T', 'S': 'F', 'G': 'F'}, 115: {'R': 'F', 'S': 'F', 'G': 'F'}, 116: {'R': 'F', 'S': 'F', 'G': 'F'}, 117: {'R': 'F', 'S': 'T', 'G': 'F'}, 118: {'R': 'F', 'S': 'F', 'G': 'F'}, 119: {'R': 'T', 'S': 'F', 'G': 'F'}, 120: {'R': 'F', 'S': 'T', 'G': 'F'}, 121: {'R': 'F', 'S': 'T', 'G': 'F'}, 122: {'R': 'F', 'S': 'T', 'G': 'F'}, 123: {'R': 'F', 'S': 'T', 'G': 'F'}, 124: {'R': 'F', 'S': 'T', 'G': 'F'}, 125: {'R': 'F', 'S': 'F', 'G': 'F'}, 126: {'R': 'F', 'S': 'T', 'G': 'F'}, 127: {'R': 'T', 'S': 'F', 'G': 'F'}, 128: {'R': 'F', 'S': 'T', 'G': 'F'}, 129: {'R': 'F', 'S': 'F', 'G': 'F'}, 130: {'R': 'F', 'S': 'T', 'G': 'F'}, 131: {'R': 'F', 'S': 'T', 'G': 'F'}, 132: {'R': 'F', 'S': 'F', 'G': 'F'}, 133: {'R': 'F', 'S': 'F', 'G': 'T'}, 134: {'R': 'F', 'S': 'F', 'G': 'F'}, 135: {'R': 'F', 'S': 'T', 'G': 'F'}, 136: {'R': 'T', 'S': 'F', 'G': 'F'}, 137: {'R': 'T', 'S': 'F', 'G': 'F'}, 138: {'R': 'F', 'S': 'F', 'G': 'F'}, 139: {'R': 'F', 'S': 'T', 'G': 'F'}, 140: {'R': 'F', 'S': 'F', 'G': 'F'}, 141: {'R': 'F', 'S': 'T', 'G': 'F'}, 142: {'R': 'F', 'S': 'F', 'G': 'F'}, 143: {'R': 'T', 'S': 'F', 'G': 'F'}, 144: {'R': 'T', 'S': 'F', 'G': 'F'}, 145: {'R': 'F', 'S': 'T', 'G': 'F'}, 146: {'R': 'F', 'S': 'F', 'G': 'T'}, 147: {'R': 'F', 'S': 'T', 'G': 'F'}, 148: {'R': 'T', 'S': 'F', 'G': 'F'}, 149: {'R': 'F', 'S': 'T', 'G': 'F'}, 150: {'R': 'F', 'S': 'T', 'G': 'F'}, 151: {'R': 'F', 'S': 'F', 'G': 'F'}, 152: {'R': 'F', 'S': 'T', 'G': 'F'}, 153: {'R': 'F', 'S': 'F', 'G': 'T'}, 154: {'R': 'T', 'S': 'F', 'G': 'F'}, 155: {'R': 'F', 'S': 'T', 'G': 'F'}, 156: {'R': 'F', 'S': 'F', 'G': 'F'}, 157: {'R': 'F', 'S': 'F', 'G': 'F'}, 158: {'R': 'F', 'S': 'F', 'G': 'T'}, 159: {'R': 'F', 'S': 'F', 'G': 'T'}, 160: {'R': 'F', 'S': 'T', 'G': 'F'}, 161: {'R': 'T', 'S': 'F', 'G': 'F'}, 162: {'R': 'F', 'S': 'F', 'G': 'T'}, 163: {'R': 'F', 'S': 'F', 'G': 'T'}, 164: {'R': 'F', 'S': 'T', 'G': 'F'}, 165: {'R': 'F', 'S': 'T', 'G': 'F'}, 166: {'R': 'F', 'S': 'F', 'G': 'T'}, 167: {'R': 'F', 'S': 'F', 'G': 'F'}, 168: {'R': 'F', 'S': 'F', 'G': 'T'}, 169: {'R': 'T', 'S': 'F', 'G': 'F'}, 170: {'R': 'F', 'S': 'F', 'G': 'T'}, 171: {'R': 'F', 'S': 'F', 'G': 'F'}, 172: {'R': 'F', 'S': 'F', 'G': 'T'}, 173: {'R': 'F', 'S': 'T', 'G': 'F'}, 174: {'R': 'F', 'S': 'F', 'G': 'T'}, 175: {'R': 'F', 'S': 'F', 'G': 'F'}, 176: {'R': 'F', 'S': 'F', 'G': 'T'}, 177: {'R': 'F', 'S': 'F', 'G': 'F'}, 178: {'R': 'F', 'S': 'F', 'G': 'T'}, 179: {'R': 'F', 'S': 'F', 'G': 'F'}, 180: {'R': 'F', 'S': 'F', 'G': 'F'}, 181: {'R': 'F', 'S': 'F', 'G': 'F'}, 182: {'R': 'F', 'S': 'F', 'G': 'F'}, 183: {'R': 'T', 'S': 'F', 'G': 'F'}, 184: {'R': 'F', 'S': 'F', 'G': 'T'}, 185: {'R': 'F', 'S': 'F', 'G': 'F'}, 186: {'R': 'F', 'S': 'T', 'G': 'F'}, 187: {'R': 'F', 'S': 'F', 'G': 'T'}, 188: {'R': 'F', 'S': 'T', 'G': 'F'}, 189: {'R': 'F', 'S': 'T', 'G': 'F'}, 190: {'R': 'F', 'S': 'T', 'G': 'F'}, 191: {'R': 'F', 'S': 'T', 'G': 'F'}, 192: {'R': 'F', 'S': 'F', 'G': 'F'}, 193: {'R': 'F', 'S': 'F', 'G': 'F'}, 194: {'R': 'T', 'S': 'F', 'G': 'F'}, 195: {'R': 'T', 'S': 'F', 'G': 'F'}, 196: {'R': 'F', 'S': 'F', 'G': 'T'}, 197: {'R': 'F', 'S': 'F', 'G': 'F'}, 198: {'R': 'F', 'S': 'T', 'G': 'F'}, 199: {'R': 'F', 'S': 'T', 'G': 'F'}, 200: {'R': 'F', 'S': 'T', 'G': 'F'}, 201: {'R': 'F', 'S': 'T', 'G': 'F'}, 202: {'R': 'T', 'S': 'F', 'G': 'F'}, 203: {'R': 'F', 'S': 'F', 'G': 'F'}, 204: {'R': 'F', 'S': 'T', 'G': 'F'}, 205: {'R': 'F', 'S': 'T', 'G': 'F'}, 206: {'R': 'F', 'S': 'F', 'G': 'F'}, 207: {'R': 'F', 'S': 'F', 'G': 'F'}, 208: {'R': 'T', 'S': 'F', 'G': 'F'}, 209: {'R': 'F', 'S': 'F', 'G': 'F'}, 210: {'R': 'F', 'S': 'T', 'G': 'F'}, 211: {'R': 'T', 'S': 'F', 'G': 'F'}, 212: {'R': 'T', 'S': 'F', 'G': 'F'}, 213: {'R': 'F', 'S': 'F', 'G': 'T'}, 214: {'R': 'F', 'S': 'F', 'G': 'F'}, 215: {'R': 'F', 'S': 'F', 'G': 'F'}, 216: {'R': 'F', 'S': 'F', 'G': 'F'}, 217: {'R': 'F', 'S': 'F', 'G': 'F'}, 218: {'R': 'F', 'S': 'T', 'G': 'F'}, 219: {'R': 'F', 'S': 'F', 'G': 'F'}, 220: {'R': 'F', 'S': 'T', 'G': 'F'}, 221: {'R': 'T', 'S': 'F', 'G': 'F'}, 222: {'R': 'F', 'S': 'T', 'G': 'F'}, 223: {'R': 'F', 'S': 'F', 'G': 'F'}, 224: {'R': 'F', 'S': 'F', 'G': 'T'}, 225: {'R': 'T', 'S': 'F', 'G': 'F'}, 226: {'R': 'T', 'S': 'F', 'G': 'F'}, 227: {'R': 'F', 'S': 'F', 'G': 'F'}, 228: {'R': 'F', 'S': 'F', 'G': 'T'}, 229: {'R': 'F', 'S': 'T', 'G': 'F'}, 230: {'R': 'F', 'S': 'T', 'G': 'F'}, 231: {'R': 'F', 'S': 'F', 'G': 'F'}, 232: {'R': 'F', 'S': 'F', 'G': 'F'}, 233: {'R': 'F', 'S': 'F', 'G': 'T'}, 234: {'R': 'F', 'S': 'F', 'G': 'F'}, 235: {'R': 'F', 'S': 'F', 'G': 'F'}, 236: {'R': 'F', 'S': 'F', 'G': 'F'}, 237: {'R': 'F', 'S': 'F', 'G': 'F'}, 238: {'R': 'F', 'S': 'T', 'G': 'F'}, 239: {'R': 'F', 'S': 'F', 'G': 'F'}, 240: {'R': 'F', 'S': 'F', 'G': 'F'}, 241: {'R': 'F', 'S': 'T', 'G': 'F'}, 242: {'R': 'F', 'S': 'T', 'G': 'F'}, 243: {'R': 'F', 'S': 'F', 'G': 'T'}, 244: {'R': 'F', 'S': 'F', 'G': 'F'}, 245: {'R': 'F', 'S': 'T', 'G': 'F'}, 246: {'R': 'T', 'S': 'F', 'G': 'F'}, 247: {'R': 'F', 'S': 'F', 'G': 'F'}, 248: {'R': 'F', 'S': 'F', 'G': 'F'}, 249: {'R': 'F', 'S': 'T', 'G': 'F'}, 250: {'R': 'T', 'S': 'F', 'G': 'F'}, 251: {'R': 'F', 'S': 'F', 'G': 'F'}, 252: {'R': 'T', 'S': 'F', 'G': 'F'}, 253: {'R': 'F', 'S': 'F', 'G': 'F'}, 254: {'R': 'T', 'S': 'F', 'G': 'F'}, 255: {'R': 'T', 'S': 'F', 'G': 'F'}, 256: {'R': 'T', 'S': 'F', 'G': 'F'}, 257: {'R': 'F', 'S': 'F', 'G': 'F'}, 258: {'R': 'F', 'S': 'F', 'G': 'T'}, 259: {'R': 'F', 'S': 'F', 'G': 'F'}, 260: {'R': 'F', 'S': 'T', 'G': 'F'}, 261: {'R': 'F', 'S': 'T', 'G': 'F'}, 262: {'R': 'F', 'S': 'F', 'G': 'F'}, 263: {'R': 'F', 'S': 'F', 'G': 'T'}, 264: {'R': 'F', 'S': 'F', 'G': 'F'}, 265: {'R': 'T', 'S': 'F', 'G': 'F'}, 266: {'R': 'T', 'S': 'F', 'G': 'F'}, 267: {'R': 'T', 'S': 'F', 'G': 'F'}, 268: {'R': 'F', 'S': 'F', 'G': 'T'}, 269: {'R': 'F', 'S': 'F', 'G': 'T'}, 270: {'R': 'F', 'S': 'T', 'G': 'F'}, 271: {'R': 'F', 'S': 'F', 'G': 'T'}, 272: {'R': 'F', 'S': 'T', 'G': 'F'}, 273: {'R': 'F', 'S': 'F', 'G': 'T'}, 274: {'R': 'F', 'S': 'F', 'G': 'T'}, 275: {'R': 'T', 'S': 'F', 'G': 'F'}, 276: {'R': 'F', 'S': 'F', 'G': 'F'}, 277: {'R': 'F', 'S': 'F', 'G': 'T'}, 278: {'R': 'T', 'S': 'F', 'G': 'F'}, 279: {'R': 'F', 'S': 'F', 'G': 'F'}, 280: {'R': 'F', 'S': 'F', 'G': 'F'}, 281: {'R': 'F', 'S': 'F', 'G': 'F'}, 282: {'R': 'F', 'S': 'F', 'G': 'T'}, 283: {'R': 'F', 'S': 'T', 'G': 'F'}, 284: {'R': 'F', 'S': 'T', 'G': 'F'}, 285: {'R': 'T', 'S': 'F', 'G': 'F'}, 286: {'R': 'T', 'S': 'F', 'G': 'F'}, 287: {'R': 'F', 'S': 'F', 'G': 'F'}, 288: {'R': 'F', 'S': 'T', 'G': 'F'}, 289: {'R': 'T', 'S': 'F', 'G': 'F'}, 290: {'R': 'F', 'S': 'T', 'G': 'F'}, 291: {'R': 'F', 'S': 'F', 'G': 'F'}, 292: {'R': 'F', 'S': 'T', 'G': 'F'}, 293: {'R': 'F', 'S': 'F', 'G': 'F'}, 294: {'R': 'F', 'S': 'F', 'G': 'F'}, 295: {'R': 'F', 'S': 'T', 'G': 'F'}, 296: {'R': 'F', 'S': 'F', 'G': 'T'}, 297: {'R': 'F', 'S': 'F', 'G': 'F'}, 298: {'R': 'F', 'S': 'T', 'G': 'F'}, 299: {'R': 'F', 'S': 'F', 'G': 'F'}, 300: {'R': 'F', 'S': 'F', 'G': 'T'}, 301: {'R': 'F', 'S': 'F', 'G': 'T'}, 302: {'R': 'F', 'S': 'F', 'G': 'F'}, 303: {'R': 'T', 'S': 'F', 'G': 'F'}, 304: {'R': 'F', 'S': 'T', 'G': 'F'}, 305: {'R': 'F', 'S': 'T', 'G': 'F'}, 306: {'R': 'T', 'S': 'F', 'G': 'F'}, 307: {'R': 'F', 'S': 'F', 'G': 'F'}, 308: {'R': 'F', 'S': 'F', 'G': 'F'}, 309: {'R': 'F', 'S': 'T', 'G': 'T'}, 310: {'R': 'T', 'S': 'F', 'G': 'F'}, 311: {'R': 'T', 'S': 'F', 'G': 'F'}, 312: {'R': 'T', 'S': 'F', 'G': 'F'}, 313: {'R': 'F', 'S': 'F', 'G': 'T'}, 314: {'R': 'F', 'S': 'F', 'G': 'T'}, 315: {'R': 'F', 'S': 'F', 'G': 'F'}, 316: {'R': 'F', 'S': 'F', 'G': 'T'}, 317: {'R': 'F', 'S': 'F', 'G': 'T'}, 318: {'R': 'F', 'S': 'T', 'G': 'F'}, 319: {'R': 'F', 'S': 'F', 'G': 'T'}, 320: {'R': 'T', 'S': 'F', 'G': 'F'}, 321: {'R': 'F', 'S': 'F', 'G': 'F'}, 322: {'R': 'F', 'S': 'F', 'G': 'F'}, 323: {'R': 'F', 'S': 'F', 'G': 'T'}, 324: {'R': 'T', 'S': 'F', 'G': 'F'}, 325: {'R': 'F', 'S': 'T', 'G': 'F'}, 326: {'R': 'F', 'S': 'F', 'G': 'T'}, 327: {'R': 'F', 'S': 'F', 'G': 'F'}, 328: {'R': 'F', 'S': 'F', 'G': 'T'}, 329: {'R': 'F', 'S': 'T', 'G': 'F'}, 330: {'R': 'F', 'S': 'F', 'G': 'T'}, 331: {'R': 'F', 'S': 'T', 'G': 'F'}, 332: {'R': 'F', 'S': 'T', 'G': 'F'}, 333: {'R': 'F', 'S': 'F', 'G': 'F'}, 334: {'R': 'T', 'S': 'F', 'G': 'F'}, 335: {'R': 'F', 'S': 'F', 'G': 'F'}, 336: {'R': 'F', 'S': 'T', 'G': 'F'}, 337: {'R': 'F', 'S': 'F', 'G': 'F'}, 338: {'R': 'F', 'S': 'T', 'G': 'F'}, 339: {'R': 'F', 'S': 'F', 'G': 'T'}, 340: {'R': 'F', 'S': 'F', 'G': 'T'}, 341: {'R': 'F', 'S': 'F', 'G': 'F'}, 342: {'R': 'F', 'S': 'F', 'G': 'F'}, 343: {'R': 'F', 'S': 'T', 'G': 'F'}, 344: {'R': 'F', 'S': 'T', 'G': 'F'}, 345: {'R': 'F', 'S': 'T', 'G': 'F'}, 346: {'R': 'F', 'S': 'T', 'G': 'F'}, 347: {'R': 'F', 'S': 'F', 'G': 'T'}, 348: {'R': 'F', 'S': 'T', 'G': 'F'}, 349: {'R': 'F', 'S': 'T', 'G': 'F'}, 350: {'R': 'F', 'S': 'F', 'G': 'F'}, 351: {'R': 'F', 'S': 'F', 'G': 'F'}, 352: {'R': 'F', 'S': 'F', 'G': 'T'}, 353: {'R': 'F', 'S': 'F', 'G': 'F'}, 354: {'R': 'F', 'S': 'F', 'G': 'T'}, 355: {'R': 'T', 'S': 'F', 'G': 'F'}, 356: {'R': 'F', 'S': 'T', 'G': 'F'}, 357: {'R': 'F', 'S': 'T', 'G': 'F'}, 358: {'R': 'T', 'S': 'F', 'G': 'F'}, 359: {'R': 'F', 'S': 'F', 'G': 'F'}, 360: {'R': 'F', 'S': 'F', 'G': 'F'}, 361: {'R': 'T', 'S': 'F', 'G': 'F'}, 362: {'R': 'F', 'S': 'T', 'G': 'F'}, 363: {'R': 'F', 'S': 'F', 'G': 'T'}, 364: {'R': 'F', 'S': 'T', 'G': 'F'}, 365: {'R': 'F', 'S': 'F', 'G': 'F'}, 366: {'R': 'F', 'S': 'F', 'G': 'F'}, 367: {'R': 'F', 'S': 'T', 'G': 'F'}, 368: {'R': 'F', 'S': 'T', 'G': 'F'}, 369: {'R': 'T', 'S': 'F', 'G': 'F'}, 370: {'R': 'T', 'S': 'F', 'G': 'F'}, 371: {'R': 'T', 'S': 'F', 'G': 'F'}, 372: {'R': 'F', 'S': 'T', 'G': 'F'}, 373: {'R': 'F', 'S': 'F', 'G': 'T'}, 374: {'R': 'F', 'S': 'F', 'G': 'F'}, 375: {'R': 'F', 'S': 'T', 'G': 'F'}, 376: {'R': 'T', 'S': 'F', 'G': 'F'}, 377: {'R': 'F', 'S': 'F', 'G': 'F'}, 378: {'R': 'F', 'S': 'T', 'G': 'F'}, 379: {'R': 'F', 'S': 'F', 'G': 'F'}, 380: {'R': 'T', 'S': 'F', 'G': 'F'}, 381: {'R': 'F', 'S': 'F', 'G': 'F'}, 382: {'R': 'F', 'S': 'F', 'G': 'F'}, 383: {'R': 'F', 'S': 'F', 'G': 'F'}, 384: {'R': 'F', 'S': 'F', 'G': 'T'}, 385: {'R': 'T', 'S': 'F', 'G': 'F'}, 386: {'R': 'F', 'S': 'T', 'G': 'F'}, 387: {'R': 'F', 'S': 'F', 'G': 'F'}, 388: {'R': 'F', 'S': 'F', 'G': 'F'}, 389: {'R': 'F', 'S': 'F', 'G': 'F'}, 390: {'R': 'T', 'S': 'F', 'G': 'F'}, 391: {'R': 'F', 'S': 'F', 'G': 'T'}, 392: {'R': 'F', 'S': 'F', 'G': 'F'}, 393: {'R': 'F', 'S': 'F', 'G': 'F'}, 394: {'R': 'F', 'S': 'F', 'G': 'T'}, 395: {'R': 'F', 'S': 'T', 'G': 'F'}, 396: {'R': 'F', 'S': 'F', 'G': 'T'}, 397: {'R': 'F', 'S': 'T', 'G': 'F'}, 398: {'R': 'F', 'S': 'F', 'G': 'T'}, 399: {'R': 'F', 'S': 'F', 'G': 'T'}, 400: {'R': 'F', 'S': 'T', 'G': 'F'}, 401: {'R': 'F', 'S': 'F', 'G': 'T'}, 402: {'R': 'F', 'S': 'F', 'G': 'F'}, 403: {'R': 'F', 'S': 'T', 'G': 'F'}, 404: {'R': 'F', 'S': 'T', 'G': 'F'}, 405: {'R': 'F', 'S': 'F', 'G': 'T'}, 406: {'R': 'F', 'S': 'T', 'G': 'F'}, 407: {'R': 'F', 'S': 'T', 'G': 'F'}, 408: {'R': 'F', 'S': 'T', 'G': 'F'}, 409: {'R': 'F', 'S': 'F', 'G': 'F'}, 410: {'R': 'F', 'S': 'T', 'G': 'F'}, 411: {'R': 'F', 'S': 'F', 'G': 'T'}, 412: {'R': 'F', 'S': 'F', 'G': 'T'}, 413: {'R': 'F', 'S': 'T', 'G': 'F'}, 414: {'R': 'F', 'S': 'F', 'G': 'T'}, 415: {'R': 'F', 'S': 'T', 'G': 'F'}, 416: {'R': 'F', 'S': 'F', 'G': 'T'}, 417: {'R': 'F', 'S': 'T', 'G': 'F'}, 418: {'R': 'F', 'S': 'F', 'G': 'F'}, 419: {'R': 'F', 'S': 'F', 'G': 'F'}, 420: {'R': 'F', 'S': 'T', 'G': 'F'}, 421: {'R': 'F', 'S': 'F', 'G': 'F'}, 422: {'R': 'T', 'S': 'F', 'G': 'F'}, 423: {'R': 'T', 'S': 'F', 'G': 'F'}, 424: {'R': 'F', 'S': 'F', 'G': 'F'}, 425: {'R': 'F', 'S': 'T', 'G': 'F'}, 426: {'R': 'T', 'S': 'F', 'G': 'F'}, 427: {'R': 'F', 'S': 'F', 'G': 'F'}, 428: {'R': 'F', 'S': 'T', 'G': 'F'}, 429: {'R': 'F', 'S': 'T', 'G': 'F'}, 430: {'R': 'F', 'S': 'F', 'G': 'T'}, 431: {'R': 'F', 'S': 'F', 'G': 'F'}, 432: {'R': 'F', 'S': 'T', 'G': 'F'}, 433: {'R': 'F', 'S': 'F', 'G': 'F'}, 434: {'R': 'F', 'S': 'F', 'G': 'F'}, 435: {'R': 'F', 'S': 'F', 'G': 'F'}, 436: {'R': 'F', 'S': 'T', 'G': 'F'}, 437: {'R': 'F', 'S': 'T', 'G': 'F'}, 438: {'R': 'F', 'S': 'T', 'G': 'F'}, 439: {'R': 'F', 'S': 'T', 'G': 'F'}, 440: {'R': 'F', 'S': 'F', 'G': 'F'}, 441: {'R': 'F', 'S': 'F', 'G': 'F'}, 442: {'R': 'F', 'S': 'F', 'G': 'F'}, 443: {'R': 'F', 'S': 'T', 'G': 'F'}, 444: {'R': 'F', 'S': 'T', 'G': 'F'}, 445: {'R': 'F', 'S': 'T', 'G': 'F'}, 446: {'R': 'T', 'S': 'F', 'G': 'F'}, 447: {'R': 'F', 'S': 'F', 'G': 'T'}, 448: {'R': 'F', 'S': 'T', 'G': 'F'}, 449: {'R': 'F', 'S': 'F', 'G': 'F'}, 450: {'R': 'F', 'S': 'T', 'G': 'F'}, 451: {'R': 'F', 'S': 'F', 'G': 'F'}, 452: {'R': 'F', 'S': 'F', 'G': 'F'}, 453: {'R': 'F', 'S': 'F', 'G': 'T'}, 454: {'R': 'F', 'S': 'F', 'G': 'F'}, 455: {'R': 'F', 'S': 'F', 'G': 'F'}, 456: {'R': 'F', 'S': 'T', 'G': 'F'}, 457: {'R': 'F', 'S': 'T', 'G': 'F'}, 458: {'R': 'F', 'S': 'T', 'G': 'F'}, 459: {'R': 'T', 'S': 'F', 'G': 'F'}, 460: {'R': 'F', 'S': 'F', 'G': 'T'}, 461: {'R': 'F', 'S': 'F', 'G': 'F'}, 462: {'R': 'T', 'S': 'F', 'G': 'F'}, 463: {'R': 'F', 'S': 'F', 'G': 'F'}, 464: {'R': 'F', 'S': 'F', 'G': 'T'}, 465: {'R': 'T', 'S': 'F', 'G': 'F'}, 466: {'R': 'F', 'S': 'F', 'G': 'F'}, 467: {'R': 'F', 'S': 'F', 'G': 'F'}, 468: {'R': 'F', 'S': 'T', 'G': 'F'}, 469: {'R': 'F', 'S': 'F', 'G': 'F'}, 470: {'R': 'F', 'S': 'F', 'G': 'F'}, 471: {'R': 'F', 'S': 'F', 'G': 'F'}, 472: {'R': 'F', 'S': 'F', 'G': 'T'}, 473: {'R': 'F', 'S': 'T', 'G': 'F'}, 474: {'R': 'F', 'S': 'F', 'G': 'F'}, 475: {'R': 'F', 'S': 'T', 'G': 'F'}, 476: {'R': 'F', 'S': 'T', 'G': 'F'}, 477: {'R': 'F', 'S': 'T', 'G': 'F'}, 478: {'R': 'T', 'S': 'F', 'G': 'F'}, 479: {'R': 'F', 'S': 'T', 'G': 'F'}, 480: {'R': 'F', 'S': 'T', 'G': 'F'}, 481: {'R': 'T', 'S': 'F', 'G': 'F'}, 482: {'R': 'F', 'S': 'F', 'G': 'F'}, 483: {'R': 'F', 'S': 'T', 'G': 'F'}, 484: {'R': 'T', 'S': 'F', 'G': 'F'}, 485: {'R': 'F', 'S': 'T', 'G': 'F'}, 486: {'R': 'F', 'S': 'F', 'G': 'T'}, 487: {'R': 'F', 'S': 'T', 'G': 'F'}, 488: {'R': 'F', 'S': 'T', 'G': 'F'}, 489: {'R': 'F', 'S': 'F', 'G': 'T'}, 490: {'R': 'F', 'S': 'F', 'G': 'F'}, 491: {'R': 'F', 'S': 'T', 'G': 'T'}, 492: {'R': 'F', 'S': 'F', 'G': 'F'}, 493: {'R': 'F', 'S': 'T', 'G': 'F'}, 494: {'R': 'F', 'S': 'T', 'G': 'F'}, 495: {'R': 'T', 'S': 'F', 'G': 'F'}, 496: {'R': 'F', 'S': 'F', 'G': 'F'}, 497: {'R': 'F', 'S': 'F', 'G': 'T'}, 498: {'R': 'T', 'S': 'F', 'G': 'F'}, 499: {'R': 'F', 'S': 'F', 'G': 'T'}, 500: {'R': 'F', 'S': 'F', 'G': 'F'}}\n",
            "Valor aproximado para a consulta: \n"
          ],
          "name": "stdout"
        },
        {
          "output_type": "execute_result",
          "data": {
            "text/plain": [
              "{'F': 0.786, 'T': 0.214}"
            ]
          },
          "metadata": {
            "tags": []
          },
          "execution_count": 252
        }
      ]
    },
    {
      "cell_type": "markdown",
      "metadata": {
        "id": "0l0SHQeapOT6"
      },
      "source": [
        "$\\ iv. Pr(G \\mid S = True) $\n",
        "\n",
        "Agora passamos um parâmetro para obs.\n",
        "\n",
        "\n"
      ]
    },
    {
      "cell_type": "markdown",
      "metadata": {
        "id": "E1FjWiFZpOT7"
      },
      "source": [
        "*   **Para 5 amostras:**\n",
        "\n",
        "\n",
        "\n",
        "\n",
        "\n"
      ]
    },
    {
      "cell_type": "code",
      "metadata": {
        "colab": {
          "base_uri": "https://localhost:8080/"
        },
        "id": "OoZgbOLapOT8",
        "outputId": "f6d8dba8-133e-4b8d-fbd7-2b09ea3a43a5"
      },
      "source": [
        "obs = dict()\n",
        "obs['S'] = 'T'\n",
        "amostragem_a_priori(grass_model, 'G', obs, 5)"
      ],
      "execution_count": null,
      "outputs": [
        {
          "output_type": "stream",
          "text": [
            "Amostras:\n",
            " {1: {'R': 'F', 'S': 'T', 'G': 'F'}, 2: {'R': 'F', 'S': 'T', 'G': 'F'}, 3: {'R': 'F', 'S': 'F', 'G': 'T'}, 4: {'R': 'F', 'S': 'F', 'G': 'T'}, 5: {'R': 'F', 'S': 'F', 'G': 'F'}}\n",
            "Valor aproximado para a consulta: \n"
          ],
          "name": "stdout"
        },
        {
          "output_type": "execute_result",
          "data": {
            "text/plain": [
              "{'F': 1.0}"
            ]
          },
          "metadata": {
            "tags": []
          },
          "execution_count": 253
        }
      ]
    },
    {
      "cell_type": "markdown",
      "metadata": {
        "id": "x8kPoY91pOT_"
      },
      "source": [
        "*   **Para 50 amostras:**\n",
        "\n",
        "\n",
        "\n",
        "\n",
        "\n"
      ]
    },
    {
      "cell_type": "code",
      "metadata": {
        "colab": {
          "base_uri": "https://localhost:8080/"
        },
        "id": "TZUNAzfkpOUA",
        "outputId": "9a8bf171-fd92-4117-b273-6aed8d4edf58"
      },
      "source": [
        "obs = dict()\n",
        "obs['S'] = 'T'\n",
        "amostragem_a_priori(grass_model, 'G', obs, 50)"
      ],
      "execution_count": null,
      "outputs": [
        {
          "output_type": "stream",
          "text": [
            "Amostras:\n",
            " {1: {'R': 'F', 'S': 'F', 'G': 'F'}, 2: {'R': 'T', 'S': 'F', 'G': 'F'}, 3: {'R': 'F', 'S': 'F', 'G': 'T'}, 4: {'R': 'F', 'S': 'T', 'G': 'F'}, 5: {'R': 'F', 'S': 'F', 'G': 'F'}, 6: {'R': 'F', 'S': 'F', 'G': 'T'}, 7: {'R': 'F', 'S': 'T', 'G': 'F'}, 8: {'R': 'F', 'S': 'F', 'G': 'T'}, 9: {'R': 'F', 'S': 'T', 'G': 'F'}, 10: {'R': 'F', 'S': 'F', 'G': 'T'}, 11: {'R': 'F', 'S': 'T', 'G': 'F'}, 12: {'R': 'F', 'S': 'F', 'G': 'T'}, 13: {'R': 'F', 'S': 'F', 'G': 'T'}, 14: {'R': 'F', 'S': 'T', 'G': 'F'}, 15: {'R': 'F', 'S': 'F', 'G': 'F'}, 16: {'R': 'F', 'S': 'F', 'G': 'F'}, 17: {'R': 'T', 'S': 'F', 'G': 'F'}, 18: {'R': 'F', 'S': 'T', 'G': 'F'}, 19: {'R': 'F', 'S': 'F', 'G': 'T'}, 20: {'R': 'T', 'S': 'F', 'G': 'F'}, 21: {'R': 'F', 'S': 'T', 'G': 'F'}, 22: {'R': 'T', 'S': 'F', 'G': 'F'}, 23: {'R': 'F', 'S': 'F', 'G': 'T'}, 24: {'R': 'F', 'S': 'T', 'G': 'F'}, 25: {'R': 'T', 'S': 'F', 'G': 'F'}, 26: {'R': 'F', 'S': 'F', 'G': 'T'}, 27: {'R': 'F', 'S': 'F', 'G': 'T'}, 28: {'R': 'F', 'S': 'F', 'G': 'F'}, 29: {'R': 'T', 'S': 'F', 'G': 'F'}, 30: {'R': 'F', 'S': 'F', 'G': 'T'}, 31: {'R': 'F', 'S': 'F', 'G': 'F'}, 32: {'R': 'F', 'S': 'F', 'G': 'F'}, 33: {'R': 'F', 'S': 'F', 'G': 'F'}, 34: {'R': 'F', 'S': 'F', 'G': 'T'}, 35: {'R': 'T', 'S': 'F', 'G': 'F'}, 36: {'R': 'F', 'S': 'F', 'G': 'T'}, 37: {'R': 'T', 'S': 'F', 'G': 'F'}, 38: {'R': 'F', 'S': 'T', 'G': 'F'}, 39: {'R': 'F', 'S': 'T', 'G': 'F'}, 40: {'R': 'T', 'S': 'F', 'G': 'F'}, 41: {'R': 'T', 'S': 'F', 'G': 'F'}, 42: {'R': 'F', 'S': 'T', 'G': 'F'}, 43: {'R': 'F', 'S': 'F', 'G': 'F'}, 44: {'R': 'T', 'S': 'F', 'G': 'F'}, 45: {'R': 'F', 'S': 'F', 'G': 'F'}, 46: {'R': 'F', 'S': 'F', 'G': 'F'}, 47: {'R': 'F', 'S': 'F', 'G': 'T'}, 48: {'R': 'F', 'S': 'T', 'G': 'F'}, 49: {'R': 'F', 'S': 'F', 'G': 'F'}, 50: {'R': 'F', 'S': 'F', 'G': 'F'}}\n",
            "Valor aproximado para a consulta: \n"
          ],
          "name": "stdout"
        },
        {
          "output_type": "execute_result",
          "data": {
            "text/plain": [
              "{'F': 1.0}"
            ]
          },
          "metadata": {
            "tags": []
          },
          "execution_count": 254
        }
      ]
    },
    {
      "cell_type": "markdown",
      "metadata": {
        "id": "N0zzod3MpOUB"
      },
      "source": [
        "*   **Para 500 amostras:**\n",
        "\n",
        "\n",
        "\n",
        "\n",
        "\n"
      ]
    },
    {
      "cell_type": "code",
      "metadata": {
        "colab": {
          "base_uri": "https://localhost:8080/"
        },
        "id": "h6BYlB2PpOUC",
        "outputId": "e85c759b-0e72-410d-c0b5-a015bb9cab8a"
      },
      "source": [
        "obs = dict()\n",
        "obs['S'] = 'T'\n",
        "amostragem_a_priori(grass_model, 'G', obs, 500)"
      ],
      "execution_count": null,
      "outputs": [
        {
          "output_type": "stream",
          "text": [
            "Amostras:\n",
            " {1: {'R': 'T', 'S': 'F', 'G': 'F'}, 2: {'R': 'F', 'S': 'F', 'G': 'F'}, 3: {'R': 'F', 'S': 'F', 'G': 'F'}, 4: {'R': 'T', 'S': 'F', 'G': 'F'}, 5: {'R': 'F', 'S': 'T', 'G': 'F'}, 6: {'R': 'F', 'S': 'F', 'G': 'F'}, 7: {'R': 'F', 'S': 'T', 'G': 'F'}, 8: {'R': 'T', 'S': 'F', 'G': 'F'}, 9: {'R': 'F', 'S': 'F', 'G': 'F'}, 10: {'R': 'T', 'S': 'F', 'G': 'F'}, 11: {'R': 'F', 'S': 'F', 'G': 'F'}, 12: {'R': 'F', 'S': 'T', 'G': 'F'}, 13: {'R': 'F', 'S': 'T', 'G': 'F'}, 14: {'R': 'T', 'S': 'F', 'G': 'F'}, 15: {'R': 'F', 'S': 'F', 'G': 'F'}, 16: {'R': 'T', 'S': 'F', 'G': 'F'}, 17: {'R': 'F', 'S': 'F', 'G': 'F'}, 18: {'R': 'T', 'S': 'F', 'G': 'F'}, 19: {'R': 'F', 'S': 'T', 'G': 'F'}, 20: {'R': 'T', 'S': 'F', 'G': 'F'}, 21: {'R': 'F', 'S': 'T', 'G': 'F'}, 22: {'R': 'F', 'S': 'F', 'G': 'T'}, 23: {'R': 'F', 'S': 'T', 'G': 'F'}, 24: {'R': 'F', 'S': 'T', 'G': 'F'}, 25: {'R': 'T', 'S': 'F', 'G': 'F'}, 26: {'R': 'F', 'S': 'F', 'G': 'F'}, 27: {'R': 'F', 'S': 'F', 'G': 'F'}, 28: {'R': 'F', 'S': 'F', 'G': 'F'}, 29: {'R': 'F', 'S': 'F', 'G': 'T'}, 30: {'R': 'T', 'S': 'F', 'G': 'F'}, 31: {'R': 'F', 'S': 'F', 'G': 'T'}, 32: {'R': 'F', 'S': 'T', 'G': 'F'}, 33: {'R': 'T', 'S': 'F', 'G': 'F'}, 34: {'R': 'F', 'S': 'F', 'G': 'F'}, 35: {'R': 'F', 'S': 'F', 'G': 'F'}, 36: {'R': 'F', 'S': 'F', 'G': 'T'}, 37: {'R': 'F', 'S': 'F', 'G': 'F'}, 38: {'R': 'F', 'S': 'F', 'G': 'F'}, 39: {'R': 'F', 'S': 'F', 'G': 'T'}, 40: {'R': 'F', 'S': 'F', 'G': 'F'}, 41: {'R': 'T', 'S': 'F', 'G': 'F'}, 42: {'R': 'F', 'S': 'F', 'G': 'T'}, 43: {'R': 'F', 'S': 'F', 'G': 'T'}, 44: {'R': 'T', 'S': 'F', 'G': 'F'}, 45: {'R': 'T', 'S': 'F', 'G': 'F'}, 46: {'R': 'F', 'S': 'F', 'G': 'T'}, 47: {'R': 'T', 'S': 'F', 'G': 'F'}, 48: {'R': 'F', 'S': 'F', 'G': 'F'}, 49: {'R': 'F', 'S': 'T', 'G': 'F'}, 50: {'R': 'F', 'S': 'F', 'G': 'F'}, 51: {'R': 'F', 'S': 'F', 'G': 'T'}, 52: {'R': 'T', 'S': 'F', 'G': 'F'}, 53: {'R': 'F', 'S': 'F', 'G': 'T'}, 54: {'R': 'F', 'S': 'T', 'G': 'F'}, 55: {'R': 'F', 'S': 'F', 'G': 'F'}, 56: {'R': 'F', 'S': 'T', 'G': 'F'}, 57: {'R': 'T', 'S': 'F', 'G': 'F'}, 58: {'R': 'F', 'S': 'F', 'G': 'F'}, 59: {'R': 'T', 'S': 'F', 'G': 'F'}, 60: {'R': 'F', 'S': 'F', 'G': 'T'}, 61: {'R': 'T', 'S': 'F', 'G': 'F'}, 62: {'R': 'F', 'S': 'T', 'G': 'F'}, 63: {'R': 'T', 'S': 'F', 'G': 'F'}, 64: {'R': 'F', 'S': 'F', 'G': 'T'}, 65: {'R': 'F', 'S': 'T', 'G': 'F'}, 66: {'R': 'F', 'S': 'F', 'G': 'T'}, 67: {'R': 'F', 'S': 'T', 'G': 'F'}, 68: {'R': 'F', 'S': 'F', 'G': 'T'}, 69: {'R': 'T', 'S': 'F', 'G': 'F'}, 70: {'R': 'F', 'S': 'F', 'G': 'T'}, 71: {'R': 'F', 'S': 'F', 'G': 'T'}, 72: {'R': 'F', 'S': 'T', 'G': 'F'}, 73: {'R': 'F', 'S': 'F', 'G': 'F'}, 74: {'R': 'T', 'S': 'F', 'G': 'F'}, 75: {'R': 'T', 'S': 'F', 'G': 'F'}, 76: {'R': 'F', 'S': 'T', 'G': 'F'}, 77: {'R': 'F', 'S': 'F', 'G': 'T'}, 78: {'R': 'F', 'S': 'T', 'G': 'F'}, 79: {'R': 'T', 'S': 'F', 'G': 'F'}, 80: {'R': 'F', 'S': 'F', 'G': 'T'}, 81: {'R': 'F', 'S': 'F', 'G': 'T'}, 82: {'R': 'F', 'S': 'F', 'G': 'T'}, 83: {'R': 'F', 'S': 'F', 'G': 'F'}, 84: {'R': 'T', 'S': 'F', 'G': 'F'}, 85: {'R': 'F', 'S': 'T', 'G': 'F'}, 86: {'R': 'F', 'S': 'T', 'G': 'F'}, 87: {'R': 'F', 'S': 'F', 'G': 'F'}, 88: {'R': 'T', 'S': 'F', 'G': 'F'}, 89: {'R': 'F', 'S': 'T', 'G': 'F'}, 90: {'R': 'F', 'S': 'T', 'G': 'F'}, 91: {'R': 'F', 'S': 'F', 'G': 'F'}, 92: {'R': 'F', 'S': 'F', 'G': 'F'}, 93: {'R': 'F', 'S': 'T', 'G': 'F'}, 94: {'R': 'F', 'S': 'T', 'G': 'F'}, 95: {'R': 'F', 'S': 'T', 'G': 'F'}, 96: {'R': 'T', 'S': 'F', 'G': 'F'}, 97: {'R': 'F', 'S': 'T', 'G': 'F'}, 98: {'R': 'F', 'S': 'F', 'G': 'F'}, 99: {'R': 'F', 'S': 'T', 'G': 'F'}, 100: {'R': 'F', 'S': 'T', 'G': 'F'}, 101: {'R': 'F', 'S': 'F', 'G': 'T'}, 102: {'R': 'F', 'S': 'F', 'G': 'F'}, 103: {'R': 'F', 'S': 'F', 'G': 'T'}, 104: {'R': 'T', 'S': 'F', 'G': 'F'}, 105: {'R': 'F', 'S': 'F', 'G': 'F'}, 106: {'R': 'F', 'S': 'F', 'G': 'F'}, 107: {'R': 'F', 'S': 'T', 'G': 'F'}, 108: {'R': 'F', 'S': 'T', 'G': 'F'}, 109: {'R': 'F', 'S': 'F', 'G': 'T'}, 110: {'R': 'T', 'S': 'F', 'G': 'F'}, 111: {'R': 'F', 'S': 'T', 'G': 'F'}, 112: {'R': 'F', 'S': 'F', 'G': 'T'}, 113: {'R': 'F', 'S': 'F', 'G': 'F'}, 114: {'R': 'F', 'S': 'T', 'G': 'F'}, 115: {'R': 'F', 'S': 'F', 'G': 'F'}, 116: {'R': 'F', 'S': 'T', 'G': 'F'}, 117: {'R': 'F', 'S': 'T', 'G': 'F'}, 118: {'R': 'F', 'S': 'T', 'G': 'F'}, 119: {'R': 'T', 'S': 'F', 'G': 'F'}, 120: {'R': 'F', 'S': 'T', 'G': 'F'}, 121: {'R': 'F', 'S': 'T', 'G': 'F'}, 122: {'R': 'F', 'S': 'F', 'G': 'F'}, 123: {'R': 'F', 'S': 'T', 'G': 'F'}, 124: {'R': 'F', 'S': 'T', 'G': 'F'}, 125: {'R': 'F', 'S': 'T', 'G': 'F'}, 126: {'R': 'F', 'S': 'F', 'G': 'T'}, 127: {'R': 'F', 'S': 'F', 'G': 'T'}, 128: {'R': 'F', 'S': 'T', 'G': 'F'}, 129: {'R': 'F', 'S': 'T', 'G': 'F'}, 130: {'R': 'T', 'S': 'F', 'G': 'F'}, 131: {'R': 'F', 'S': 'F', 'G': 'T'}, 132: {'R': 'F', 'S': 'T', 'G': 'F'}, 133: {'R': 'F', 'S': 'T', 'G': 'F'}, 134: {'R': 'T', 'S': 'F', 'G': 'F'}, 135: {'R': 'F', 'S': 'F', 'G': 'F'}, 136: {'R': 'F', 'S': 'F', 'G': 'F'}, 137: {'R': 'T', 'S': 'F', 'G': 'F'}, 138: {'R': 'F', 'S': 'F', 'G': 'T'}, 139: {'R': 'F', 'S': 'T', 'G': 'F'}, 140: {'R': 'F', 'S': 'F', 'G': 'F'}, 141: {'R': 'F', 'S': 'F', 'G': 'T'}, 142: {'R': 'T', 'S': 'F', 'G': 'F'}, 143: {'R': 'F', 'S': 'T', 'G': 'F'}, 144: {'R': 'T', 'S': 'F', 'G': 'F'}, 145: {'R': 'F', 'S': 'F', 'G': 'F'}, 146: {'R': 'F', 'S': 'T', 'G': 'F'}, 147: {'R': 'T', 'S': 'F', 'G': 'F'}, 148: {'R': 'T', 'S': 'F', 'G': 'F'}, 149: {'R': 'F', 'S': 'F', 'G': 'F'}, 150: {'R': 'T', 'S': 'F', 'G': 'F'}, 151: {'R': 'F', 'S': 'F', 'G': 'F'}, 152: {'R': 'F', 'S': 'T', 'G': 'F'}, 153: {'R': 'F', 'S': 'F', 'G': 'F'}, 154: {'R': 'F', 'S': 'F', 'G': 'F'}, 155: {'R': 'F', 'S': 'F', 'G': 'F'}, 156: {'R': 'F', 'S': 'T', 'G': 'F'}, 157: {'R': 'F', 'S': 'F', 'G': 'F'}, 158: {'R': 'F', 'S': 'F', 'G': 'F'}, 159: {'R': 'F', 'S': 'F', 'G': 'F'}, 160: {'R': 'F', 'S': 'F', 'G': 'F'}, 161: {'R': 'F', 'S': 'F', 'G': 'F'}, 162: {'R': 'T', 'S': 'T', 'G': 'F'}, 163: {'R': 'F', 'S': 'F', 'G': 'F'}, 164: {'R': 'F', 'S': 'T', 'G': 'F'}, 165: {'R': 'F', 'S': 'F', 'G': 'T'}, 166: {'R': 'F', 'S': 'F', 'G': 'T'}, 167: {'R': 'T', 'S': 'F', 'G': 'F'}, 168: {'R': 'F', 'S': 'F', 'G': 'T'}, 169: {'R': 'F', 'S': 'T', 'G': 'F'}, 170: {'R': 'F', 'S': 'T', 'G': 'F'}, 171: {'R': 'T', 'S': 'F', 'G': 'F'}, 172: {'R': 'F', 'S': 'T', 'G': 'F'}, 173: {'R': 'F', 'S': 'F', 'G': 'F'}, 174: {'R': 'F', 'S': 'T', 'G': 'F'}, 175: {'R': 'F', 'S': 'F', 'G': 'F'}, 176: {'R': 'T', 'S': 'F', 'G': 'F'}, 177: {'R': 'F', 'S': 'T', 'G': 'F'}, 178: {'R': 'F', 'S': 'F', 'G': 'F'}, 179: {'R': 'F', 'S': 'F', 'G': 'T'}, 180: {'R': 'F', 'S': 'F', 'G': 'F'}, 181: {'R': 'F', 'S': 'T', 'G': 'F'}, 182: {'R': 'F', 'S': 'F', 'G': 'F'}, 183: {'R': 'F', 'S': 'T', 'G': 'F'}, 184: {'R': 'F', 'S': 'F', 'G': 'F'}, 185: {'R': 'F', 'S': 'T', 'G': 'F'}, 186: {'R': 'F', 'S': 'T', 'G': 'F'}, 187: {'R': 'T', 'S': 'F', 'G': 'F'}, 188: {'R': 'F', 'S': 'T', 'G': 'F'}, 189: {'R': 'F', 'S': 'F', 'G': 'F'}, 190: {'R': 'F', 'S': 'F', 'G': 'F'}, 191: {'R': 'F', 'S': 'F', 'G': 'T'}, 192: {'R': 'F', 'S': 'F', 'G': 'F'}, 193: {'R': 'F', 'S': 'T', 'G': 'F'}, 194: {'R': 'T', 'S': 'F', 'G': 'F'}, 195: {'R': 'F', 'S': 'F', 'G': 'T'}, 196: {'R': 'F', 'S': 'F', 'G': 'F'}, 197: {'R': 'T', 'S': 'F', 'G': 'F'}, 198: {'R': 'T', 'S': 'F', 'G': 'F'}, 199: {'R': 'F', 'S': 'T', 'G': 'F'}, 200: {'R': 'F', 'S': 'F', 'G': 'T'}, 201: {'R': 'T', 'S': 'F', 'G': 'F'}, 202: {'R': 'T', 'S': 'F', 'G': 'F'}, 203: {'R': 'F', 'S': 'F', 'G': 'T'}, 204: {'R': 'F', 'S': 'T', 'G': 'F'}, 205: {'R': 'F', 'S': 'T', 'G': 'F'}, 206: {'R': 'T', 'S': 'F', 'G': 'F'}, 207: {'R': 'F', 'S': 'F', 'G': 'F'}, 208: {'R': 'F', 'S': 'T', 'G': 'F'}, 209: {'R': 'F', 'S': 'T', 'G': 'F'}, 210: {'R': 'F', 'S': 'F', 'G': 'F'}, 211: {'R': 'F', 'S': 'T', 'G': 'F'}, 212: {'R': 'T', 'S': 'F', 'G': 'F'}, 213: {'R': 'F', 'S': 'F', 'G': 'F'}, 214: {'R': 'F', 'S': 'T', 'G': 'F'}, 215: {'R': 'F', 'S': 'T', 'G': 'F'}, 216: {'R': 'T', 'S': 'F', 'G': 'F'}, 217: {'R': 'F', 'S': 'F', 'G': 'T'}, 218: {'R': 'T', 'S': 'F', 'G': 'F'}, 219: {'R': 'F', 'S': 'F', 'G': 'T'}, 220: {'R': 'F', 'S': 'F', 'G': 'F'}, 221: {'R': 'F', 'S': 'T', 'G': 'F'}, 222: {'R': 'F', 'S': 'F', 'G': 'F'}, 223: {'R': 'F', 'S': 'T', 'G': 'F'}, 224: {'R': 'F', 'S': 'T', 'G': 'F'}, 225: {'R': 'T', 'S': 'F', 'G': 'F'}, 226: {'R': 'F', 'S': 'F', 'G': 'T'}, 227: {'R': 'T', 'S': 'F', 'G': 'F'}, 228: {'R': 'F', 'S': 'F', 'G': 'T'}, 229: {'R': 'F', 'S': 'F', 'G': 'T'}, 230: {'R': 'T', 'S': 'F', 'G': 'F'}, 231: {'R': 'F', 'S': 'F', 'G': 'F'}, 232: {'R': 'F', 'S': 'T', 'G': 'F'}, 233: {'R': 'T', 'S': 'F', 'G': 'F'}, 234: {'R': 'F', 'S': 'T', 'G': 'F'}, 235: {'R': 'F', 'S': 'T', 'G': 'F'}, 236: {'R': 'F', 'S': 'T', 'G': 'F'}, 237: {'R': 'F', 'S': 'T', 'G': 'F'}, 238: {'R': 'T', 'S': 'F', 'G': 'F'}, 239: {'R': 'F', 'S': 'T', 'G': 'F'}, 240: {'R': 'F', 'S': 'F', 'G': 'T'}, 241: {'R': 'F', 'S': 'T', 'G': 'F'}, 242: {'R': 'F', 'S': 'T', 'G': 'F'}, 243: {'R': 'T', 'S': 'F', 'G': 'F'}, 244: {'R': 'F', 'S': 'T', 'G': 'F'}, 245: {'R': 'F', 'S': 'T', 'G': 'F'}, 246: {'R': 'F', 'S': 'F', 'G': 'F'}, 247: {'R': 'F', 'S': 'T', 'G': 'F'}, 248: {'R': 'F', 'S': 'T', 'G': 'F'}, 249: {'R': 'F', 'S': 'F', 'G': 'F'}, 250: {'R': 'F', 'S': 'F', 'G': 'F'}, 251: {'R': 'F', 'S': 'F', 'G': 'F'}, 252: {'R': 'T', 'S': 'F', 'G': 'F'}, 253: {'R': 'T', 'S': 'F', 'G': 'F'}, 254: {'R': 'F', 'S': 'F', 'G': 'F'}, 255: {'R': 'F', 'S': 'T', 'G': 'F'}, 256: {'R': 'F', 'S': 'F', 'G': 'T'}, 257: {'R': 'F', 'S': 'T', 'G': 'T'}, 258: {'R': 'F', 'S': 'T', 'G': 'F'}, 259: {'R': 'F', 'S': 'F', 'G': 'T'}, 260: {'R': 'F', 'S': 'F', 'G': 'F'}, 261: {'R': 'F', 'S': 'F', 'G': 'T'}, 262: {'R': 'T', 'S': 'F', 'G': 'F'}, 263: {'R': 'F', 'S': 'T', 'G': 'F'}, 264: {'R': 'F', 'S': 'T', 'G': 'F'}, 265: {'R': 'F', 'S': 'F', 'G': 'T'}, 266: {'R': 'T', 'S': 'F', 'G': 'F'}, 267: {'R': 'F', 'S': 'F', 'G': 'F'}, 268: {'R': 'F', 'S': 'F', 'G': 'F'}, 269: {'R': 'T', 'S': 'F', 'G': 'F'}, 270: {'R': 'T', 'S': 'F', 'G': 'F'}, 271: {'R': 'F', 'S': 'F', 'G': 'F'}, 272: {'R': 'F', 'S': 'F', 'G': 'F'}, 273: {'R': 'F', 'S': 'F', 'G': 'F'}, 274: {'R': 'F', 'S': 'T', 'G': 'F'}, 275: {'R': 'F', 'S': 'F', 'G': 'T'}, 276: {'R': 'F', 'S': 'T', 'G': 'F'}, 277: {'R': 'F', 'S': 'F', 'G': 'T'}, 278: {'R': 'T', 'S': 'F', 'G': 'F'}, 279: {'R': 'F', 'S': 'F', 'G': 'T'}, 280: {'R': 'F', 'S': 'T', 'G': 'F'}, 281: {'R': 'F', 'S': 'T', 'G': 'F'}, 282: {'R': 'F', 'S': 'F', 'G': 'F'}, 283: {'R': 'F', 'S': 'F', 'G': 'F'}, 284: {'R': 'F', 'S': 'T', 'G': 'F'}, 285: {'R': 'F', 'S': 'T', 'G': 'F'}, 286: {'R': 'T', 'S': 'F', 'G': 'F'}, 287: {'R': 'T', 'S': 'F', 'G': 'F'}, 288: {'R': 'F', 'S': 'T', 'G': 'F'}, 289: {'R': 'F', 'S': 'T', 'G': 'F'}, 290: {'R': 'T', 'S': 'F', 'G': 'F'}, 291: {'R': 'T', 'S': 'F', 'G': 'F'}, 292: {'R': 'F', 'S': 'F', 'G': 'F'}, 293: {'R': 'F', 'S': 'F', 'G': 'F'}, 294: {'R': 'F', 'S': 'T', 'G': 'F'}, 295: {'R': 'F', 'S': 'F', 'G': 'T'}, 296: {'R': 'F', 'S': 'F', 'G': 'T'}, 297: {'R': 'F', 'S': 'F', 'G': 'T'}, 298: {'R': 'T', 'S': 'F', 'G': 'F'}, 299: {'R': 'F', 'S': 'F', 'G': 'F'}, 300: {'R': 'F', 'S': 'T', 'G': 'F'}, 301: {'R': 'F', 'S': 'F', 'G': 'F'}, 302: {'R': 'F', 'S': 'F', 'G': 'F'}, 303: {'R': 'T', 'S': 'F', 'G': 'F'}, 304: {'R': 'F', 'S': 'F', 'G': 'F'}, 305: {'R': 'F', 'S': 'T', 'G': 'F'}, 306: {'R': 'F', 'S': 'F', 'G': 'F'}, 307: {'R': 'F', 'S': 'T', 'G': 'F'}, 308: {'R': 'F', 'S': 'F', 'G': 'F'}, 309: {'R': 'F', 'S': 'T', 'G': 'F'}, 310: {'R': 'F', 'S': 'F', 'G': 'T'}, 311: {'R': 'F', 'S': 'T', 'G': 'F'}, 312: {'R': 'F', 'S': 'F', 'G': 'T'}, 313: {'R': 'T', 'S': 'F', 'G': 'F'}, 314: {'R': 'T', 'S': 'F', 'G': 'F'}, 315: {'R': 'F', 'S': 'T', 'G': 'F'}, 316: {'R': 'F', 'S': 'T', 'G': 'F'}, 317: {'R': 'F', 'S': 'T', 'G': 'F'}, 318: {'R': 'F', 'S': 'F', 'G': 'F'}, 319: {'R': 'T', 'S': 'F', 'G': 'F'}, 320: {'R': 'F', 'S': 'F', 'G': 'F'}, 321: {'R': 'F', 'S': 'F', 'G': 'F'}, 322: {'R': 'F', 'S': 'F', 'G': 'F'}, 323: {'R': 'T', 'S': 'F', 'G': 'F'}, 324: {'R': 'F', 'S': 'F', 'G': 'T'}, 325: {'R': 'F', 'S': 'F', 'G': 'T'}, 326: {'R': 'F', 'S': 'T', 'G': 'F'}, 327: {'R': 'F', 'S': 'F', 'G': 'T'}, 328: {'R': 'F', 'S': 'T', 'G': 'F'}, 329: {'R': 'T', 'S': 'F', 'G': 'F'}, 330: {'R': 'F', 'S': 'F', 'G': 'F'}, 331: {'R': 'F', 'S': 'F', 'G': 'F'}, 332: {'R': 'F', 'S': 'F', 'G': 'F'}, 333: {'R': 'T', 'S': 'F', 'G': 'F'}, 334: {'R': 'F', 'S': 'F', 'G': 'T'}, 335: {'R': 'T', 'S': 'F', 'G': 'F'}, 336: {'R': 'F', 'S': 'F', 'G': 'F'}, 337: {'R': 'F', 'S': 'T', 'G': 'F'}, 338: {'R': 'T', 'S': 'F', 'G': 'F'}, 339: {'R': 'F', 'S': 'T', 'G': 'F'}, 340: {'R': 'F', 'S': 'F', 'G': 'F'}, 341: {'R': 'F', 'S': 'T', 'G': 'F'}, 342: {'R': 'T', 'S': 'F', 'G': 'F'}, 343: {'R': 'F', 'S': 'F', 'G': 'F'}, 344: {'R': 'F', 'S': 'T', 'G': 'F'}, 345: {'R': 'F', 'S': 'T', 'G': 'F'}, 346: {'R': 'F', 'S': 'T', 'G': 'F'}, 347: {'R': 'T', 'S': 'F', 'G': 'F'}, 348: {'R': 'T', 'S': 'F', 'G': 'F'}, 349: {'R': 'F', 'S': 'F', 'G': 'F'}, 350: {'R': 'F', 'S': 'T', 'G': 'F'}, 351: {'R': 'F', 'S': 'T', 'G': 'F'}, 352: {'R': 'F', 'S': 'F', 'G': 'F'}, 353: {'R': 'F', 'S': 'F', 'G': 'F'}, 354: {'R': 'F', 'S': 'T', 'G': 'F'}, 355: {'R': 'F', 'S': 'T', 'G': 'F'}, 356: {'R': 'T', 'S': 'F', 'G': 'F'}, 357: {'R': 'F', 'S': 'T', 'G': 'F'}, 358: {'R': 'F', 'S': 'F', 'G': 'T'}, 359: {'R': 'F', 'S': 'T', 'G': 'F'}, 360: {'R': 'F', 'S': 'F', 'G': 'F'}, 361: {'R': 'F', 'S': 'F', 'G': 'T'}, 362: {'R': 'F', 'S': 'F', 'G': 'T'}, 363: {'R': 'F', 'S': 'T', 'G': 'F'}, 364: {'R': 'F', 'S': 'F', 'G': 'F'}, 365: {'R': 'T', 'S': 'F', 'G': 'F'}, 366: {'R': 'F', 'S': 'T', 'G': 'F'}, 367: {'R': 'T', 'S': 'F', 'G': 'F'}, 368: {'R': 'T', 'S': 'F', 'G': 'F'}, 369: {'R': 'F', 'S': 'T', 'G': 'F'}, 370: {'R': 'F', 'S': 'F', 'G': 'T'}, 371: {'R': 'F', 'S': 'F', 'G': 'T'}, 372: {'R': 'F', 'S': 'F', 'G': 'F'}, 373: {'R': 'F', 'S': 'F', 'G': 'T'}, 374: {'R': 'F', 'S': 'T', 'G': 'F'}, 375: {'R': 'F', 'S': 'F', 'G': 'F'}, 376: {'R': 'F', 'S': 'F', 'G': 'T'}, 377: {'R': 'F', 'S': 'T', 'G': 'F'}, 378: {'R': 'F', 'S': 'T', 'G': 'F'}, 379: {'R': 'F', 'S': 'T', 'G': 'F'}, 380: {'R': 'F', 'S': 'T', 'G': 'F'}, 381: {'R': 'T', 'S': 'F', 'G': 'F'}, 382: {'R': 'F', 'S': 'F', 'G': 'T'}, 383: {'R': 'T', 'S': 'F', 'G': 'F'}, 384: {'R': 'T', 'S': 'F', 'G': 'F'}, 385: {'R': 'F', 'S': 'F', 'G': 'F'}, 386: {'R': 'F', 'S': 'T', 'G': 'F'}, 387: {'R': 'F', 'S': 'T', 'G': 'F'}, 388: {'R': 'T', 'S': 'F', 'G': 'F'}, 389: {'R': 'F', 'S': 'T', 'G': 'F'}, 390: {'R': 'F', 'S': 'F', 'G': 'T'}, 391: {'R': 'F', 'S': 'F', 'G': 'T'}, 392: {'R': 'F', 'S': 'F', 'G': 'T'}, 393: {'R': 'F', 'S': 'F', 'G': 'F'}, 394: {'R': 'F', 'S': 'F', 'G': 'T'}, 395: {'R': 'F', 'S': 'F', 'G': 'T'}, 396: {'R': 'F', 'S': 'T', 'G': 'F'}, 397: {'R': 'F', 'S': 'T', 'G': 'F'}, 398: {'R': 'F', 'S': 'F', 'G': 'F'}, 399: {'R': 'F', 'S': 'F', 'G': 'T'}, 400: {'R': 'F', 'S': 'F', 'G': 'T'}, 401: {'R': 'F', 'S': 'F', 'G': 'F'}, 402: {'R': 'F', 'S': 'F', 'G': 'T'}, 403: {'R': 'T', 'S': 'F', 'G': 'F'}, 404: {'R': 'F', 'S': 'F', 'G': 'T'}, 405: {'R': 'F', 'S': 'T', 'G': 'F'}, 406: {'R': 'F', 'S': 'T', 'G': 'F'}, 407: {'R': 'T', 'S': 'F', 'G': 'F'}, 408: {'R': 'F', 'S': 'F', 'G': 'F'}, 409: {'R': 'T', 'S': 'F', 'G': 'F'}, 410: {'R': 'F', 'S': 'T', 'G': 'F'}, 411: {'R': 'F', 'S': 'T', 'G': 'F'}, 412: {'R': 'F', 'S': 'F', 'G': 'T'}, 413: {'R': 'F', 'S': 'T', 'G': 'F'}, 414: {'R': 'F', 'S': 'F', 'G': 'T'}, 415: {'R': 'F', 'S': 'T', 'G': 'F'}, 416: {'R': 'F', 'S': 'T', 'G': 'F'}, 417: {'R': 'F', 'S': 'T', 'G': 'F'}, 418: {'R': 'F', 'S': 'T', 'G': 'F'}, 419: {'R': 'F', 'S': 'F', 'G': 'F'}, 420: {'R': 'T', 'S': 'T', 'G': 'F'}, 421: {'R': 'F', 'S': 'T', 'G': 'F'}, 422: {'R': 'F', 'S': 'F', 'G': 'T'}, 423: {'R': 'F', 'S': 'T', 'G': 'F'}, 424: {'R': 'F', 'S': 'T', 'G': 'F'}, 425: {'R': 'F', 'S': 'F', 'G': 'F'}, 426: {'R': 'F', 'S': 'T', 'G': 'F'}, 427: {'R': 'F', 'S': 'F', 'G': 'T'}, 428: {'R': 'F', 'S': 'F', 'G': 'F'}, 429: {'R': 'F', 'S': 'F', 'G': 'F'}, 430: {'R': 'F', 'S': 'T', 'G': 'F'}, 431: {'R': 'F', 'S': 'F', 'G': 'F'}, 432: {'R': 'F', 'S': 'F', 'G': 'T'}, 433: {'R': 'T', 'S': 'F', 'G': 'F'}, 434: {'R': 'F', 'S': 'T', 'G': 'F'}, 435: {'R': 'F', 'S': 'F', 'G': 'F'}, 436: {'R': 'F', 'S': 'F', 'G': 'T'}, 437: {'R': 'F', 'S': 'F', 'G': 'T'}, 438: {'R': 'F', 'S': 'T', 'G': 'F'}, 439: {'R': 'F', 'S': 'T', 'G': 'F'}, 440: {'R': 'F', 'S': 'T', 'G': 'F'}, 441: {'R': 'F', 'S': 'F', 'G': 'T'}, 442: {'R': 'F', 'S': 'F', 'G': 'F'}, 443: {'R': 'T', 'S': 'F', 'G': 'F'}, 444: {'R': 'F', 'S': 'T', 'G': 'F'}, 445: {'R': 'T', 'S': 'F', 'G': 'F'}, 446: {'R': 'F', 'S': 'F', 'G': 'F'}, 447: {'R': 'F', 'S': 'F', 'G': 'T'}, 448: {'R': 'F', 'S': 'F', 'G': 'F'}, 449: {'R': 'F', 'S': 'T', 'G': 'F'}, 450: {'R': 'T', 'S': 'F', 'G': 'F'}, 451: {'R': 'F', 'S': 'F', 'G': 'F'}, 452: {'R': 'F', 'S': 'T', 'G': 'F'}, 453: {'R': 'F', 'S': 'T', 'G': 'F'}, 454: {'R': 'F', 'S': 'F', 'G': 'T'}, 455: {'R': 'F', 'S': 'T', 'G': 'F'}, 456: {'R': 'F', 'S': 'F', 'G': 'T'}, 457: {'R': 'T', 'S': 'F', 'G': 'F'}, 458: {'R': 'F', 'S': 'F', 'G': 'T'}, 459: {'R': 'F', 'S': 'T', 'G': 'F'}, 460: {'R': 'F', 'S': 'F', 'G': 'T'}, 461: {'R': 'F', 'S': 'F', 'G': 'F'}, 462: {'R': 'F', 'S': 'F', 'G': 'T'}, 463: {'R': 'F', 'S': 'F', 'G': 'F'}, 464: {'R': 'T', 'S': 'F', 'G': 'F'}, 465: {'R': 'T', 'S': 'F', 'G': 'F'}, 466: {'R': 'F', 'S': 'F', 'G': 'F'}, 467: {'R': 'F', 'S': 'F', 'G': 'F'}, 468: {'R': 'F', 'S': 'T', 'G': 'F'}, 469: {'R': 'F', 'S': 'T', 'G': 'F'}, 470: {'R': 'T', 'S': 'F', 'G': 'F'}, 471: {'R': 'F', 'S': 'T', 'G': 'F'}, 472: {'R': 'T', 'S': 'F', 'G': 'F'}, 473: {'R': 'F', 'S': 'T', 'G': 'F'}, 474: {'R': 'F', 'S': 'T', 'G': 'F'}, 475: {'R': 'F', 'S': 'F', 'G': 'T'}, 476: {'R': 'F', 'S': 'F', 'G': 'T'}, 477: {'R': 'F', 'S': 'T', 'G': 'F'}, 478: {'R': 'F', 'S': 'T', 'G': 'F'}, 479: {'R': 'F', 'S': 'F', 'G': 'T'}, 480: {'R': 'T', 'S': 'F', 'G': 'F'}, 481: {'R': 'F', 'S': 'F', 'G': 'T'}, 482: {'R': 'F', 'S': 'F', 'G': 'F'}, 483: {'R': 'F', 'S': 'F', 'G': 'F'}, 484: {'R': 'F', 'S': 'T', 'G': 'F'}, 485: {'R': 'F', 'S': 'T', 'G': 'F'}, 486: {'R': 'F', 'S': 'F', 'G': 'F'}, 487: {'R': 'T', 'S': 'F', 'G': 'F'}, 488: {'R': 'F', 'S': 'F', 'G': 'T'}, 489: {'R': 'F', 'S': 'T', 'G': 'F'}, 490: {'R': 'F', 'S': 'F', 'G': 'T'}, 491: {'R': 'F', 'S': 'F', 'G': 'T'}, 492: {'R': 'F', 'S': 'T', 'G': 'F'}, 493: {'R': 'F', 'S': 'F', 'G': 'T'}, 494: {'R': 'F', 'S': 'F', 'G': 'F'}, 495: {'R': 'T', 'S': 'F', 'G': 'F'}, 496: {'R': 'F', 'S': 'T', 'G': 'F'}, 497: {'R': 'F', 'S': 'F', 'G': 'F'}, 498: {'R': 'F', 'S': 'F', 'G': 'F'}, 499: {'R': 'F', 'S': 'T', 'G': 'F'}, 500: {'R': 'F', 'S': 'F', 'G': 'T'}}\n",
            "Valor aproximado para a consulta: \n"
          ],
          "name": "stdout"
        },
        {
          "output_type": "execute_result",
          "data": {
            "text/plain": [
              "{'F': 0.9941860465116279, 'T': 0.005813953488372093}"
            ]
          },
          "metadata": {
            "tags": []
          },
          "execution_count": 255
        }
      ]
    },
    {
      "cell_type": "markdown",
      "metadata": {
        "id": "iShgs8oDqGOy"
      },
      "source": [
        " $\\ v. Pr(G \\mid S = False) $\n",
        "\n",
        "\n"
      ]
    },
    {
      "cell_type": "markdown",
      "metadata": {
        "id": "pV_i2sevqGOz"
      },
      "source": [
        "*   **Para 5 amostras:**\n",
        "\n",
        "\n",
        "\n",
        "\n",
        "\n"
      ]
    },
    {
      "cell_type": "code",
      "metadata": {
        "colab": {
          "base_uri": "https://localhost:8080/"
        },
        "id": "IVBpzc1iqGO0",
        "outputId": "da57e3b0-a0ca-4220-8c4b-ea91bb7ef8ef"
      },
      "source": [
        "obs = dict()\n",
        "obs['S'] = 'F'\n",
        "amostragem_a_priori(grass_model, 'G', obs, 5)"
      ],
      "execution_count": null,
      "outputs": [
        {
          "output_type": "stream",
          "text": [
            "Amostras:\n",
            " {1: {'R': 'F', 'S': 'F', 'G': 'T'}, 2: {'R': 'F', 'S': 'T', 'G': 'F'}, 3: {'R': 'F', 'S': 'F', 'G': 'F'}, 4: {'R': 'F', 'S': 'F', 'G': 'F'}, 5: {'R': 'F', 'S': 'F', 'G': 'F'}}\n",
            "Valor aproximado para a consulta: \n"
          ],
          "name": "stdout"
        },
        {
          "output_type": "execute_result",
          "data": {
            "text/plain": [
              "{'F': 0.75, 'T': 0.25}"
            ]
          },
          "metadata": {
            "tags": []
          },
          "execution_count": 256
        }
      ]
    },
    {
      "cell_type": "markdown",
      "metadata": {
        "id": "Qyh4_KxsqGO3"
      },
      "source": [
        "*   **Para 50 amostras:**\n",
        "\n",
        "\n",
        "\n",
        "\n",
        "\n"
      ]
    },
    {
      "cell_type": "code",
      "metadata": {
        "colab": {
          "base_uri": "https://localhost:8080/"
        },
        "id": "I_bCKgiiqGO4",
        "outputId": "9e04239b-71ff-430d-e214-4ae7550ecc3f"
      },
      "source": [
        "obs = dict()\n",
        "obs['S'] = 'F'\n",
        "amostragem_a_priori(grass_model, 'G', obs, 50)"
      ],
      "execution_count": null,
      "outputs": [
        {
          "output_type": "stream",
          "text": [
            "Amostras:\n",
            " {1: {'R': 'F', 'S': 'F', 'G': 'F'}, 2: {'R': 'F', 'S': 'T', 'G': 'F'}, 3: {'R': 'T', 'S': 'F', 'G': 'F'}, 4: {'R': 'F', 'S': 'F', 'G': 'F'}, 5: {'R': 'F', 'S': 'F', 'G': 'F'}, 6: {'R': 'F', 'S': 'F', 'G': 'F'}, 7: {'R': 'F', 'S': 'F', 'G': 'F'}, 8: {'R': 'F', 'S': 'T', 'G': 'F'}, 9: {'R': 'F', 'S': 'F', 'G': 'T'}, 10: {'R': 'T', 'S': 'T', 'G': 'F'}, 11: {'R': 'F', 'S': 'T', 'G': 'F'}, 12: {'R': 'F', 'S': 'T', 'G': 'F'}, 13: {'R': 'F', 'S': 'F', 'G': 'T'}, 14: {'R': 'F', 'S': 'T', 'G': 'F'}, 15: {'R': 'F', 'S': 'F', 'G': 'T'}, 16: {'R': 'T', 'S': 'F', 'G': 'F'}, 17: {'R': 'F', 'S': 'F', 'G': 'F'}, 18: {'R': 'F', 'S': 'F', 'G': 'F'}, 19: {'R': 'T', 'S': 'F', 'G': 'F'}, 20: {'R': 'F', 'S': 'F', 'G': 'T'}, 21: {'R': 'F', 'S': 'T', 'G': 'F'}, 22: {'R': 'F', 'S': 'F', 'G': 'T'}, 23: {'R': 'F', 'S': 'F', 'G': 'T'}, 24: {'R': 'T', 'S': 'F', 'G': 'F'}, 25: {'R': 'F', 'S': 'T', 'G': 'T'}, 26: {'R': 'F', 'S': 'F', 'G': 'F'}, 27: {'R': 'F', 'S': 'F', 'G': 'T'}, 28: {'R': 'F', 'S': 'F', 'G': 'F'}, 29: {'R': 'F', 'S': 'F', 'G': 'T'}, 30: {'R': 'F', 'S': 'F', 'G': 'F'}, 31: {'R': 'F', 'S': 'T', 'G': 'F'}, 32: {'R': 'F', 'S': 'T', 'G': 'F'}, 33: {'R': 'F', 'S': 'F', 'G': 'F'}, 34: {'R': 'T', 'S': 'F', 'G': 'F'}, 35: {'R': 'T', 'S': 'F', 'G': 'F'}, 36: {'R': 'F', 'S': 'F', 'G': 'F'}, 37: {'R': 'F', 'S': 'T', 'G': 'F'}, 38: {'R': 'F', 'S': 'T', 'G': 'F'}, 39: {'R': 'F', 'S': 'T', 'G': 'F'}, 40: {'R': 'F', 'S': 'F', 'G': 'F'}, 41: {'R': 'F', 'S': 'F', 'G': 'T'}, 42: {'R': 'F', 'S': 'F', 'G': 'F'}, 43: {'R': 'F', 'S': 'T', 'G': 'F'}, 44: {'R': 'F', 'S': 'T', 'G': 'F'}, 45: {'R': 'F', 'S': 'F', 'G': 'T'}, 46: {'R': 'F', 'S': 'T', 'G': 'F'}, 47: {'R': 'F', 'S': 'F', 'G': 'T'}, 48: {'R': 'F', 'S': 'F', 'G': 'F'}, 49: {'R': 'F', 'S': 'F', 'G': 'F'}, 50: {'R': 'F', 'S': 'T', 'G': 'F'}}\n",
            "Valor aproximado para a consulta: \n"
          ],
          "name": "stdout"
        },
        {
          "output_type": "execute_result",
          "data": {
            "text/plain": [
              "{'F': 0.6666666666666666, 'T': 0.3333333333333333}"
            ]
          },
          "metadata": {
            "tags": []
          },
          "execution_count": 257
        }
      ]
    },
    {
      "cell_type": "markdown",
      "metadata": {
        "id": "a6DxH9VZqGO5"
      },
      "source": [
        "*   **Para 500 amostras:**\n",
        "\n",
        "\n",
        "\n",
        "\n",
        "\n"
      ]
    },
    {
      "cell_type": "code",
      "metadata": {
        "colab": {
          "base_uri": "https://localhost:8080/"
        },
        "id": "F4WUyFQuqGO6",
        "outputId": "b56e7dfa-6e7d-414f-d7e7-04a4e344d6fd"
      },
      "source": [
        "obs = dict()\n",
        "obs['S'] = 'F'\n",
        "amostragem_a_priori(grass_model, 'G', obs, 500)"
      ],
      "execution_count": null,
      "outputs": [
        {
          "output_type": "stream",
          "text": [
            "Amostras:\n",
            " {1: {'R': 'F', 'S': 'F', 'G': 'T'}, 2: {'R': 'T', 'S': 'F', 'G': 'F'}, 3: {'R': 'F', 'S': 'T', 'G': 'F'}, 4: {'R': 'T', 'S': 'F', 'G': 'F'}, 5: {'R': 'F', 'S': 'F', 'G': 'F'}, 6: {'R': 'F', 'S': 'T', 'G': 'F'}, 7: {'R': 'F', 'S': 'F', 'G': 'F'}, 8: {'R': 'F', 'S': 'F', 'G': 'F'}, 9: {'R': 'F', 'S': 'F', 'G': 'T'}, 10: {'R': 'F', 'S': 'F', 'G': 'F'}, 11: {'R': 'F', 'S': 'T', 'G': 'F'}, 12: {'R': 'F', 'S': 'F', 'G': 'F'}, 13: {'R': 'F', 'S': 'T', 'G': 'F'}, 14: {'R': 'F', 'S': 'F', 'G': 'F'}, 15: {'R': 'F', 'S': 'F', 'G': 'F'}, 16: {'R': 'F', 'S': 'F', 'G': 'T'}, 17: {'R': 'F', 'S': 'T', 'G': 'F'}, 18: {'R': 'T', 'S': 'F', 'G': 'F'}, 19: {'R': 'F', 'S': 'F', 'G': 'T'}, 20: {'R': 'F', 'S': 'F', 'G': 'F'}, 21: {'R': 'T', 'S': 'F', 'G': 'F'}, 22: {'R': 'F', 'S': 'T', 'G': 'F'}, 23: {'R': 'F', 'S': 'T', 'G': 'F'}, 24: {'R': 'F', 'S': 'T', 'G': 'F'}, 25: {'R': 'T', 'S': 'F', 'G': 'F'}, 26: {'R': 'F', 'S': 'F', 'G': 'F'}, 27: {'R': 'F', 'S': 'F', 'G': 'F'}, 28: {'R': 'T', 'S': 'F', 'G': 'F'}, 29: {'R': 'F', 'S': 'F', 'G': 'F'}, 30: {'R': 'F', 'S': 'T', 'G': 'F'}, 31: {'R': 'F', 'S': 'F', 'G': 'F'}, 32: {'R': 'F', 'S': 'F', 'G': 'T'}, 33: {'R': 'T', 'S': 'F', 'G': 'F'}, 34: {'R': 'T', 'S': 'F', 'G': 'F'}, 35: {'R': 'F', 'S': 'F', 'G': 'F'}, 36: {'R': 'F', 'S': 'F', 'G': 'T'}, 37: {'R': 'F', 'S': 'F', 'G': 'T'}, 38: {'R': 'F', 'S': 'F', 'G': 'F'}, 39: {'R': 'F', 'S': 'F', 'G': 'T'}, 40: {'R': 'F', 'S': 'T', 'G': 'F'}, 41: {'R': 'F', 'S': 'T', 'G': 'F'}, 42: {'R': 'T', 'S': 'F', 'G': 'F'}, 43: {'R': 'T', 'S': 'F', 'G': 'F'}, 44: {'R': 'F', 'S': 'F', 'G': 'F'}, 45: {'R': 'F', 'S': 'F', 'G': 'F'}, 46: {'R': 'F', 'S': 'F', 'G': 'T'}, 47: {'R': 'F', 'S': 'F', 'G': 'T'}, 48: {'R': 'F', 'S': 'F', 'G': 'F'}, 49: {'R': 'F', 'S': 'T', 'G': 'F'}, 50: {'R': 'F', 'S': 'T', 'G': 'F'}, 51: {'R': 'T', 'S': 'F', 'G': 'F'}, 52: {'R': 'F', 'S': 'F', 'G': 'T'}, 53: {'R': 'F', 'S': 'F', 'G': 'T'}, 54: {'R': 'F', 'S': 'F', 'G': 'T'}, 55: {'R': 'T', 'S': 'F', 'G': 'F'}, 56: {'R': 'T', 'S': 'F', 'G': 'T'}, 57: {'R': 'F', 'S': 'T', 'G': 'F'}, 58: {'R': 'F', 'S': 'T', 'G': 'F'}, 59: {'R': 'F', 'S': 'F', 'G': 'T'}, 60: {'R': 'F', 'S': 'F', 'G': 'T'}, 61: {'R': 'F', 'S': 'F', 'G': 'F'}, 62: {'R': 'F', 'S': 'T', 'G': 'F'}, 63: {'R': 'F', 'S': 'T', 'G': 'F'}, 64: {'R': 'T', 'S': 'F', 'G': 'F'}, 65: {'R': 'F', 'S': 'F', 'G': 'T'}, 66: {'R': 'F', 'S': 'F', 'G': 'F'}, 67: {'R': 'T', 'S': 'F', 'G': 'F'}, 68: {'R': 'F', 'S': 'F', 'G': 'T'}, 69: {'R': 'F', 'S': 'T', 'G': 'F'}, 70: {'R': 'F', 'S': 'T', 'G': 'F'}, 71: {'R': 'T', 'S': 'F', 'G': 'T'}, 72: {'R': 'F', 'S': 'F', 'G': 'T'}, 73: {'R': 'F', 'S': 'T', 'G': 'F'}, 74: {'R': 'T', 'S': 'F', 'G': 'F'}, 75: {'R': 'F', 'S': 'F', 'G': 'F'}, 76: {'R': 'F', 'S': 'F', 'G': 'T'}, 77: {'R': 'F', 'S': 'T', 'G': 'F'}, 78: {'R': 'F', 'S': 'T', 'G': 'F'}, 79: {'R': 'F', 'S': 'F', 'G': 'F'}, 80: {'R': 'F', 'S': 'F', 'G': 'T'}, 81: {'R': 'F', 'S': 'T', 'G': 'F'}, 82: {'R': 'F', 'S': 'F', 'G': 'F'}, 83: {'R': 'F', 'S': 'F', 'G': 'F'}, 84: {'R': 'F', 'S': 'T', 'G': 'F'}, 85: {'R': 'F', 'S': 'T', 'G': 'F'}, 86: {'R': 'F', 'S': 'F', 'G': 'F'}, 87: {'R': 'F', 'S': 'F', 'G': 'F'}, 88: {'R': 'F', 'S': 'F', 'G': 'T'}, 89: {'R': 'F', 'S': 'F', 'G': 'T'}, 90: {'R': 'T', 'S': 'F', 'G': 'T'}, 91: {'R': 'F', 'S': 'F', 'G': 'T'}, 92: {'R': 'T', 'S': 'F', 'G': 'F'}, 93: {'R': 'F', 'S': 'T', 'G': 'F'}, 94: {'R': 'T', 'S': 'F', 'G': 'F'}, 95: {'R': 'F', 'S': 'F', 'G': 'F'}, 96: {'R': 'F', 'S': 'F', 'G': 'F'}, 97: {'R': 'F', 'S': 'F', 'G': 'F'}, 98: {'R': 'F', 'S': 'F', 'G': 'F'}, 99: {'R': 'F', 'S': 'T', 'G': 'F'}, 100: {'R': 'F', 'S': 'T', 'G': 'F'}, 101: {'R': 'F', 'S': 'T', 'G': 'F'}, 102: {'R': 'F', 'S': 'F', 'G': 'F'}, 103: {'R': 'F', 'S': 'T', 'G': 'F'}, 104: {'R': 'F', 'S': 'F', 'G': 'T'}, 105: {'R': 'T', 'S': 'F', 'G': 'F'}, 106: {'R': 'F', 'S': 'T', 'G': 'F'}, 107: {'R': 'F', 'S': 'T', 'G': 'F'}, 108: {'R': 'T', 'S': 'F', 'G': 'F'}, 109: {'R': 'F', 'S': 'F', 'G': 'F'}, 110: {'R': 'F', 'S': 'F', 'G': 'T'}, 111: {'R': 'F', 'S': 'T', 'G': 'F'}, 112: {'R': 'F', 'S': 'T', 'G': 'F'}, 113: {'R': 'F', 'S': 'F', 'G': 'F'}, 114: {'R': 'F', 'S': 'F', 'G': 'F'}, 115: {'R': 'F', 'S': 'T', 'G': 'F'}, 116: {'R': 'F', 'S': 'F', 'G': 'F'}, 117: {'R': 'T', 'S': 'F', 'G': 'F'}, 118: {'R': 'F', 'S': 'T', 'G': 'F'}, 119: {'R': 'F', 'S': 'F', 'G': 'F'}, 120: {'R': 'F', 'S': 'F', 'G': 'T'}, 121: {'R': 'F', 'S': 'F', 'G': 'F'}, 122: {'R': 'F', 'S': 'F', 'G': 'T'}, 123: {'R': 'T', 'S': 'F', 'G': 'F'}, 124: {'R': 'F', 'S': 'T', 'G': 'F'}, 125: {'R': 'F', 'S': 'F', 'G': 'T'}, 126: {'R': 'F', 'S': 'F', 'G': 'F'}, 127: {'R': 'T', 'S': 'F', 'G': 'F'}, 128: {'R': 'T', 'S': 'F', 'G': 'F'}, 129: {'R': 'F', 'S': 'F', 'G': 'F'}, 130: {'R': 'F', 'S': 'T', 'G': 'F'}, 131: {'R': 'F', 'S': 'T', 'G': 'F'}, 132: {'R': 'F', 'S': 'T', 'G': 'F'}, 133: {'R': 'F', 'S': 'F', 'G': 'T'}, 134: {'R': 'T', 'S': 'F', 'G': 'F'}, 135: {'R': 'F', 'S': 'F', 'G': 'T'}, 136: {'R': 'F', 'S': 'T', 'G': 'F'}, 137: {'R': 'F', 'S': 'T', 'G': 'F'}, 138: {'R': 'F', 'S': 'F', 'G': 'T'}, 139: {'R': 'F', 'S': 'F', 'G': 'F'}, 140: {'R': 'T', 'S': 'F', 'G': 'F'}, 141: {'R': 'F', 'S': 'F', 'G': 'T'}, 142: {'R': 'F', 'S': 'F', 'G': 'T'}, 143: {'R': 'F', 'S': 'F', 'G': 'F'}, 144: {'R': 'F', 'S': 'T', 'G': 'F'}, 145: {'R': 'F', 'S': 'T', 'G': 'F'}, 146: {'R': 'F', 'S': 'F', 'G': 'T'}, 147: {'R': 'T', 'S': 'F', 'G': 'F'}, 148: {'R': 'F', 'S': 'T', 'G': 'F'}, 149: {'R': 'F', 'S': 'T', 'G': 'F'}, 150: {'R': 'F', 'S': 'T', 'G': 'F'}, 151: {'R': 'F', 'S': 'T', 'G': 'F'}, 152: {'R': 'F', 'S': 'F', 'G': 'F'}, 153: {'R': 'F', 'S': 'F', 'G': 'T'}, 154: {'R': 'F', 'S': 'T', 'G': 'F'}, 155: {'R': 'F', 'S': 'T', 'G': 'F'}, 156: {'R': 'T', 'S': 'F', 'G': 'F'}, 157: {'R': 'F', 'S': 'T', 'G': 'F'}, 158: {'R': 'T', 'S': 'F', 'G': 'F'}, 159: {'R': 'F', 'S': 'F', 'G': 'F'}, 160: {'R': 'F', 'S': 'F', 'G': 'T'}, 161: {'R': 'T', 'S': 'F', 'G': 'F'}, 162: {'R': 'F', 'S': 'F', 'G': 'F'}, 163: {'R': 'F', 'S': 'T', 'G': 'F'}, 164: {'R': 'F', 'S': 'F', 'G': 'F'}, 165: {'R': 'F', 'S': 'T', 'G': 'F'}, 166: {'R': 'T', 'S': 'F', 'G': 'F'}, 167: {'R': 'F', 'S': 'T', 'G': 'F'}, 168: {'R': 'F', 'S': 'T', 'G': 'F'}, 169: {'R': 'F', 'S': 'T', 'G': 'F'}, 170: {'R': 'F', 'S': 'T', 'G': 'F'}, 171: {'R': 'F', 'S': 'F', 'G': 'T'}, 172: {'R': 'F', 'S': 'F', 'G': 'F'}, 173: {'R': 'F', 'S': 'F', 'G': 'F'}, 174: {'R': 'F', 'S': 'T', 'G': 'F'}, 175: {'R': 'F', 'S': 'F', 'G': 'T'}, 176: {'R': 'F', 'S': 'F', 'G': 'F'}, 177: {'R': 'T', 'S': 'F', 'G': 'F'}, 178: {'R': 'F', 'S': 'F', 'G': 'T'}, 179: {'R': 'T', 'S': 'F', 'G': 'F'}, 180: {'R': 'F', 'S': 'F', 'G': 'T'}, 181: {'R': 'F', 'S': 'F', 'G': 'F'}, 182: {'R': 'F', 'S': 'F', 'G': 'F'}, 183: {'R': 'F', 'S': 'T', 'G': 'F'}, 184: {'R': 'F', 'S': 'F', 'G': 'F'}, 185: {'R': 'F', 'S': 'T', 'G': 'F'}, 186: {'R': 'F', 'S': 'F', 'G': 'F'}, 187: {'R': 'F', 'S': 'F', 'G': 'F'}, 188: {'R': 'F', 'S': 'F', 'G': 'T'}, 189: {'R': 'T', 'S': 'F', 'G': 'F'}, 190: {'R': 'F', 'S': 'F', 'G': 'F'}, 191: {'R': 'F', 'S': 'F', 'G': 'F'}, 192: {'R': 'F', 'S': 'T', 'G': 'F'}, 193: {'R': 'F', 'S': 'F', 'G': 'F'}, 194: {'R': 'F', 'S': 'F', 'G': 'F'}, 195: {'R': 'F', 'S': 'T', 'G': 'F'}, 196: {'R': 'F', 'S': 'F', 'G': 'F'}, 197: {'R': 'F', 'S': 'F', 'G': 'T'}, 198: {'R': 'F', 'S': 'T', 'G': 'F'}, 199: {'R': 'F', 'S': 'T', 'G': 'F'}, 200: {'R': 'F', 'S': 'F', 'G': 'F'}, 201: {'R': 'F', 'S': 'T', 'G': 'F'}, 202: {'R': 'F', 'S': 'F', 'G': 'F'}, 203: {'R': 'F', 'S': 'F', 'G': 'T'}, 204: {'R': 'F', 'S': 'F', 'G': 'F'}, 205: {'R': 'F', 'S': 'T', 'G': 'F'}, 206: {'R': 'T', 'S': 'F', 'G': 'F'}, 207: {'R': 'F', 'S': 'F', 'G': 'F'}, 208: {'R': 'F', 'S': 'F', 'G': 'T'}, 209: {'R': 'F', 'S': 'F', 'G': 'F'}, 210: {'R': 'F', 'S': 'F', 'G': 'F'}, 211: {'R': 'T', 'S': 'F', 'G': 'F'}, 212: {'R': 'F', 'S': 'T', 'G': 'F'}, 213: {'R': 'T', 'S': 'F', 'G': 'F'}, 214: {'R': 'F', 'S': 'T', 'G': 'F'}, 215: {'R': 'F', 'S': 'T', 'G': 'F'}, 216: {'R': 'F', 'S': 'F', 'G': 'T'}, 217: {'R': 'F', 'S': 'F', 'G': 'T'}, 218: {'R': 'T', 'S': 'F', 'G': 'F'}, 219: {'R': 'F', 'S': 'T', 'G': 'F'}, 220: {'R': 'F', 'S': 'F', 'G': 'T'}, 221: {'R': 'F', 'S': 'F', 'G': 'T'}, 222: {'R': 'F', 'S': 'F', 'G': 'F'}, 223: {'R': 'F', 'S': 'F', 'G': 'F'}, 224: {'R': 'F', 'S': 'F', 'G': 'F'}, 225: {'R': 'F', 'S': 'F', 'G': 'F'}, 226: {'R': 'F', 'S': 'F', 'G': 'F'}, 227: {'R': 'T', 'S': 'F', 'G': 'F'}, 228: {'R': 'F', 'S': 'F', 'G': 'F'}, 229: {'R': 'F', 'S': 'F', 'G': 'T'}, 230: {'R': 'F', 'S': 'F', 'G': 'T'}, 231: {'R': 'F', 'S': 'F', 'G': 'T'}, 232: {'R': 'F', 'S': 'F', 'G': 'F'}, 233: {'R': 'F', 'S': 'F', 'G': 'T'}, 234: {'R': 'F', 'S': 'T', 'G': 'F'}, 235: {'R': 'F', 'S': 'F', 'G': 'F'}, 236: {'R': 'F', 'S': 'T', 'G': 'F'}, 237: {'R': 'F', 'S': 'F', 'G': 'T'}, 238: {'R': 'F', 'S': 'T', 'G': 'F'}, 239: {'R': 'F', 'S': 'T', 'G': 'F'}, 240: {'R': 'F', 'S': 'F', 'G': 'T'}, 241: {'R': 'F', 'S': 'T', 'G': 'F'}, 242: {'R': 'T', 'S': 'F', 'G': 'F'}, 243: {'R': 'T', 'S': 'F', 'G': 'F'}, 244: {'R': 'F', 'S': 'F', 'G': 'F'}, 245: {'R': 'F', 'S': 'T', 'G': 'F'}, 246: {'R': 'T', 'S': 'F', 'G': 'F'}, 247: {'R': 'T', 'S': 'F', 'G': 'F'}, 248: {'R': 'F', 'S': 'F', 'G': 'T'}, 249: {'R': 'F', 'S': 'F', 'G': 'T'}, 250: {'R': 'F', 'S': 'F', 'G': 'T'}, 251: {'R': 'F', 'S': 'T', 'G': 'T'}, 252: {'R': 'F', 'S': 'F', 'G': 'F'}, 253: {'R': 'F', 'S': 'F', 'G': 'F'}, 254: {'R': 'F', 'S': 'T', 'G': 'F'}, 255: {'R': 'F', 'S': 'T', 'G': 'F'}, 256: {'R': 'F', 'S': 'F', 'G': 'T'}, 257: {'R': 'F', 'S': 'F', 'G': 'F'}, 258: {'R': 'T', 'S': 'F', 'G': 'F'}, 259: {'R': 'F', 'S': 'T', 'G': 'F'}, 260: {'R': 'T', 'S': 'F', 'G': 'F'}, 261: {'R': 'T', 'S': 'F', 'G': 'F'}, 262: {'R': 'F', 'S': 'T', 'G': 'F'}, 263: {'R': 'F', 'S': 'F', 'G': 'T'}, 264: {'R': 'F', 'S': 'T', 'G': 'F'}, 265: {'R': 'T', 'S': 'F', 'G': 'F'}, 266: {'R': 'F', 'S': 'T', 'G': 'F'}, 267: {'R': 'T', 'S': 'F', 'G': 'F'}, 268: {'R': 'T', 'S': 'F', 'G': 'F'}, 269: {'R': 'F', 'S': 'T', 'G': 'F'}, 270: {'R': 'F', 'S': 'T', 'G': 'F'}, 271: {'R': 'F', 'S': 'T', 'G': 'F'}, 272: {'R': 'T', 'S': 'F', 'G': 'F'}, 273: {'R': 'F', 'S': 'F', 'G': 'F'}, 274: {'R': 'F', 'S': 'T', 'G': 'F'}, 275: {'R': 'F', 'S': 'F', 'G': 'F'}, 276: {'R': 'F', 'S': 'F', 'G': 'T'}, 277: {'R': 'F', 'S': 'T', 'G': 'F'}, 278: {'R': 'T', 'S': 'F', 'G': 'F'}, 279: {'R': 'F', 'S': 'T', 'G': 'F'}, 280: {'R': 'T', 'S': 'F', 'G': 'F'}, 281: {'R': 'F', 'S': 'F', 'G': 'T'}, 282: {'R': 'T', 'S': 'F', 'G': 'F'}, 283: {'R': 'T', 'S': 'F', 'G': 'F'}, 284: {'R': 'F', 'S': 'F', 'G': 'F'}, 285: {'R': 'F', 'S': 'T', 'G': 'F'}, 286: {'R': 'F', 'S': 'F', 'G': 'T'}, 287: {'R': 'T', 'S': 'F', 'G': 'F'}, 288: {'R': 'F', 'S': 'F', 'G': 'F'}, 289: {'R': 'F', 'S': 'T', 'G': 'F'}, 290: {'R': 'F', 'S': 'T', 'G': 'F'}, 291: {'R': 'F', 'S': 'F', 'G': 'T'}, 292: {'R': 'F', 'S': 'F', 'G': 'T'}, 293: {'R': 'F', 'S': 'F', 'G': 'F'}, 294: {'R': 'F', 'S': 'F', 'G': 'F'}, 295: {'R': 'F', 'S': 'T', 'G': 'F'}, 296: {'R': 'F', 'S': 'T', 'G': 'F'}, 297: {'R': 'F', 'S': 'F', 'G': 'T'}, 298: {'R': 'T', 'S': 'F', 'G': 'F'}, 299: {'R': 'F', 'S': 'T', 'G': 'F'}, 300: {'R': 'F', 'S': 'F', 'G': 'F'}, 301: {'R': 'F', 'S': 'T', 'G': 'F'}, 302: {'R': 'F', 'S': 'F', 'G': 'T'}, 303: {'R': 'F', 'S': 'F', 'G': 'T'}, 304: {'R': 'F', 'S': 'F', 'G': 'F'}, 305: {'R': 'T', 'S': 'F', 'G': 'F'}, 306: {'R': 'F', 'S': 'T', 'G': 'F'}, 307: {'R': 'F', 'S': 'F', 'G': 'T'}, 308: {'R': 'T', 'S': 'F', 'G': 'F'}, 309: {'R': 'F', 'S': 'F', 'G': 'F'}, 310: {'R': 'F', 'S': 'F', 'G': 'F'}, 311: {'R': 'F', 'S': 'T', 'G': 'F'}, 312: {'R': 'T', 'S': 'F', 'G': 'F'}, 313: {'R': 'F', 'S': 'F', 'G': 'F'}, 314: {'R': 'F', 'S': 'F', 'G': 'F'}, 315: {'R': 'F', 'S': 'F', 'G': 'F'}, 316: {'R': 'F', 'S': 'F', 'G': 'T'}, 317: {'R': 'F', 'S': 'T', 'G': 'F'}, 318: {'R': 'F', 'S': 'T', 'G': 'F'}, 319: {'R': 'F', 'S': 'F', 'G': 'T'}, 320: {'R': 'F', 'S': 'F', 'G': 'T'}, 321: {'R': 'F', 'S': 'F', 'G': 'F'}, 322: {'R': 'F', 'S': 'T', 'G': 'F'}, 323: {'R': 'T', 'S': 'F', 'G': 'F'}, 324: {'R': 'F', 'S': 'F', 'G': 'F'}, 325: {'R': 'F', 'S': 'F', 'G': 'F'}, 326: {'R': 'F', 'S': 'T', 'G': 'F'}, 327: {'R': 'F', 'S': 'T', 'G': 'F'}, 328: {'R': 'F', 'S': 'F', 'G': 'F'}, 329: {'R': 'F', 'S': 'F', 'G': 'T'}, 330: {'R': 'F', 'S': 'F', 'G': 'T'}, 331: {'R': 'F', 'S': 'T', 'G': 'F'}, 332: {'R': 'F', 'S': 'F', 'G': 'T'}, 333: {'R': 'T', 'S': 'F', 'G': 'F'}, 334: {'R': 'F', 'S': 'T', 'G': 'F'}, 335: {'R': 'T', 'S': 'F', 'G': 'F'}, 336: {'R': 'F', 'S': 'F', 'G': 'F'}, 337: {'R': 'F', 'S': 'T', 'G': 'F'}, 338: {'R': 'F', 'S': 'T', 'G': 'F'}, 339: {'R': 'F', 'S': 'F', 'G': 'F'}, 340: {'R': 'F', 'S': 'F', 'G': 'F'}, 341: {'R': 'T', 'S': 'F', 'G': 'F'}, 342: {'R': 'F', 'S': 'T', 'G': 'F'}, 343: {'R': 'F', 'S': 'F', 'G': 'F'}, 344: {'R': 'F', 'S': 'F', 'G': 'F'}, 345: {'R': 'T', 'S': 'F', 'G': 'F'}, 346: {'R': 'T', 'S': 'F', 'G': 'F'}, 347: {'R': 'T', 'S': 'F', 'G': 'F'}, 348: {'R': 'F', 'S': 'F', 'G': 'T'}, 349: {'R': 'F', 'S': 'F', 'G': 'F'}, 350: {'R': 'F', 'S': 'T', 'G': 'F'}, 351: {'R': 'F', 'S': 'T', 'G': 'F'}, 352: {'R': 'F', 'S': 'T', 'G': 'F'}, 353: {'R': 'F', 'S': 'T', 'G': 'F'}, 354: {'R': 'F', 'S': 'F', 'G': 'F'}, 355: {'R': 'T', 'S': 'F', 'G': 'F'}, 356: {'R': 'F', 'S': 'T', 'G': 'F'}, 357: {'R': 'F', 'S': 'T', 'G': 'F'}, 358: {'R': 'F', 'S': 'T', 'G': 'F'}, 359: {'R': 'F', 'S': 'F', 'G': 'T'}, 360: {'R': 'T', 'S': 'F', 'G': 'F'}, 361: {'R': 'F', 'S': 'T', 'G': 'F'}, 362: {'R': 'F', 'S': 'T', 'G': 'F'}, 363: {'R': 'F', 'S': 'F', 'G': 'T'}, 364: {'R': 'F', 'S': 'T', 'G': 'F'}, 365: {'R': 'F', 'S': 'F', 'G': 'F'}, 366: {'R': 'F', 'S': 'T', 'G': 'F'}, 367: {'R': 'F', 'S': 'T', 'G': 'F'}, 368: {'R': 'T', 'S': 'F', 'G': 'F'}, 369: {'R': 'F', 'S': 'F', 'G': 'T'}, 370: {'R': 'T', 'S': 'F', 'G': 'F'}, 371: {'R': 'T', 'S': 'F', 'G': 'F'}, 372: {'R': 'F', 'S': 'F', 'G': 'T'}, 373: {'R': 'F', 'S': 'T', 'G': 'F'}, 374: {'R': 'F', 'S': 'T', 'G': 'F'}, 375: {'R': 'F', 'S': 'F', 'G': 'F'}, 376: {'R': 'F', 'S': 'T', 'G': 'F'}, 377: {'R': 'F', 'S': 'F', 'G': 'F'}, 378: {'R': 'F', 'S': 'T', 'G': 'F'}, 379: {'R': 'T', 'S': 'F', 'G': 'F'}, 380: {'R': 'F', 'S': 'T', 'G': 'F'}, 381: {'R': 'F', 'S': 'F', 'G': 'F'}, 382: {'R': 'F', 'S': 'F', 'G': 'T'}, 383: {'R': 'T', 'S': 'F', 'G': 'F'}, 384: {'R': 'F', 'S': 'F', 'G': 'F'}, 385: {'R': 'F', 'S': 'F', 'G': 'F'}, 386: {'R': 'T', 'S': 'F', 'G': 'F'}, 387: {'R': 'F', 'S': 'F', 'G': 'F'}, 388: {'R': 'F', 'S': 'T', 'G': 'F'}, 389: {'R': 'F', 'S': 'F', 'G': 'T'}, 390: {'R': 'F', 'S': 'F', 'G': 'T'}, 391: {'R': 'F', 'S': 'F', 'G': 'F'}, 392: {'R': 'F', 'S': 'F', 'G': 'T'}, 393: {'R': 'F', 'S': 'F', 'G': 'T'}, 394: {'R': 'F', 'S': 'F', 'G': 'F'}, 395: {'R': 'F', 'S': 'T', 'G': 'F'}, 396: {'R': 'F', 'S': 'F', 'G': 'T'}, 397: {'R': 'F', 'S': 'F', 'G': 'F'}, 398: {'R': 'F', 'S': 'T', 'G': 'F'}, 399: {'R': 'F', 'S': 'F', 'G': 'F'}, 400: {'R': 'F', 'S': 'T', 'G': 'F'}, 401: {'R': 'F', 'S': 'F', 'G': 'T'}, 402: {'R': 'F', 'S': 'T', 'G': 'F'}, 403: {'R': 'F', 'S': 'F', 'G': 'T'}, 404: {'R': 'F', 'S': 'F', 'G': 'F'}, 405: {'R': 'T', 'S': 'T', 'G': 'F'}, 406: {'R': 'T', 'S': 'F', 'G': 'F'}, 407: {'R': 'F', 'S': 'T', 'G': 'F'}, 408: {'R': 'F', 'S': 'F', 'G': 'F'}, 409: {'R': 'F', 'S': 'F', 'G': 'F'}, 410: {'R': 'F', 'S': 'T', 'G': 'F'}, 411: {'R': 'F', 'S': 'F', 'G': 'F'}, 412: {'R': 'T', 'S': 'F', 'G': 'F'}, 413: {'R': 'F', 'S': 'F', 'G': 'T'}, 414: {'R': 'F', 'S': 'T', 'G': 'F'}, 415: {'R': 'F', 'S': 'F', 'G': 'F'}, 416: {'R': 'T', 'S': 'F', 'G': 'F'}, 417: {'R': 'F', 'S': 'F', 'G': 'T'}, 418: {'R': 'F', 'S': 'T', 'G': 'F'}, 419: {'R': 'T', 'S': 'F', 'G': 'F'}, 420: {'R': 'F', 'S': 'F', 'G': 'T'}, 421: {'R': 'F', 'S': 'T', 'G': 'F'}, 422: {'R': 'F', 'S': 'F', 'G': 'T'}, 423: {'R': 'F', 'S': 'F', 'G': 'F'}, 424: {'R': 'F', 'S': 'F', 'G': 'F'}, 425: {'R': 'T', 'S': 'F', 'G': 'F'}, 426: {'R': 'F', 'S': 'F', 'G': 'F'}, 427: {'R': 'F', 'S': 'F', 'G': 'F'}, 428: {'R': 'T', 'S': 'F', 'G': 'F'}, 429: {'R': 'T', 'S': 'F', 'G': 'F'}, 430: {'R': 'F', 'S': 'T', 'G': 'F'}, 431: {'R': 'F', 'S': 'F', 'G': 'T'}, 432: {'R': 'F', 'S': 'T', 'G': 'F'}, 433: {'R': 'T', 'S': 'F', 'G': 'F'}, 434: {'R': 'F', 'S': 'F', 'G': 'F'}, 435: {'R': 'F', 'S': 'T', 'G': 'F'}, 436: {'R': 'F', 'S': 'F', 'G': 'F'}, 437: {'R': 'T', 'S': 'F', 'G': 'F'}, 438: {'R': 'F', 'S': 'F', 'G': 'T'}, 439: {'R': 'F', 'S': 'F', 'G': 'T'}, 440: {'R': 'F', 'S': 'T', 'G': 'F'}, 441: {'R': 'F', 'S': 'F', 'G': 'F'}, 442: {'R': 'F', 'S': 'F', 'G': 'F'}, 443: {'R': 'F', 'S': 'F', 'G': 'F'}, 444: {'R': 'F', 'S': 'F', 'G': 'F'}, 445: {'R': 'F', 'S': 'F', 'G': 'F'}, 446: {'R': 'F', 'S': 'F', 'G': 'F'}, 447: {'R': 'F', 'S': 'F', 'G': 'F'}, 448: {'R': 'T', 'S': 'F', 'G': 'F'}, 449: {'R': 'T', 'S': 'F', 'G': 'F'}, 450: {'R': 'F', 'S': 'T', 'G': 'F'}, 451: {'R': 'F', 'S': 'T', 'G': 'F'}, 452: {'R': 'F', 'S': 'F', 'G': 'T'}, 453: {'R': 'F', 'S': 'F', 'G': 'T'}, 454: {'R': 'F', 'S': 'F', 'G': 'T'}, 455: {'R': 'F', 'S': 'F', 'G': 'F'}, 456: {'R': 'T', 'S': 'F', 'G': 'F'}, 457: {'R': 'F', 'S': 'T', 'G': 'F'}, 458: {'R': 'F', 'S': 'F', 'G': 'T'}, 459: {'R': 'T', 'S': 'F', 'G': 'F'}, 460: {'R': 'T', 'S': 'F', 'G': 'F'}, 461: {'R': 'F', 'S': 'F', 'G': 'T'}, 462: {'R': 'F', 'S': 'T', 'G': 'F'}, 463: {'R': 'T', 'S': 'F', 'G': 'F'}, 464: {'R': 'F', 'S': 'T', 'G': 'F'}, 465: {'R': 'T', 'S': 'F', 'G': 'F'}, 466: {'R': 'F', 'S': 'F', 'G': 'T'}, 467: {'R': 'T', 'S': 'F', 'G': 'F'}, 468: {'R': 'F', 'S': 'F', 'G': 'F'}, 469: {'R': 'F', 'S': 'T', 'G': 'F'}, 470: {'R': 'F', 'S': 'F', 'G': 'F'}, 471: {'R': 'F', 'S': 'T', 'G': 'F'}, 472: {'R': 'F', 'S': 'F', 'G': 'T'}, 473: {'R': 'T', 'S': 'F', 'G': 'F'}, 474: {'R': 'T', 'S': 'F', 'G': 'F'}, 475: {'R': 'F', 'S': 'F', 'G': 'F'}, 476: {'R': 'T', 'S': 'F', 'G': 'F'}, 477: {'R': 'F', 'S': 'F', 'G': 'F'}, 478: {'R': 'F', 'S': 'F', 'G': 'F'}, 479: {'R': 'F', 'S': 'F', 'G': 'F'}, 480: {'R': 'F', 'S': 'T', 'G': 'F'}, 481: {'R': 'T', 'S': 'F', 'G': 'F'}, 482: {'R': 'T', 'S': 'F', 'G': 'F'}, 483: {'R': 'F', 'S': 'F', 'G': 'F'}, 484: {'R': 'T', 'S': 'F', 'G': 'F'}, 485: {'R': 'T', 'S': 'F', 'G': 'F'}, 486: {'R': 'F', 'S': 'F', 'G': 'F'}, 487: {'R': 'F', 'S': 'F', 'G': 'T'}, 488: {'R': 'F', 'S': 'F', 'G': 'F'}, 489: {'R': 'F', 'S': 'T', 'G': 'F'}, 490: {'R': 'F', 'S': 'F', 'G': 'F'}, 491: {'R': 'F', 'S': 'F', 'G': 'T'}, 492: {'R': 'T', 'S': 'F', 'G': 'F'}, 493: {'R': 'F', 'S': 'F', 'G': 'T'}, 494: {'R': 'F', 'S': 'T', 'G': 'F'}, 495: {'R': 'F', 'S': 'F', 'G': 'F'}, 496: {'R': 'F', 'S': 'F', 'G': 'T'}, 497: {'R': 'F', 'S': 'F', 'G': 'F'}, 498: {'R': 'T', 'S': 'F', 'G': 'F'}, 499: {'R': 'F', 'S': 'T', 'G': 'F'}, 500: {'R': 'F', 'S': 'F', 'G': 'F'}}\n",
            "Valor aproximado para a consulta: \n"
          ],
          "name": "stdout"
        },
        {
          "output_type": "execute_result",
          "data": {
            "text/plain": [
              "{'F': 0.6905444126074498, 'T': 0.30945558739255014}"
            ]
          },
          "metadata": {
            "tags": []
          },
          "execution_count": 258
        }
      ]
    },
    {
      "cell_type": "markdown",
      "metadata": {
        "id": "H0u2eTlnIjp1"
      },
      "source": [
        "### Ponderação por Verossimilhança"
      ]
    },
    {
      "cell_type": "markdown",
      "metadata": {
        "id": "BETR2MFNOnch"
      },
      "source": [
        "Para a Ponderação por Verossimilhança, em determinado momento precisaremos obter o valor do resultado da seguinte probabilidade: \n",
        "\n",
        "$$ Pr(X1 = x1 \\mid Parents(X1)) $$\n",
        "\n",
        "O método reduce do pgmpy retorna apenas a tabela de valores possíveis para a consulta $\\ Pr(X1 \\mid Parents(X1))$, sendo necessária realizar a consulta do valor de X1 desejado na tabela. Para obter diretamente o valor de X1 desejado, usaremos a função abaixo:"
      ]
    },
    {
      "cell_type": "code",
      "metadata": {
        "id": "16Rq0Os9QQiq"
      },
      "source": [
        "def get_conditional_probability(rede_bayesiana, variable_name, variable_value, parents):\n",
        "  \"\"\"\n",
        "    Calcula Pr(Xi = xi | Parents(Xi)), retorna o valor obtido.\n",
        "\n",
        "    rede_bayesiana: Objeto BayesianModel do pgmpy.\n",
        "    variable_name: Nome da variável a ser consultada.\n",
        "    variable_value: Valor desejado para a variável a ser consultada.\n",
        "    parents: Dicionário {k1:v1, k2:v2, ... } com os nomes e valores dos nós \n",
        "             pais da variável.\n",
        "  \"\"\"\n",
        "  formatted_parents = [] \n",
        "  # É preciso formatar o parâmetro parents, que possui um formato de dicionário\n",
        "  # {k1 : v1, k2: v2,...} para uma lista da forma [(k1, v1), (k2, v2),...]\n",
        "  # Assim conseguimos usar esse resultado no método reduce.\n",
        "  for key, value in parents.items():\n",
        "    formatted_parents.append((key,value))\n",
        "\n",
        "  # Obtemos a cpd condicionada.\n",
        "  cpd_table = rede_bayesiana.get_cpds(variable_name)\n",
        "  cpd = cpd_table.reduce(formatted_parents, inplace  = False)\n",
        "\n",
        "  # Realizamos algumas operações e formatações com os métodos do pgmpy para \n",
        "  # obter o valor numérico da probabilidade desejada.\n",
        "  state_names = list(cpd.state_names.values())[0]\n",
        "  q_value_index = state_names.index(variable_value)\n",
        "\n",
        "  prob_in_list_format = cpd.get_values()[q_value_index]\n",
        "  prob = prob_in_list_format[0]\n",
        "  return prob"
      ],
      "execution_count": null,
      "outputs": []
    },
    {
      "cell_type": "markdown",
      "metadata": {
        "id": "usoJyg1yQbyI"
      },
      "source": [
        "Podemos testar a função para o modelo que estamos trabalhando com a consulta abaixo:\n",
        "\n",
        " $\\ Pr(G = T \\mid S = T, R = F)$"
      ]
    },
    {
      "cell_type": "code",
      "metadata": {
        "colab": {
          "base_uri": "https://localhost:8080/"
        },
        "id": "cVUqxNy3RF9H",
        "outputId": "1680d55a-c027-45d5-971b-f16955f80af3"
      },
      "source": [
        "obs = dict()\n",
        "obs['R'] = 'F'\n",
        "obs['S'] = 'T'\n",
        "get_conditional_probability(grass_model, 'G', 'T', obs )"
      ],
      "execution_count": null,
      "outputs": [
        {
          "output_type": "execute_result",
          "data": {
            "text/plain": [
              "0.01"
            ]
          },
          "metadata": {
            "tags": []
          },
          "execution_count": 260
        }
      ]
    },
    {
      "cell_type": "markdown",
      "metadata": {
        "id": "uOHWDAjKRVJw"
      },
      "source": [
        "Consultando a tabela de probabilidades para a variável G, vemos que o resultado está correto.\n",
        "\n",
        "Agora implementando o método da Ponderação por Verossimilhança:"
      ]
    },
    {
      "cell_type": "code",
      "metadata": {
        "id": "KVdEBO1aP1N3"
      },
      "source": [
        "def ponderacao_por_verossimilhanca(rede_bayesiana, q, obs, num_amostras):\n",
        "  variables = rede_bayesiana.nodes()\n",
        "  \n",
        "  q_probs = dict() # Retorno da função, um dicionario com elementos {k:v} \n",
        "                   # onde k é um valor possível da variável q,\n",
        "                   # e v é a probabilidade aproximada desse valor ocorrer \n",
        "                   # computada pela função.\n",
        "\n",
        "  q_weight_sums = dict() # Dicionário auxiliar da forma {k:v} onde k é um valor\n",
        "                         # possível da variável q e v é a soma de seus pesos \n",
        "                         # computados.\n",
        "\n",
        "  q_state_names = rede_bayesiana.get_cpds(q).state_names\n",
        "  q_possible_values = q_state_names[q]\n",
        "  for possible_value in q_possible_values:\n",
        "    # Inicializa q_weight_sums com o valor de 0 para cada soma de pesos.\n",
        "    q_weight_sums[possible_value] = 0\n",
        "\n",
        "  total_weight_sum = 0 # Soma total do peso de todas as amostras.\n",
        "\n",
        "  samples = dict() # Dicionário para armazenar as amostras colhidas. Possui\n",
        "                   # a forma {k, v}, em que k é o índice da amostra e v é uma\n",
        "                   # tupla (s , w) em que s é a própria amostra e w é seu peso.\n",
        "                   # Ex: {1: ({'A': 'False', 'B': 'False', 'C': 'True'}, 0.4)} \n",
        "\n",
        "  evidence_variables = dict()\n",
        "  if obs:\n",
        "    evidence_variables = obs\n",
        "   \n",
        "  for i in range(1, num_amostras+1):\n",
        "    # Coleta de amostras.\n",
        "    weight = 1\n",
        "    parents = dict() \n",
        "    for v in variables:\n",
        "      if evidence_variables:\n",
        "        if v in evidence_variables.keys():\n",
        "          # Se a variável é evidência, fixar seu valor na amostra e multiplicar \n",
        "          # sua probabilidade condicionada na variável weight.\n",
        "          v_value = evidence_variables[v]\n",
        "          prob = get_conditional_probability(rede_bayesiana, v, v_value, parents)\n",
        "          weight *= prob\n",
        "          parents[v] = evidence_variables[v]\n",
        "        else:\n",
        "          # Se a variável não é evidência, obter um valor aleatório a partir de \n",
        "          # sua cpd e seus nós pais.\n",
        "          parents[v] = realize_variable(rede_bayesiana, v, parents)\n",
        "      else:\n",
        "          # Caso não exista evidência, recair num caso semelhante ao da \n",
        "          # Amostragem a Priori\n",
        "         parents[v] = realize_variable(rede_bayesiana, v, parents)\n",
        "      samples[i] = parents, weight\n",
        "    \n",
        "    # Soma o peso da amostra atual em sua chave correspondente em \n",
        "    # q_weight_sums, dependendo do valor de q obtido na amostra atual. \n",
        "    sample = samples[i][0]\n",
        "    sample_weight = samples[i][1]\n",
        "    q_value_sample = sample[q]\n",
        "    q_weight_sums[q_value_sample] += sample_weight\n",
        "  \n",
        "  for value in q_weight_sums.values():\n",
        "    # Obtém a soma total dos pesos.\n",
        "    total_weight_sum += value\n",
        "  \n",
        "  for key, value in q_weight_sums.items():\n",
        "    # Normaliza e obtém as probabilidades para cada valor possível de q.\n",
        "    q_probs[key] = value / total_weight_sum\n",
        "\n",
        "  print('Valor aproximado para a consulta: ')\n",
        "  return q_probs"
      ],
      "execution_count": null,
      "outputs": []
    },
    {
      "cell_type": "markdown",
      "metadata": {
        "id": "zQwSd1MwU8jZ"
      },
      "source": [
        "#### Realizando Inferências\n",
        "\n",
        "Usaremos o método de Ponderação por Verossimilhança para realizar as inferências aproximadas desejadas"
      ]
    },
    {
      "cell_type": "markdown",
      "metadata": {
        "id": "54dpkyiqU81V"
      },
      "source": [
        "$\\ i. Pr(R) $\n",
        "\n",
        "\n"
      ]
    },
    {
      "cell_type": "markdown",
      "metadata": {
        "id": "uqOaLxglU81X"
      },
      "source": [
        "*   **Para 5 amostras:**\n",
        "\n",
        "\n",
        "\n",
        "\n",
        "\n"
      ]
    },
    {
      "cell_type": "code",
      "metadata": {
        "colab": {
          "base_uri": "https://localhost:8080/"
        },
        "id": "NvTpTc1MU81Y",
        "outputId": "78da9c3a-6b17-4319-f49e-fdc8cd4fb7c3"
      },
      "source": [
        "ponderacao_por_verossimilhanca(grass_model, 'R', None, 5)"
      ],
      "execution_count": null,
      "outputs": [
        {
          "output_type": "stream",
          "text": [
            "Valor aproximado para a consulta: \n"
          ],
          "name": "stdout"
        },
        {
          "output_type": "execute_result",
          "data": {
            "text/plain": [
              "{'F': 0.8, 'T': 0.2}"
            ]
          },
          "metadata": {
            "tags": []
          },
          "execution_count": 262
        }
      ]
    },
    {
      "cell_type": "markdown",
      "metadata": {
        "id": "jWIQsSE6U81c"
      },
      "source": [
        "*   **Para 50 amostras:**\n",
        "\n",
        "\n",
        "\n",
        "\n",
        "\n"
      ]
    },
    {
      "cell_type": "code",
      "metadata": {
        "colab": {
          "base_uri": "https://localhost:8080/"
        },
        "id": "zGxrTvvFU81e",
        "outputId": "8ae4a126-febf-471d-d497-0b0131b7dc66"
      },
      "source": [
        "ponderacao_por_verossimilhanca(grass_model, 'R', None, 50)"
      ],
      "execution_count": null,
      "outputs": [
        {
          "output_type": "stream",
          "text": [
            "Valor aproximado para a consulta: \n"
          ],
          "name": "stdout"
        },
        {
          "output_type": "execute_result",
          "data": {
            "text/plain": [
              "{'F': 0.82, 'T': 0.18}"
            ]
          },
          "metadata": {
            "tags": []
          },
          "execution_count": 263
        }
      ]
    },
    {
      "cell_type": "markdown",
      "metadata": {
        "id": "iOZ6Ofv2U81f"
      },
      "source": [
        "*   **Para 500 amostras**:\n",
        "\n",
        "\n",
        "\n",
        "\n",
        "\n"
      ]
    },
    {
      "cell_type": "code",
      "metadata": {
        "colab": {
          "base_uri": "https://localhost:8080/"
        },
        "id": "HB5OyKtPU81g",
        "outputId": "0168f8b7-1caf-4405-bc37-3d7f4efc0d93"
      },
      "source": [
        "ponderacao_por_verossimilhanca(grass_model, 'R', None, 500)"
      ],
      "execution_count": null,
      "outputs": [
        {
          "output_type": "stream",
          "text": [
            "Valor aproximado para a consulta: \n"
          ],
          "name": "stdout"
        },
        {
          "output_type": "execute_result",
          "data": {
            "text/plain": [
              "{'F': 0.824, 'T': 0.176}"
            ]
          },
          "metadata": {
            "tags": []
          },
          "execution_count": 264
        }
      ]
    },
    {
      "cell_type": "markdown",
      "metadata": {
        "id": "_4yRH7o4U81h"
      },
      "source": [
        "$\\ ii. Pr(S) $\n",
        "\n",
        "\n"
      ]
    },
    {
      "cell_type": "markdown",
      "metadata": {
        "id": "ZwUF0OfNU81i"
      },
      "source": [
        "*   **Para 5 amostras:**\n",
        "\n",
        "\n",
        "\n",
        "\n",
        "\n"
      ]
    },
    {
      "cell_type": "code",
      "metadata": {
        "colab": {
          "base_uri": "https://localhost:8080/"
        },
        "id": "LQp_mbNhU81j",
        "outputId": "58c350f1-5c7a-4fbc-eeb3-31c79f7b1ec9"
      },
      "source": [
        "ponderacao_por_verossimilhanca(grass_model, 'S', None, 5)"
      ],
      "execution_count": null,
      "outputs": [
        {
          "output_type": "stream",
          "text": [
            "Valor aproximado para a consulta: \n"
          ],
          "name": "stdout"
        },
        {
          "output_type": "execute_result",
          "data": {
            "text/plain": [
              "{'F': 0.6, 'T': 0.4}"
            ]
          },
          "metadata": {
            "tags": []
          },
          "execution_count": 265
        }
      ]
    },
    {
      "cell_type": "markdown",
      "metadata": {
        "id": "LjIgqpXyU81k"
      },
      "source": [
        "*   **Para 50 amostras:**\n",
        "\n",
        "\n",
        "\n",
        "\n",
        "\n"
      ]
    },
    {
      "cell_type": "code",
      "metadata": {
        "colab": {
          "base_uri": "https://localhost:8080/"
        },
        "id": "IBf6ov5vU81l",
        "outputId": "b809dabb-a952-4c03-ac40-0fce899e1632"
      },
      "source": [
        "ponderacao_por_verossimilhanca(grass_model, 'S', None, 50)"
      ],
      "execution_count": null,
      "outputs": [
        {
          "output_type": "stream",
          "text": [
            "Valor aproximado para a consulta: \n"
          ],
          "name": "stdout"
        },
        {
          "output_type": "execute_result",
          "data": {
            "text/plain": [
              "{'F': 0.66, 'T': 0.34}"
            ]
          },
          "metadata": {
            "tags": []
          },
          "execution_count": 266
        }
      ]
    },
    {
      "cell_type": "markdown",
      "metadata": {
        "id": "Z5JoZLpJU81m"
      },
      "source": [
        "*   **Para 500 amostras:**\n",
        "\n",
        "\n",
        "\n",
        "\n",
        "\n"
      ]
    },
    {
      "cell_type": "code",
      "metadata": {
        "colab": {
          "base_uri": "https://localhost:8080/"
        },
        "id": "XVRJtIznU81n",
        "outputId": "48af2606-9ee4-4a10-9ace-eda9e0c12f9c"
      },
      "source": [
        "ponderacao_por_verossimilhanca(grass_model, 'S', None, 500)"
      ],
      "execution_count": null,
      "outputs": [
        {
          "output_type": "stream",
          "text": [
            "Valor aproximado para a consulta: \n"
          ],
          "name": "stdout"
        },
        {
          "output_type": "execute_result",
          "data": {
            "text/plain": [
              "{'F': 0.672, 'T': 0.328}"
            ]
          },
          "metadata": {
            "tags": []
          },
          "execution_count": 267
        }
      ]
    },
    {
      "cell_type": "markdown",
      "metadata": {
        "id": "pX3ofDUBU81o"
      },
      "source": [
        "$\\ iii. Pr(G) $\n",
        "\n",
        "\n"
      ]
    },
    {
      "cell_type": "markdown",
      "metadata": {
        "id": "YytKy0ZxU81o"
      },
      "source": [
        "*   **Para 5 amostras:**\n",
        "\n",
        "\n",
        "\n",
        "\n",
        "\n"
      ]
    },
    {
      "cell_type": "code",
      "metadata": {
        "colab": {
          "base_uri": "https://localhost:8080/"
        },
        "id": "Kb3NCa7QU81p",
        "outputId": "ba244bae-57e9-437e-8e29-f99f29c41d8a"
      },
      "source": [
        "ponderacao_por_verossimilhanca(grass_model, 'G', None, 5)"
      ],
      "execution_count": null,
      "outputs": [
        {
          "output_type": "stream",
          "text": [
            "Valor aproximado para a consulta: \n"
          ],
          "name": "stdout"
        },
        {
          "output_type": "execute_result",
          "data": {
            "text/plain": [
              "{'F': 0.8, 'T': 0.2}"
            ]
          },
          "metadata": {
            "tags": []
          },
          "execution_count": 268
        }
      ]
    },
    {
      "cell_type": "markdown",
      "metadata": {
        "id": "gAhh6om3U81q"
      },
      "source": [
        "*   **Para 50 amostras:**\n",
        "\n",
        "\n",
        "\n",
        "\n",
        "\n"
      ]
    },
    {
      "cell_type": "code",
      "metadata": {
        "colab": {
          "base_uri": "https://localhost:8080/"
        },
        "id": "eSpU8Z5UU81q",
        "outputId": "d484f639-e54b-49bc-ff8b-2f7b942c55f3"
      },
      "source": [
        "ponderacao_por_verossimilhanca(grass_model, 'G', None, 50)"
      ],
      "execution_count": null,
      "outputs": [
        {
          "output_type": "stream",
          "text": [
            "Valor aproximado para a consulta: \n"
          ],
          "name": "stdout"
        },
        {
          "output_type": "execute_result",
          "data": {
            "text/plain": [
              "{'F': 0.7, 'T': 0.3}"
            ]
          },
          "metadata": {
            "tags": []
          },
          "execution_count": 269
        }
      ]
    },
    {
      "cell_type": "markdown",
      "metadata": {
        "id": "RpNHvDg9U81r"
      },
      "source": [
        "*   **Para 500 amostras:**\n",
        "\n",
        "\n",
        "\n",
        "\n",
        "\n"
      ]
    },
    {
      "cell_type": "code",
      "metadata": {
        "colab": {
          "base_uri": "https://localhost:8080/"
        },
        "id": "0rczeRlyU81r",
        "outputId": "54d0a70b-253f-4dbb-97d7-ff78569d1c67"
      },
      "source": [
        "ponderacao_por_verossimilhanca(grass_model, 'G', None, 500)"
      ],
      "execution_count": null,
      "outputs": [
        {
          "output_type": "stream",
          "text": [
            "Valor aproximado para a consulta: \n"
          ],
          "name": "stdout"
        },
        {
          "output_type": "execute_result",
          "data": {
            "text/plain": [
              "{'F': 0.824, 'T': 0.176}"
            ]
          },
          "metadata": {
            "tags": []
          },
          "execution_count": 270
        }
      ]
    },
    {
      "cell_type": "markdown",
      "metadata": {
        "id": "u8BzS2E_U81s"
      },
      "source": [
        "$\\ iv. Pr(G \\mid S = True) $\n",
        "\n",
        "Agora passamos um parâmetro para obs.\n",
        "\n",
        "\n"
      ]
    },
    {
      "cell_type": "markdown",
      "metadata": {
        "id": "B3o2oE_7U81s"
      },
      "source": [
        "*   **Para 5 amostras:**\n",
        "\n",
        "\n",
        "\n",
        "\n",
        "\n"
      ]
    },
    {
      "cell_type": "code",
      "metadata": {
        "colab": {
          "base_uri": "https://localhost:8080/"
        },
        "id": "4EAi-QJfU81t",
        "outputId": "c60dbd1e-2162-40e8-fde0-c76c77dbb3c7"
      },
      "source": [
        "obs = dict()\n",
        "obs['S'] = 'T'\n",
        "ponderacao_por_verossimilhanca(grass_model, 'G', obs, 5)"
      ],
      "execution_count": null,
      "outputs": [
        {
          "output_type": "stream",
          "text": [
            "Valor aproximado para a consulta: \n"
          ],
          "name": "stdout"
        },
        {
          "output_type": "execute_result",
          "data": {
            "text/plain": [
              "{'F': 1.0, 'T': 0.0}"
            ]
          },
          "metadata": {
            "tags": []
          },
          "execution_count": 271
        }
      ]
    },
    {
      "cell_type": "markdown",
      "metadata": {
        "id": "kt1amknRU81t"
      },
      "source": [
        "*   **Para 50 amostras:**\n",
        "\n",
        "\n",
        "\n",
        "\n",
        "\n"
      ]
    },
    {
      "cell_type": "code",
      "metadata": {
        "colab": {
          "base_uri": "https://localhost:8080/"
        },
        "id": "lxaXzvK-U81u",
        "outputId": "2c6e9d2b-a8d3-4b0d-9e0d-b31e2cd2f5a8"
      },
      "source": [
        "obs = dict()\n",
        "obs['S'] = 'T'\n",
        "ponderacao_por_verossimilhanca(grass_model, 'G', obs, 50)"
      ],
      "execution_count": null,
      "outputs": [
        {
          "output_type": "stream",
          "text": [
            "Valor aproximado para a consulta: \n"
          ],
          "name": "stdout"
        },
        {
          "output_type": "execute_result",
          "data": {
            "text/plain": [
              "{'F': 1.0, 'T': 0.0}"
            ]
          },
          "metadata": {
            "tags": []
          },
          "execution_count": 272
        }
      ]
    },
    {
      "cell_type": "markdown",
      "metadata": {
        "id": "MK7mjNitU81u"
      },
      "source": [
        "*   **Para 500 amostras:**\n",
        "\n",
        "\n",
        "\n",
        "\n",
        "\n"
      ]
    },
    {
      "cell_type": "code",
      "metadata": {
        "colab": {
          "base_uri": "https://localhost:8080/"
        },
        "id": "duBeQwzEU81v",
        "outputId": "808adb90-17a5-4b56-dbe0-4b15586d92b6"
      },
      "source": [
        "obs = dict()\n",
        "obs['S'] = 'T'\n",
        "ponderacao_por_verossimilhanca(grass_model, 'G', obs, 500)"
      ],
      "execution_count": null,
      "outputs": [
        {
          "output_type": "stream",
          "text": [
            "Valor aproximado para a consulta: \n"
          ],
          "name": "stdout"
        },
        {
          "output_type": "execute_result",
          "data": {
            "text/plain": [
              "{'F': 0.9898154042011459, 'T': 0.010184595798854158}"
            ]
          },
          "metadata": {
            "tags": []
          },
          "execution_count": 273
        }
      ]
    },
    {
      "cell_type": "markdown",
      "metadata": {
        "id": "YuZ1ozW-U81v"
      },
      "source": [
        " $\\ v. Pr(G \\mid S = False) $\n",
        "\n",
        "\n"
      ]
    },
    {
      "cell_type": "markdown",
      "metadata": {
        "id": "b5XTUHSoU81w"
      },
      "source": [
        "*   **Para 5 amostras:**\n",
        "\n",
        "\n",
        "\n",
        "\n",
        "\n"
      ]
    },
    {
      "cell_type": "code",
      "metadata": {
        "colab": {
          "base_uri": "https://localhost:8080/"
        },
        "id": "HIlzDltcU81w",
        "outputId": "095d5182-7cdf-4635-d98b-464d5519cfc6"
      },
      "source": [
        "obs = dict()\n",
        "obs['S'] = 'F'\n",
        "ponderacao_por_verossimilhanca(grass_model, 'G', obs, 5)"
      ],
      "execution_count": null,
      "outputs": [
        {
          "output_type": "stream",
          "text": [
            "Valor aproximado para a consulta: \n"
          ],
          "name": "stdout"
        },
        {
          "output_type": "execute_result",
          "data": {
            "text/plain": [
              "{'F': 0.7999999999999999, 'T': 0.19999999999999998}"
            ]
          },
          "metadata": {
            "tags": []
          },
          "execution_count": 274
        }
      ]
    },
    {
      "cell_type": "markdown",
      "metadata": {
        "id": "UymkRbSKU81w"
      },
      "source": [
        "*   **Para 50 amostras:**\n",
        "\n",
        "\n",
        "\n",
        "\n",
        "\n"
      ]
    },
    {
      "cell_type": "code",
      "metadata": {
        "colab": {
          "base_uri": "https://localhost:8080/"
        },
        "id": "-rrGQJ1iU81x",
        "outputId": "34d2d7d8-cd23-4641-db11-3a26bd195a87"
      },
      "source": [
        "obs = dict()\n",
        "obs['S'] = 'F'\n",
        "ponderacao_por_verossimilhanca(grass_model, 'G', obs, 50)"
      ],
      "execution_count": null,
      "outputs": [
        {
          "output_type": "stream",
          "text": [
            "Valor aproximado para a consulta: \n"
          ],
          "name": "stdout"
        },
        {
          "output_type": "execute_result",
          "data": {
            "text/plain": [
              "{'F': 0.6785109983079527, 'T': 0.32148900169204736}"
            ]
          },
          "metadata": {
            "tags": []
          },
          "execution_count": 275
        }
      ]
    },
    {
      "cell_type": "markdown",
      "metadata": {
        "id": "QeWzLwSNU81x"
      },
      "source": [
        "*   **Para 500 amostras:**\n",
        "\n",
        "\n",
        "\n",
        "\n",
        "\n"
      ]
    },
    {
      "cell_type": "code",
      "metadata": {
        "colab": {
          "base_uri": "https://localhost:8080/"
        },
        "id": "CbC9Ys8eU81y",
        "outputId": "ffa3c779-78f3-42a6-cca2-0d412adec6f4"
      },
      "source": [
        "obs = dict()\n",
        "obs['S'] = 'F'\n",
        "ponderacao_por_verossimilhanca(grass_model, 'G', obs, 500)"
      ],
      "execution_count": null,
      "outputs": [
        {
          "output_type": "stream",
          "text": [
            "Valor aproximado para a consulta: \n"
          ],
          "name": "stdout"
        },
        {
          "output_type": "execute_result",
          "data": {
            "text/plain": [
              "{'F': 0.7151327433628318, 'T': 0.2848672566371682}"
            ]
          },
          "metadata": {
            "tags": []
          },
          "execution_count": 276
        }
      ]
    },
    {
      "cell_type": "markdown",
      "metadata": {
        "id": "67nTe3ZxbxjH"
      },
      "source": [
        "### Conclusão\n",
        "\n",
        "Analisando os resultados obtidos pelas consultas realizadas através dos dois métodos, percebebemos que na maior parte dos casos, quanto maior o número de amostras analisadas, mais acurada a aproximação para os valores de probabilidade se torna. Esse é um resultado esperado, que está de acordo com a Lei dos Grandes Números e seria mais facilmente observado se trabalhássemos com amostras de tamanhos ainda maiores que 500.\n",
        "\n"
      ]
    }
  ]
}